{
 "cells": [
  {
   "cell_type": "markdown",
   "metadata": {},
   "source": [
    "# APIs - Cumulative Lab\n",
    "\n",
    "\n",
    "## Introduction \n",
    "\n",
    "We've seen how the Yelp API works and how to create basic visualizations using Folium. It's time to put those skills to work in order to create a working map! Taking things a step further, you'll also independently explore how to perform pagination in order to retrieve a full results set from the Yelp API.\n",
    "\n",
    "## Objectives\n",
    "\n",
    "You will be able to: \n",
    "\n",
    "* Practice using functions to organize your code\n",
    "* Use pagination to retrieve all results from an API query\n",
    "* Practice parsing data returned from an API query\n",
    "* Practice interpreting visualizations of a dataset\n",
    "* Create maps using Folium"
   ]
  },
  {
   "cell_type": "markdown",
   "metadata": {},
   "source": [
    "## Your Task: Query Yelp for All Businesses in a Category and Analyze the Results\n",
    "\n",
    "![restaurant counter with pizza](images/restaurant_counter.jpg)\n",
    "\n",
    "Photo by <a href=\"https://unsplash.com/@jordanmadrid?utm_source=unsplash&utm_medium=referral&utm_content=creditCopyText\">Jordan Madrid</a> on <a href=\"/s/photos/pizza-restaurant?utm_source=unsplash&utm_medium=referral&utm_content=creditCopyText\">Unsplash</a>"
   ]
  },
  {
   "cell_type": "markdown",
   "metadata": {},
   "source": [
    "### Overview\n",
    "\n",
    "You've now worked with some API calls, but we have yet to see how to retrieve a more complete dataset in a programmatic manner. In this lab, you will write a query of businesses on Yelp, then use *pagination* to retrieve all possible results for that query. Then you will create a summary of your findings, including a Folium map of the geographic locations of those businesses.\n",
    "\n",
    "### Technical Details\n",
    "\n",
    "Returning to the Yelp API, the [documentation](https://www.yelp.com/developers/documentation/v3/business_search) also provides us details regarding the **API limits**. These often include details about the number of requests a user is allowed to make within a specified time limit and the maximum number of results to be returned. In this case, we are told that any request has a **maximum of 50 results per request** and defaults to 20. Furthermore, any search will be limited to a **total of 1000 results**. To retrieve all 1000 of these results, we would have to page through the results piece by piece, retrieving 50 at a time. Processes such as these are often referred to as pagination.\n",
    "\n",
    "Also, be mindful of the **API** ***rate*** **limits**. You can only make **5000 requests per day** and are also can make requests too fast. Start prototyping small before running a loop that could be faulty. You can also use `time.sleep(n)` to add delays. For more details see https://www.yelp.com/developers/documentation/v3/rate_limiting.\n",
    "\n",
    "In this lab, you will define a search and then paginate over the results to retrieve all of the results. You'll then parse these responses as a list of dictionaries (for further exploration) and create a map using Folium to visualize the results geographically.\n",
    "\n",
    "### Requirements\n",
    "\n",
    "#### 1. Make the Initial Request\n",
    "\n",
    "Start by filling in your API key to make the initial request to the business search API. Investigate the structure of the response you get back and start figuring out how you will extract the relevant information.\n",
    "\n",
    "#### 2. Add Pagination\n",
    "\n",
    "Using loops and functions, collect the maximum number of results for your query from the API.\n",
    "\n",
    "#### 3. Perform Exploratory Analysis\n",
    "\n",
    "Interpret visualizations related to the price range, average rating, and number of reviews for all query results.\n",
    "\n",
    "#### 4. Create a Folium Map\n",
    "\n",
    "Using latitude and longitude data, plot the query results on an interactive map."
   ]
  },
  {
   "cell_type": "markdown",
   "metadata": {},
   "source": [
    "## 1. Make the Initial Request\n",
    "\n",
    "### Querying\n",
    "\n",
    "Start by making an initial request to the Yelp API. Your search must include at least 2 parameters: **term** and **location**. For example, you might search for pizza restaurants in NYC. The term and location is up to you but make the request below.\n",
    "\n",
    "Use the `requests` library ([documentation here](https://requests.readthedocs.io/en/master/user/quickstart/#make-a-request)).\n",
    "\n",
    "You'll also need an API key from Yelp. If you haven't done this already, go to the Yelp [Manage App page](https://www.yelp.com/developers/v3/manage_app) and create a new app (after making an account if you haven't already)."
   ]
  },
  {
   "cell_type": "code",
   "execution_count": 3,
   "metadata": {},
   "outputs": [
    {
     "data": {
      "text/plain": [
       "<Response [200]>"
      ]
     },
     "execution_count": 3,
     "metadata": {},
     "output_type": "execute_result"
    }
   ],
   "source": [
    "# Replace None with appropriate code\n",
    "\n",
    "# Import the requests library\n",
    "import requests\n",
    "\n",
    "# Get this from the \"Manage App\" page. Make sure you set them\n",
    "# back to None before pushing this to GitHub, since otherwise\n",
    "# your credentials will be compromised\n",
    "api_key = None\n",
    "\n",
    "# These can be whatever you want! But the solution uses \"pizza\"\n",
    "# and \"New York NY\" if you want to compare your work directly\n",
    "term = 'pizza'\n",
    "location = 'New York NY'\n",
    "\n",
    "# Set up params for request\n",
    "url = \"https://api.yelp.com/v3/businesses/search\"\n",
    "headers = {\n",
    "    \"Authorization\": \"Bearer {}\".format(api_key)\n",
    "}\n",
    "url_params = {\n",
    "    \"term\": term.replace(\" \", \"+\"),\n",
    "    \"location\": location.replace(\" \", \"+\")\n",
    "}\n",
    "\n",
    "# Make the request using requests.get, passing in\n",
    "# url, headers=headers, and params=url_params\n",
    "response = requests.get(url, headers=headers, params=url_params)\n",
    "\n",
    "# Confirm we got a 200 response\n",
    "response"
   ]
  },
  {
   "cell_type": "code",
   "execution_count": 4,
   "metadata": {},
   "outputs": [
    {
     "data": {
      "text/plain": [
       "dict_keys(['businesses', 'total', 'region'])"
      ]
     },
     "execution_count": 4,
     "metadata": {},
     "output_type": "execute_result"
    }
   ],
   "source": [
    "# Run this cell without changes\n",
    "\n",
    "# Get the response body in JSON format\n",
    "response_json = response.json()\n",
    "# View the keys\n",
    "response_json.keys()"
   ]
  },
  {
   "cell_type": "markdown",
   "metadata": {},
   "source": [
    "### Extracting Data\n",
    "\n",
    "Now, retrieve the value associated with the `'businesses'` key, and inspect its contents."
   ]
  },
  {
   "cell_type": "code",
   "execution_count": 11,
   "metadata": {
    "scrolled": true
   },
   "outputs": [
    {
     "data": {
      "text/plain": [
       "[{'id': 'zj8Lq1T8KIC5zwFief15jg',\n",
       "  'alias': 'prince-street-pizza-new-york-2',\n",
       "  'name': 'Prince Street Pizza',\n",
       "  'image_url': 'https://s3-media3.fl.yelpcdn.com/bphoto/ZAukOyv530w4KjOHC5YY1w/o.jpg',\n",
       "  'is_closed': False,\n",
       "  'url': 'https://www.yelp.com/biz/prince-street-pizza-new-york-2?adjust_creative=7jn-H8ipSxJWsQjWj2Jinw&utm_campaign=yelp_api_v3&utm_medium=api_v3_business_search&utm_source=7jn-H8ipSxJWsQjWj2Jinw',\n",
       "  'review_count': 3961,\n",
       "  'categories': [{'alias': 'pizza', 'title': 'Pizza'},\n",
       "   {'alias': 'italian', 'title': 'Italian'}],\n",
       "  'rating': 4.5,\n",
       "  'coordinates': {'latitude': 40.72308755605564,\n",
       "   'longitude': -73.99453001177575},\n",
       "  'transactions': ['pickup', 'delivery'],\n",
       "  'price': '$',\n",
       "  'location': {'address1': '27 Prince St',\n",
       "   'address2': None,\n",
       "   'address3': '',\n",
       "   'city': 'New York',\n",
       "   'zip_code': '10012',\n",
       "   'country': 'US',\n",
       "   'state': 'NY',\n",
       "   'display_address': ['27 Prince St', 'New York, NY 10012']},\n",
       "  'phone': '+12129664100',\n",
       "  'display_phone': '(212) 966-4100',\n",
       "  'distance': 1961.8771417367063},\n",
       " {'id': 'ysqgdbSrezXgVwER2kQWKA',\n",
       "  'alias': 'julianas-brooklyn-3',\n",
       "  'name': \"Juliana's\",\n",
       "  'image_url': 'https://s3-media2.fl.yelpcdn.com/bphoto/clscwgOF9_Ecq-Rwsq7jyQ/o.jpg',\n",
       "  'is_closed': False,\n",
       "  'url': 'https://www.yelp.com/biz/julianas-brooklyn-3?adjust_creative=7jn-H8ipSxJWsQjWj2Jinw&utm_campaign=yelp_api_v3&utm_medium=api_v3_business_search&utm_source=7jn-H8ipSxJWsQjWj2Jinw',\n",
       "  'review_count': 2352,\n",
       "  'categories': [{'alias': 'pizza', 'title': 'Pizza'}],\n",
       "  'rating': 4.5,\n",
       "  'coordinates': {'latitude': 40.70274718768062,\n",
       "   'longitude': -73.99343490196397},\n",
       "  'transactions': ['delivery'],\n",
       "  'price': '$$',\n",
       "  'location': {'address1': '19 Old Fulton St',\n",
       "   'address2': '',\n",
       "   'address3': '',\n",
       "   'city': 'Brooklyn',\n",
       "   'zip_code': '11201',\n",
       "   'country': 'US',\n",
       "   'state': 'NY',\n",
       "   'display_address': ['19 Old Fulton St', 'Brooklyn, NY 11201']},\n",
       "  'phone': '+17185966700',\n",
       "  'display_phone': '(718) 596-6700',\n",
       "  'distance': 308.56984360837544}]"
      ]
     },
     "execution_count": 11,
     "metadata": {},
     "output_type": "execute_result"
    }
   ],
   "source": [
    "# Replace None with appropriate code\n",
    "\n",
    "# Retrieve the value from response_json\n",
    "businesses = response_json['businesses']\n",
    "\n",
    "# View the first 2 records\n",
    "businesses[:2]"
   ]
  },
  {
   "cell_type": "markdown",
   "metadata": {},
   "source": [
    "### Preparing Data\n",
    "\n",
    "Write a function `prepare_data` that takes in a list of dictionaries like `businesses` and returns a copy that has been prepared for analysis:\n",
    "\n",
    "1. The `coordinates` key-value pair has been converted into two separate key-value pairs, `latitude` and `longitude`\n",
    "2. All other key-value pairs except for `name`, `review_count`, `rating`, and `price` have been dropped\n",
    "3. All dictionaries missing one of the relevant keys or containing null values have been dropped\n",
    "\n",
    "In other words, the final keys for each dictionary should be `name`, `review_count`, `rating`, `price`, `latitude`, and `longitude`.\n",
    "\n",
    "Complete the function in the cell below:"
   ]
  },
  {
   "cell_type": "code",
   "execution_count": 30,
   "metadata": {},
   "outputs": [
    {
     "data": {
      "text/plain": [
       "[{'name': 'Prince Street Pizza',\n",
       "  'review_count': 3961,\n",
       "  'rating': 4.5,\n",
       "  'price': '$',\n",
       "  'latitude': 40.72308755605564,\n",
       "  'longitude': -73.99453001177575},\n",
       " {'name': \"Juliana's\",\n",
       "  'review_count': 2352,\n",
       "  'rating': 4.5,\n",
       "  'price': '$$',\n",
       "  'latitude': 40.70274718768062,\n",
       "  'longitude': -73.99343490196397},\n",
       " {'name': \"Lombardi's Pizza\",\n",
       "  'review_count': 6187,\n",
       "  'rating': 4.0,\n",
       "  'price': '$$',\n",
       "  'latitude': 40.7215934960083,\n",
       "  'longitude': -73.9955956044561},\n",
       " {'name': 'Lucali',\n",
       "  'review_count': 1702,\n",
       "  'rating': 4.0,\n",
       "  'price': '$$',\n",
       "  'latitude': 40.6818,\n",
       "  'longitude': -74.00024},\n",
       " {'name': 'Rubirosa',\n",
       "  'review_count': 2433,\n",
       "  'rating': 4.5,\n",
       "  'price': '$$',\n",
       "  'latitude': 40.722766,\n",
       "  'longitude': -73.996233},\n",
       " {'name': \"Roberta's\",\n",
       "  'review_count': 2998,\n",
       "  'rating': 4.0,\n",
       "  'price': '$$',\n",
       "  'latitude': 40.70493,\n",
       "  'longitude': -73.93399},\n",
       " {'name': \"L'industrie Pizzeria\",\n",
       "  'review_count': 593,\n",
       "  'rating': 4.5,\n",
       "  'price': '$',\n",
       "  'latitude': 40.71162,\n",
       "  'longitude': -73.95783},\n",
       " {'name': \"Joe's Pizza\",\n",
       "  'review_count': 2666,\n",
       "  'rating': 4.0,\n",
       "  'price': '$',\n",
       "  'latitude': 40.73055520355198,\n",
       "  'longitude': -74.00211632377929},\n",
       " {'name': \"John's of Bleecker Street\",\n",
       "  'review_count': 2150,\n",
       "  'rating': 4.0,\n",
       "  'price': '$$',\n",
       "  'latitude': 40.73158,\n",
       "  'longitude': -74.00332},\n",
       " {'name': \"Paulie Gee's\",\n",
       "  'review_count': 1283,\n",
       "  'rating': 4.5,\n",
       "  'price': '$$',\n",
       "  'latitude': 40.729546,\n",
       "  'longitude': -73.958568},\n",
       " {'name': 'Di Fara Pizza',\n",
       "  'review_count': 3649,\n",
       "  'rating': 4.0,\n",
       "  'price': '$$',\n",
       "  'latitude': 40.625093,\n",
       "  'longitude': -73.961531},\n",
       " {'name': \"Grimaldi's Pizzeria\",\n",
       "  'review_count': 4681,\n",
       "  'rating': 3.5,\n",
       "  'price': '$$',\n",
       "  'latitude': 40.702583,\n",
       "  'longitude': -73.9932413},\n",
       " {'name': \"Lombardo's of Bay Ridge\",\n",
       "  'review_count': 154,\n",
       "  'rating': 5.0,\n",
       "  'price': '$$',\n",
       "  'latitude': 40.634741,\n",
       "  'longitude': -74.0284259},\n",
       " {'name': 'Bleecker Street Pizza',\n",
       "  'review_count': 2445,\n",
       "  'rating': 4.0,\n",
       "  'price': '$',\n",
       "  'latitude': 40.7320627016512,\n",
       "  'longitude': -74.0036552270137},\n",
       " {'name': \"Joe's Pizza\",\n",
       "  'review_count': 947,\n",
       "  'rating': 4.0,\n",
       "  'price': '$',\n",
       "  'latitude': 40.73331,\n",
       "  'longitude': -73.98763},\n",
       " {'name': 'East Village Pizza',\n",
       "  'review_count': 380,\n",
       "  'rating': 4.0,\n",
       "  'price': '$',\n",
       "  'latitude': 40.728199,\n",
       "  'longitude': -73.985182},\n",
       " {'name': 'Piz-zetta',\n",
       "  'review_count': 303,\n",
       "  'rating': 4.5,\n",
       "  'price': '$',\n",
       "  'latitude': 40.6912834070746,\n",
       "  'longitude': -73.9906029201042},\n",
       " {'name': \"Scarr's Pizza\",\n",
       "  'review_count': 496,\n",
       "  'rating': 4.0,\n",
       "  'price': '$',\n",
       "  'latitude': 40.71534,\n",
       "  'longitude': -73.9914},\n",
       " {'name': 'Brunetti Pizza',\n",
       "  'review_count': 310,\n",
       "  'rating': 4.5,\n",
       "  'price': '$$',\n",
       "  'latitude': 40.73829,\n",
       "  'longitude': -74.0054}]"
      ]
     },
     "execution_count": 30,
     "metadata": {},
     "output_type": "execute_result"
    }
   ],
   "source": [
    "# Replace None with appropriate code\n",
    "\n",
    "def prepare_data(data_list):\n",
    "    \"\"\"\n",
    "    This function takes in a list of dictionaries and prepares it\n",
    "    for analysis\n",
    "    \"\"\"\n",
    "    \n",
    "    # Make a new list to hold results\n",
    "    results = []\n",
    "    \n",
    "    for business_data in data_list:\n",
    "    \n",
    "        # Make a new dictionary to hold prepared data for this business\n",
    "        prepared_data = {}\n",
    "        \n",
    "        # Extract name, review_count, rating, and price key-value pairs\n",
    "        # from business_data and add to prepared_data\n",
    "        # If a key is not present in business_data, add it to prepared_data\n",
    "        # with an associated value of None\n",
    "        for key in (\"name\", \"review_count\", \"rating\", \"price\"):\n",
    "            prepared_data[key] = business_data.get(key, None)\n",
    "    \n",
    "        # Parse and add latitude and longitude columns\n",
    "        coordinates = business_data['coordinates']\n",
    "        prepared_data['latitude'] = coordinates['latitude']\n",
    "        prepared_data['longitude'] = coordinates['longitude']\n",
    "        \n",
    "        # Add to list if all values are present\n",
    "        if all(prepared_data.values()):\n",
    "            results.append(prepared_data)\n",
    "    \n",
    "    return results\n",
    "    \n",
    "# Test out function\n",
    "prepared_businesses = prepare_data(businesses)\n",
    "prepared_businesses"
   ]
  },
  {
   "cell_type": "markdown",
   "metadata": {},
   "source": [
    "Check that your function created the correct keys:"
   ]
  },
  {
   "cell_type": "code",
   "execution_count": 31,
   "metadata": {},
   "outputs": [],
   "source": [
    "# Run this cell without changes\n",
    "\n",
    "assert sorted(list(prepared_businesses[0].keys())) == ['latitude', 'longitude', 'name', 'price', 'rating', 'review_count']"
   ]
  },
  {
   "cell_type": "markdown",
   "metadata": {},
   "source": [
    "The following code will differ depending on your query, but we expect there to be 20 businesses in the original list, and potentially fewer in the prepared list (if any of them were missing data):"
   ]
  },
  {
   "cell_type": "code",
   "execution_count": 32,
   "metadata": {},
   "outputs": [
    {
     "name": "stdout",
     "output_type": "stream",
     "text": [
      "Original: 20\n",
      "Prepared: 19\n"
     ]
    }
   ],
   "source": [
    "# Run this cell without changes\n",
    "print(\"Original:\", len(businesses))\n",
    "print(\"Prepared:\", len(prepared_businesses))"
   ]
  },
  {
   "cell_type": "markdown",
   "metadata": {},
   "source": [
    "Great! We will reuse this function once we have retrieved the full dataset."
   ]
  },
  {
   "cell_type": "markdown",
   "metadata": {},
   "source": [
    "## 2. Add Pagination\n",
    "\n",
    "Now that you are able to extract information from one page of the response, let's figure out how to request as many pages as possible.\n",
    "\n",
    "### Determining the Total\n",
    "\n",
    "Depending on the number of total results for your query, you will either retrieve all of the results, or just the first 1000 (if there are more than 1000 total).\n",
    "\n",
    "We can find the total number of results using the `\"total\"` key:"
   ]
  },
  {
   "cell_type": "code",
   "execution_count": 19,
   "metadata": {},
   "outputs": [
    {
     "data": {
      "text/plain": [
       "11800"
      ]
     },
     "execution_count": 19,
     "metadata": {},
     "output_type": "execute_result"
    }
   ],
   "source": [
    "# Run this cell without changes\n",
    "response_json[\"total\"]"
   ]
  },
  {
   "cell_type": "markdown",
   "metadata": {},
   "source": [
    "(This is specific to the implementation of the Yelp API. Some APIs will just tell you that there are more pages, or will tell you the number of pages total, rather than the total number of results. If you're not sure, always check the documentation.)\n",
    "\n",
    "In the cell below, assign the variable `total` to either the value shown above (if it is less than 1000), or 1000."
   ]
  },
  {
   "cell_type": "code",
   "execution_count": 20,
   "metadata": {},
   "outputs": [],
   "source": [
    "# Replace None with appropriate code\n",
    "total = 1000"
   ]
  },
  {
   "cell_type": "markdown",
   "metadata": {},
   "source": [
    "### Calculating the Offsets\n",
    "\n",
    "The documentation states in the parameters section:\n",
    "\n",
    "> **Name**: `limit`, **Type:** int, **Description:** Optional. Number of business results to return. By default, it will return 20. Maximum is 50.\n",
    "\n",
    "> **Name**: `offset`, **Type:** int, **Description:** Optional. Offset the list of returned business results by this amount.\n",
    "\n",
    "So, to get the most results with the fewest API calls we want to set a limit of 50 every time. If, say, we wanted to get 210 total results, that would mean:\n",
    "\n",
    "1. Offset of `0` (first 50 records)\n",
    "2. Offset of `50` (second 50 records)\n",
    "3. Offset of `100` (third 50 records)\n",
    "4. Offset of `150` (fourth 50 records)\n",
    "5. Offset of `200` (final 10 records)\n",
    "\n",
    "In the cell below, create a function `get_offsets` that takes in a total and returns a list of offsets for that total. You can assume that there is a limit of 50 every time.\n",
    "\n",
    "*Hint: you can use `range` ([documentation here](https://docs.python.org/3.3/library/stdtypes.html?highlight=range#range)) to do this in one line of code. Just make the returned result is a list.*"
   ]
  },
  {
   "cell_type": "code",
   "execution_count": 41,
   "metadata": {},
   "outputs": [
    {
     "data": {
      "text/plain": [
       "[0,\n",
       " 50,\n",
       " 100,\n",
       " 150,\n",
       " 200,\n",
       " 250,\n",
       " 300,\n",
       " 350,\n",
       " 400,\n",
       " 450,\n",
       " 500,\n",
       " 550,\n",
       " 600,\n",
       " 650,\n",
       " 700,\n",
       " 750,\n",
       " 800,\n",
       " 850,\n",
       " 900,\n",
       " 950]"
      ]
     },
     "execution_count": 41,
     "metadata": {},
     "output_type": "execute_result"
    }
   ],
   "source": [
    "# Replace None with appropriate code\n",
    "def get_offsets(total):\n",
    "    \"\"\"\n",
    "    Get a list of offsets needed to get all pages\n",
    "    of data up until the total\n",
    "    \"\"\"\n",
    "    return list(range(0, total, 50))\n",
    "#     pages = int(total/50)\n",
    "#     offset = 0\n",
    "#     offsets = []\n",
    "#     for page in range(pages):\n",
    "#         offsets.append(offset)\n",
    "#         offset += 50\n",
    "        \n",
    "#     return offsets\n",
    "        \n",
    "        \n",
    "get_offsets(total)    "
   ]
  },
  {
   "cell_type": "markdown",
   "metadata": {},
   "source": [
    "Check that your function works below:"
   ]
  },
  {
   "cell_type": "code",
   "execution_count": 42,
   "metadata": {},
   "outputs": [],
   "source": [
    "# Run this cell without changes\n",
    "\n",
    "assert get_offsets(200) == [0, 50, 100, 150]\n",
    "assert get_offsets(210) == [0, 50, 100, 150, 200]"
   ]
  },
  {
   "cell_type": "markdown",
   "metadata": {},
   "source": [
    "### Putting It All Together\n",
    "\n",
    "Recall that the following variable has already been declared for you:"
   ]
  },
  {
   "cell_type": "code",
   "execution_count": 36,
   "metadata": {},
   "outputs": [
    {
     "data": {
      "text/plain": [
       "{'term': 'pizza', 'location': 'New+York+NY'}"
      ]
     },
     "execution_count": 36,
     "metadata": {},
     "output_type": "execute_result"
    }
   ],
   "source": [
    "# Run this cell without changes\n",
    "url_params"
   ]
  },
  {
   "cell_type": "markdown",
   "metadata": {},
   "source": [
    "We'll go ahead and also specify that the limit should be 50 every time:"
   ]
  },
  {
   "cell_type": "code",
   "execution_count": 37,
   "metadata": {},
   "outputs": [],
   "source": [
    "# Run this cell without changes\n",
    "url_params[\"limit\"] = 50"
   ]
  },
  {
   "cell_type": "markdown",
   "metadata": {},
   "source": [
    "In order to modify the offset, you'll need to add it to `url_params` with the key `\"offset\"` and whatever value is needed.\n",
    "\n",
    "In the cell below, write code that:\n",
    "\n",
    "* Creates an empty list for the full prepared dataset\n",
    "* Loops over all of the offsets from `get_offsets` and makes an API call each time with the specified offset\n",
    "* Calls `prepare_data` to get a cleaned version of the result of each API call\n",
    "* Extends the full prepared dataset list with each query's prepared dataset"
   ]
  },
  {
   "cell_type": "code",
   "execution_count": 38,
   "metadata": {},
   "outputs": [
    {
     "data": {
      "text/plain": [
       "792"
      ]
     },
     "execution_count": 38,
     "metadata": {},
     "output_type": "execute_result"
    }
   ],
   "source": [
    "# Replace None with appropriate code\n",
    "\n",
    "# Create an empty list for the full prepared dataset\n",
    "full_dataset = []\n",
    "\n",
    "for offset in get_offsets(total):\n",
    "    # Add or update the \"offset\" key-value pair in url_params\n",
    "    url_params[\"offset\"] = offset\n",
    "    \n",
    "    # Make the query and get the response\n",
    "    response = requests.get(url, headers=headers, params=url_params)\n",
    "    \n",
    "    # Get the response body in JSON format\n",
    "    response_json = response.json()\n",
    "    \n",
    "    # Get the list of businesses from the response_json\n",
    "    businesses = response_json['businesses']\n",
    "    \n",
    "    # Call the prepare_data function to get a list of processed data\n",
    "    prepared_businesses = prepare_data(businesses)\n",
    "    \n",
    "    # Extend full_dataset with this list (don't append, or you'll get\n",
    "    # a list of lists instead of a flat list)\n",
    "    full_dataset.extend(prepared_businesses)\n",
    "\n",
    "# Check the length of the full dataset. It will be up to `total`,\n",
    "# potentially less if there were missing values\n",
    "len(full_dataset)"
   ]
  },
  {
   "cell_type": "markdown",
   "metadata": {},
   "source": [
    "This code may take up to a few minutes to run.\n",
    "\n",
    "If you get an error trying to get the response body in JSON format, try adding `time.sleep(1)` right after the `requests.get` line, so your code will sleep for 1 second between each API call."
   ]
  },
  {
   "cell_type": "markdown",
   "metadata": {},
   "source": [
    "## 3. Perform Exploratory Analysis\n",
    "\n",
    "Take the businesses from the previous question and do an initial exploratory analysis. We have provided some plots for you to interpret:"
   ]
  },
  {
   "cell_type": "code",
   "execution_count": 43,
   "metadata": {},
   "outputs": [
    {
     "data": {
      "image/png": "[encoded data removed]",
      "text/plain": [
       "<Figure size 1152x360 with 3 Axes>"
      ]
     },
     "metadata": {
      "needs_background": "light"
     },
     "output_type": "display_data"
    }
   ],
   "source": [
    "# Run this cell without changes\n",
    "from collections import Counter\n",
    "import matplotlib.pyplot as plt\n",
    "%matplotlib inline\n",
    "\n",
    "fig, (ax1, ax2, ax3) = plt.subplots(ncols=3, figsize=(16, 5))\n",
    "\n",
    "# Plot distribution of number of reviews\n",
    "all_review_counts = [x[\"review_count\"] for x in full_dataset]\n",
    "ax1.hist(all_review_counts)\n",
    "ax1.set_title(\"Review Count Distribution\")\n",
    "ax1.set_xlabel(\"Number of Reviews\")\n",
    "ax1.set_ylabel(\"Number of Businesses\")\n",
    "\n",
    "# Plot rating distribution\n",
    "all_ratings = [x[\"rating\"] for x in full_dataset]\n",
    "rating_counter = Counter(all_ratings)\n",
    "rating_keys = sorted(rating_counter.keys())\n",
    "ax2.bar(rating_keys, [rating_counter[key] for key in rating_keys])\n",
    "ax2.set_title(\"Rating Distribution\")\n",
    "ax2.set_xlabel(\"Rating\")\n",
    "ax2.set_ylabel(\"Number of Businesses\")\n",
    "\n",
    "# Plot price distribution\n",
    "all_prices = [x[\"price\"].replace(\"$\", r\"\\$\") for x in full_dataset]\n",
    "price_counter = Counter(all_prices)\n",
    "price_keys = sorted(price_counter.keys())\n",
    "ax3.bar(price_keys, [price_counter[key] for key in price_keys])\n",
    "ax3.set_title(\"Price Distribution\")\n",
    "ax3.set_xlabel(\"Price Category\")\n",
    "ax3.set_ylabel(\"Number of Businesses\");"
   ]
  },
  {
   "cell_type": "markdown",
   "metadata": {},
   "source": [
    "Describe the distributions displayed above and interpret them in the context of your query. (Your answer may differ from the solution branch depending on your query.)"
   ]
  },
  {
   "cell_type": "code",
   "execution_count": null,
   "metadata": {},
   "outputs": [],
   "source": [
    "# Replace None with appropriate text\n",
    "\"\"\"\n",
    "There is an extreme drop off in the number of businesses that have more than\n",
    "about 1000 reviews. Only 30-50 businesses break the 1800+ review mark. And \n",
    "after that maybe just a dozen or 2 make it to 4000 reviews.  This could be do\n",
    "to the shear amount of businesses that have opened in New York and only ones\n",
    "that have been around for enough time and also have a big enough repuation\n",
    "have the factors to push the review amount up.\n",
    "\n",
    "The rating for these businesses is largely positive with at least half of\n",
    "the total businesses recieving a 4 start rating.\n",
    "\n",
    "The price distribution is heavely skewed to the lower cost side with almost\n",
    "all businesses falling into the first 2 categories and very few in the pricier\n",
    "2.\n",
    "\"\"\""
   ]
  },
  {
   "cell_type": "markdown",
   "metadata": {},
   "source": [
    "In the cell below, we also plot the rating distributions by price. In this setup, a price of one dollar sign is \"lower price\" and everything else is \"higher price\"."
   ]
  },
  {
   "cell_type": "code",
   "execution_count": 44,
   "metadata": {},
   "outputs": [
    {
     "data": {
      "image/png": "[encoded data removed]",
      "text/plain": [
       "<Figure size 432x288 with 1 Axes>"
      ]
     },
     "metadata": {
      "needs_background": "light"
     },
     "output_type": "display_data"
    }
   ],
   "source": [
    "# Run this cell without changes\n",
    "\n",
    "higher_price = []\n",
    "lower_price = []\n",
    "for row in full_dataset:\n",
    "    if row[\"price\"] == \"$\":\n",
    "        lower_price.append(row[\"rating\"])\n",
    "    else:\n",
    "        higher_price.append(row[\"rating\"])\n",
    "        \n",
    "fig, ax = plt.subplots()\n",
    "\n",
    "ax.hist([higher_price, lower_price], label=[\"higher price\", \"lower price\"], density=True)\n",
    "\n",
    "ax.legend();"
   ]
  },
  {
   "cell_type": "markdown",
   "metadata": {},
   "source": [
    "Is a higher price associated with a higher rating? (No need for any additional math/statistics, just interpret what you see in the plot.)"
   ]
  },
  {
   "cell_type": "code",
   "execution_count": null,
   "metadata": {},
   "outputs": [],
   "source": [
    "# Replace None with appropriate text\n",
    "\"\"\"\n",
    "Higher price does seem to correlate with higher rating since the bulk of\n",
    "reviews for higher priced businesses is in the 4-4.5 range.  This is\n",
    "somewhat expected since the quality of service and food is expected to be\n",
    "higher at more expensive businesses.  However, this relationship seems to be \n",
    "the same for lower priced restaurants as well so it seems the review ratings\n",
    "are only loosely associated with price.\n",
    "\"\"\""
   ]
  },
  {
   "cell_type": "markdown",
   "metadata": {},
   "source": [
    "Finally, let's look at ratings vs. review counts:"
   ]
  },
  {
   "cell_type": "code",
   "execution_count": 45,
   "metadata": {},
   "outputs": [
    {
     "data": {
      "image/png": "[encoded data removed]",
      "text/plain": [
       "<Figure size 1152x360 with 1 Axes>"
      ]
     },
     "metadata": {
      "needs_background": "light"
     },
     "output_type": "display_data"
    }
   ],
   "source": [
    "# Run this cell without changes\n",
    "fig, ax = plt.subplots(figsize=(16,5))\n",
    "\n",
    "ax.scatter(all_review_counts, all_ratings, alpha=0.2)\n",
    "ax.set_xlabel(\"Number of Reviews\")\n",
    "ax.set_ylabel(\"Rating\")\n",
    "# \"zoom in\" to a subset of review counts\n",
    "ax.set_xlim(left=0, right=1000);"
   ]
  },
  {
   "cell_type": "markdown",
   "metadata": {},
   "source": [
    "Is a higher number of reviews associated with a higher rating?"
   ]
  },
  {
   "cell_type": "code",
   "execution_count": null,
   "metadata": {},
   "outputs": [],
   "source": [
    "# Replace None with appropriate text\n",
    "\"\"\"\n",
    "Yes, the higher number of reviews are represented in the higher ratings.\n",
    "However this seems like it would be self fulfilling data in that places\n",
    "with higher reviews would get more traffic and therefore more reviews which\n",
    "would lead to this trend inevitably.\n",
    "\"\"\""
   ]
  },
  {
   "cell_type": "markdown",
   "metadata": {},
   "source": [
    "## 4. Create a Folium Map\n",
    "\n",
    "Make a map using Folium of the businesses you retrieved. Be sure to also add popups to the markers giving some basic information such as name, rating and price.\n",
    "\n",
    "You can center the map around the latitude and longitude of the first item in `full_dataset`."
   ]
  },
  {
   "cell_type": "code",
   "execution_count": 51,
   "metadata": {},
   "outputs": [
    {
     "data": {
      "text/html": [
       "<div style=\"width:100%;\"><div style=\"position:relative;width:100%;height:0;padding-bottom:60%;\"><span style=\"color:#565656\">Make this Notebook Trusted to load map: File -> Trust Notebook</span><iframe src=\"about:blank\" style=\"position:absolute;width:100%;height:100%;left:0;top:0;border:none !important;\" data-html=PCFET0NUWVBFIGh0bWw+CjxoZWFkPiAgICAKICAgIDxtZXRhIGh0dHAtZXF1aXY9ImNvbnRlbnQtdHlwZSIgY29udGVudD0idGV4dC9odG1sOyBjaGFyc2V0PVVURi04IiAvPgogICAgCiAgICAgICAgPHNjcmlwdD4KICAgICAgICAgICAgTF9OT19UT1VDSCA9IGZhbHNlOwogICAgICAgICAgICBMX0RJU0FCTEVfM0QgPSBmYWxzZTsKICAgICAgICA8L3NjcmlwdD4KICAgIAogICAgPHNjcmlwdCBzcmM9Imh0dHBzOi8vY2RuLmpzZGVsaXZyLm5ldC9ucG0vbGVhZmxldEAxLjYuMC9kaXN0L2xlYWZsZXQuanMiPjwvc2NyaXB0PgogICAgPHNjcmlwdCBzcmM9Imh0dHBzOi8vY29kZS5qcXVlcnkuY29tL2pxdWVyeS0xLjEyLjQubWluLmpzIj48L3NjcmlwdD4KICAgIDxzY3JpcHQgc3JjPSJodHRwczovL21heGNkbi5ib290c3RyYXBjZG4uY29tL2Jvb3RzdHJhcC8zLjIuMC9qcy9ib290c3RyYXAubWluLmpzIj48L3NjcmlwdD4KICAgIDxzY3JpcHQgc3JjPSJodHRwczovL2NkbmpzLmNsb3VkZmxhcmUuY29tL2FqYXgvbGlicy9MZWFmbGV0LmF3ZXNvbWUtbWFya2Vycy8yLjAuMi9sZWFmbGV0LmF3ZXNvbWUtbWFya2Vycy5qcyI+PC9zY3JpcHQ+CiAgICA8bGluayByZWw9InN0eWxlc2hlZXQiIGhyZWY9Imh0dHBzOi8vY2RuLmpzZGVsaXZyLm5ldC9ucG0vbGVhZmxldEAxLjYuMC9kaXN0L2xlYWZsZXQuY3NzIi8+CiAgICA8bGluayByZWw9InN0eWxlc2hlZXQiIGhyZWY9Imh0dHBzOi8vbWF4Y2RuLmJvb3RzdHJhcGNkbi5jb20vYm9vdHN0cmFwLzMuMi4wL2Nzcy9ib290c3RyYXAubWluLmNzcyIvPgogICAgPGxpbmsgcmVsPSJzdHlsZXNoZWV0IiBocmVmPSJodHRwczovL21heGNkbi5ib290c3RyYXBjZG4uY29tL2Jvb3RzdHJhcC8zLjIuMC9jc3MvYm9vdHN0cmFwLXRoZW1lLm1pbi5jc3MiLz4KICAgIDxsaW5rIHJlbD0ic3R5bGVzaGVldCIgaHJlZj0iaHR0cHM6Ly9tYXhjZG4uYm9vdHN0cmFwY2RuLmNvbS9mb250LWF3ZXNvbWUvNC42LjMvY3NzL2ZvbnQtYXdlc29tZS5taW4uY3NzIi8+CiAgICA8bGluayByZWw9InN0eWxlc2hlZXQiIGhyZWY9Imh0dHBzOi8vY2RuanMuY2xvdWRmbGFyZS5jb20vYWpheC9saWJzL0xlYWZsZXQuYXdlc29tZS1tYXJrZXJzLzIuMC4yL2xlYWZsZXQuYXdlc29tZS1tYXJrZXJzLmNzcyIvPgogICAgPGxpbmsgcmVsPSJzdHlsZXNoZWV0IiBocmVmPSJodHRwczovL3Jhd2Nkbi5naXRoYWNrLmNvbS9weXRob24tdmlzdWFsaXphdGlvbi9mb2xpdW0vbWFzdGVyL2ZvbGl1bS90ZW1wbGF0ZXMvbGVhZmxldC5hd2Vzb21lLnJvdGF0ZS5jc3MiLz4KICAgIDxzdHlsZT5odG1sLCBib2R5IHt3aWR0aDogMTAwJTtoZWlnaHQ6IDEwMCU7bWFyZ2luOiAwO3BhZGRpbmc6IDA7fTwvc3R5bGU+CiAgICA8c3R5bGU+I21hcCB7cG9zaXRpb246YWJzb2x1dGU7dG9wOjA7Ym90dG9tOjA7cmlnaHQ6MDtsZWZ0OjA7fTwvc3R5bGU+CiAgICAKICAgICAgICAgICAgPG1ldGEgbmFtZT0idmlld3BvcnQiIGNvbnRlbnQ9IndpZHRoPWRldmljZS13aWR0aCwKICAgICAgICAgICAgICAgIGluaXRpYWwtc2NhbGU9MS4wLCBtYXhpbXVtLXNjYWxlPTEuMCwgdXNlci1zY2FsYWJsZT1ubyIgLz4KICAgICAgICAgICAgPHN0eWxlPgogICAgICAgICAgICAgICAgI21hcF9hYjVhZGQyMTVmNDk0OTQ4YThkNDdlZjA3MDdkNjNiYiB7CiAgICAgICAgICAgICAgICAgICAgcG9zaXRpb246IHJlbGF0aXZlOwogICAgICAgICAgICAgICAgICAgIHdpZHRoOiAxMDAuMCU7CiAgICAgICAgICAgICAgICAgICAgaGVpZ2h0OiAxMDAuMCU7CiAgICAgICAgICAgICAgICAgICAgbGVmdDogMC4wJTsKICAgICAgICAgICAgICAgICAgICB0b3A6IDAuMCU7CiAgICAgICAgICAgICAgICB9CiAgICAgICAgICAgIDwvc3R5bGU+CiAgICAgICAgCjwvaGVhZD4KPGJvZHk+ICAgIAogICAgCiAgICAgICAgICAgIDxkaXYgY2xhc3M9ImZvbGl1bS1tYXAiIGlkPSJtYXBfYWI1YWRkMjE1ZjQ5NDk0OGE4ZDQ3ZWYwNzA3ZDYzYmIiID48L2Rpdj4KICAgICAgICAKPC9ib2R5Pgo8c2NyaXB0PiAgICAKICAgIAogICAgICAgICAgICB2YXIgbWFwX2FiNWFkZDIxNWY0OTQ5NDhhOGQ0N2VmMDcwN2Q2M2JiID0gTC5tYXAoCiAgICAgICAgICAgICAgICAibWFwX2FiNWFkZDIxNWY0OTQ5NDhhOGQ0N2VmMDcwN2Q2M2JiIiwKICAgICAgICAgICAgICAgIHsKICAgICAgICAgICAgICAgICAgICBjZW50ZXI6IFs0MC43MjMwODc1NTYwNTU2NCwgLTczLjk5NDUzMDAxMTc3NTc1XSwKICAgICAgICAgICAgICAgICAgICBjcnM6IEwuQ1JTLkVQU0czODU3LAogICAgICAgICAgICAgICAgICAgIHpvb206IDEzLAogICAgICAgICAgICAgICAgICAgIHpvb21Db250cm9sOiB0cnVlLAogICAgICAgICAgICAgICAgICAgIHByZWZlckNhbnZhczogZmFsc2UsCiAgICAgICAgICAgICAgICB9CiAgICAgICAgICAgICk7CgogICAgICAgICAgICAKCiAgICAgICAgCiAgICAKICAgICAgICAgICAgdmFyIHRpbGVfbGF5ZXJfNmUwZjVkZDFhNDhlNDM1MDk5NjI1YmFiZjM3NjRjNDggPSBMLnRpbGVMYXllcigKICAgICAgICAgICAgICAgICJodHRwczovL3tzfS50aWxlLm9wZW5zdHJlZXRtYXAub3JnL3t6fS97eH0ve3l9LnBuZyIsCiAgICAgICAgICAgICAgICB7ImF0dHJpYnV0aW9uIjogIkRhdGEgYnkgXHUwMDI2Y29weTsgXHUwMDNjYSBocmVmPVwiaHR0cDovL29wZW5zdHJlZXRtYXAub3JnXCJcdTAwM2VPcGVuU3RyZWV0TWFwXHUwMDNjL2FcdTAwM2UsIHVuZGVyIFx1MDAzY2EgaHJlZj1cImh0dHA6Ly93d3cub3BlbnN0cmVldG1hcC5vcmcvY29weXJpZ2h0XCJcdTAwM2VPRGJMXHUwMDNjL2FcdTAwM2UuIiwgImRldGVjdFJldGluYSI6IGZhbHNlLCAibWF4TmF0aXZlWm9vbSI6IDE4LCAibWF4Wm9vbSI6IDE4LCAibWluWm9vbSI6IDAsICJub1dyYXAiOiBmYWxzZSwgIm9wYWNpdHkiOiAxLCAic3ViZG9tYWlucyI6ICJhYmMiLCAidG1zIjogZmFsc2V9CiAgICAgICAgICAgICkuYWRkVG8obWFwX2FiNWFkZDIxNWY0OTQ5NDhhOGQ0N2VmMDcwN2Q2M2JiKTsKICAgICAgICAKICAgIAogICAgICAgICAgICB2YXIgbWFya2VyX2M2NTg4MTY1NWZhODQxMDM4OTEzMGQxZDg2ZjA0Zjc3ID0gTC5tYXJrZXIoCiAgICAgICAgICAgICAgICBbNDAuNzIzMDg3NTU2MDU1NjQsIC03My45OTQ1MzAwMTE3NzU3NV0sCiAgICAgICAgICAgICAgICB7fQogICAgICAgICAgICApLmFkZFRvKG1hcF9hYjVhZGQyMTVmNDk0OTQ4YThkNDdlZjA3MDdkNjNiYik7CiAgICAgICAgCiAgICAKICAgICAgICB2YXIgcG9wdXBfMTM0MDliNjg5NjI4NDBlODgwOThhMzIzNDAxNmMyMzggPSBMLnBvcHVwKHsibWF4V2lkdGgiOiAiMTAwJSJ9KTsKCiAgICAgICAgCiAgICAgICAgICAgIHZhciBodG1sXzI3MGQzZmRhOGMyOTQ4MGNiMzM5MzliNDEzZjNmNGEwID0gJChgPGRpdiBpZD0iaHRtbF8yNzBkM2ZkYThjMjk0ODBjYjMzOTM5YjQxM2YzZjRhMCIgc3R5bGU9IndpZHRoOiAxMDAuMCU7IGhlaWdodDogMTAwLjAlOyI+UHJpbmNlIFN0cmVldCBQaXp6YSBQcmljZTogJCBSYXRpbmc6NC41PC9kaXY+YClbMF07CiAgICAgICAgICAgIHBvcHVwXzEzNDA5YjY4OTYyODQwZTg4MDk4YTMyMzQwMTZjMjM4LnNldENvbnRlbnQoaHRtbF8yNzBkM2ZkYThjMjk0ODBjYjMzOTM5YjQxM2YzZjRhMCk7CiAgICAgICAgCgogICAgICAgIG1hcmtlcl9jNjU4ODE2NTVmYTg0MTAzODkxMzBkMWQ4NmYwNGY3Ny5iaW5kUG9wdXAocG9wdXBfMTM0MDliNjg5NjI4NDBlODgwOThhMzIzNDAxNmMyMzgpCiAgICAgICAgOwoKICAgICAgICAKICAgIAogICAgCiAgICAgICAgICAgIHZhciBtYXJrZXJfOTFhNTMyMDQ4ZDRlNGZjOWEyZmMyOTYxNDgxMjgxZDggPSBMLm1hcmtlcigKICAgICAgICAgICAgICAgIFs0MC43MDI3NDcxODc2ODA2MiwgLTczLjk5MzQzNDkwMTk2Mzk3XSwKICAgICAgICAgICAgICAgIHt9CiAgICAgICAgICAgICkuYWRkVG8obWFwX2FiNWFkZDIxNWY0OTQ5NDhhOGQ0N2VmMDcwN2Q2M2JiKTsKICAgICAgICAKICAgIAogICAgICAgIHZhciBwb3B1cF8yOWM5ZTY0YTBlMjA0ZTVmYjkzMzY2ZjM5ODNkN2RlYyA9IEwucG9wdXAoeyJtYXhXaWR0aCI6ICIxMDAlIn0pOwoKICAgICAgICAKICAgICAgICAgICAgdmFyIGh0bWxfOTMwZWFmNTBmOWQ2NGQyZmFiOTZmYzk1OWFmOWYyYzEgPSAkKGA8ZGl2IGlkPSJodG1sXzkzMGVhZjUwZjlkNjRkMmZhYjk2ZmM5NTlhZjlmMmMxIiBzdHlsZT0id2lkdGg6IDEwMC4wJTsgaGVpZ2h0OiAxMDAuMCU7Ij5KdWxpYW5hJ3MgUHJpY2U6ICQkIFJhdGluZzo0LjU8L2Rpdj5gKVswXTsKICAgICAgICAgICAgcG9wdXBfMjljOWU2NGEwZTIwNGU1ZmI5MzM2NmYzOTgzZDdkZWMuc2V0Q29udGVudChodG1sXzkzMGVhZjUwZjlkNjRkMmZhYjk2ZmM5NTlhZjlmMmMxKTsKICAgICAgICAKCiAgICAgICAgbWFya2VyXzkxYTUzMjA0OGQ0ZTRmYzlhMmZjMjk2MTQ4MTI4MWQ4LmJpbmRQb3B1cChwb3B1cF8yOWM5ZTY0YTBlMjA0ZTVmYjkzMzY2ZjM5ODNkN2RlYykKICAgICAgICA7CgogICAgICAgIAogICAgCiAgICAKICAgICAgICAgICAgdmFyIG1hcmtlcl8yODNkOGJmODA0OGE0ZGYxODU0YjE1NDYzNDJiNzg4MCA9IEwubWFya2VyKAogICAgICAgICAgICAgICAgWzQwLjcyMTU5MzQ5NjAwODMsIC03My45OTU1OTU2MDQ0NTYxXSwKICAgICAgICAgICAgICAgIHt9CiAgICAgICAgICAgICkuYWRkVG8obWFwX2FiNWFkZDIxNWY0OTQ5NDhhOGQ0N2VmMDcwN2Q2M2JiKTsKICAgICAgICAKICAgIAogICAgICAgIHZhciBwb3B1cF81MDUxYzQ1MzljMjU0OTllYTFmMDlhOWUzN2M1YTMzZiA9IEwucG9wdXAoeyJtYXhXaWR0aCI6ICIxMDAlIn0pOwoKICAgICAgICAKICAgICAgICAgICAgdmFyIGh0bWxfMGI5NTA1NGExY2MyNDllZDg0NjVlYmYwOTUzOTFkZTUgPSAkKGA8ZGl2IGlkPSJodG1sXzBiOTUwNTRhMWNjMjQ5ZWQ4NDY1ZWJmMDk1MzkxZGU1IiBzdHlsZT0id2lkdGg6IDEwMC4wJTsgaGVpZ2h0OiAxMDAuMCU7Ij5Mb21iYXJkaSdzIFBpenphIFByaWNlOiAkJCBSYXRpbmc6NC4wPC9kaXY+YClbMF07CiAgICAgICAgICAgIHBvcHVwXzUwNTFjNDUzOWMyNTQ5OWVhMWYwOWE5ZTM3YzVhMzNmLnNldENvbnRlbnQoaHRtbF8wYjk1MDU0YTFjYzI0OWVkODQ2NWViZjA5NTM5MWRlNSk7CiAgICAgICAgCgogICAgICAgIG1hcmtlcl8yODNkOGJmODA0OGE0ZGYxODU0YjE1NDYzNDJiNzg4MC5iaW5kUG9wdXAocG9wdXBfNTA1MWM0NTM5YzI1NDk5ZWExZjA5YTllMzdjNWEzM2YpCiAgICAgICAgOwoKICAgICAgICAKICAgIAogICAgCiAgICAgICAgICAgIHZhciBtYXJrZXJfZjg1Y2M1YmQ2ZTQ3NDUxNGI5YzZkZWE0NGY1NDhkZGEgPSBMLm1hcmtlcigKICAgICAgICAgICAgICAgIFs0MC42ODE4LCAtNzQuMDAwMjRdLAogICAgICAgICAgICAgICAge30KICAgICAgICAgICAgKS5hZGRUbyhtYXBfYWI1YWRkMjE1ZjQ5NDk0OGE4ZDQ3ZWYwNzA3ZDYzYmIpOwogICAgICAgIAogICAgCiAgICAgICAgdmFyIHBvcHVwX2NlZTQ1MTc5NDMxNTQ0OGJiYjI5OGVlZTc2MGYwOTU5ID0gTC5wb3B1cCh7Im1heFdpZHRoIjogIjEwMCUifSk7CgogICAgICAgIAogICAgICAgICAgICB2YXIgaHRtbF9jMjU0ZDgyNWE0Zjg0YjJlYjRjZTRmYjA5NWI0ZmQyYiA9ICQoYDxkaXYgaWQ9Imh0bWxfYzI1NGQ4MjVhNGY4NGIyZWI0Y2U0ZmIwOTViNGZkMmIiIHN0eWxlPSJ3aWR0aDogMTAwLjAlOyBoZWlnaHQ6IDEwMC4wJTsiPkx1Y2FsaSBQcmljZTogJCQgUmF0aW5nOjQuMDwvZGl2PmApWzBdOwogICAgICAgICAgICBwb3B1cF9jZWU0NTE3OTQzMTU0NDhiYmIyOThlZWU3NjBmMDk1OS5zZXRDb250ZW50KGh0bWxfYzI1NGQ4MjVhNGY4NGIyZWI0Y2U0ZmIwOTViNGZkMmIpOwogICAgICAgIAoKICAgICAgICBtYXJrZXJfZjg1Y2M1YmQ2ZTQ3NDUxNGI5YzZkZWE0NGY1NDhkZGEuYmluZFBvcHVwKHBvcHVwX2NlZTQ1MTc5NDMxNTQ0OGJiYjI5OGVlZTc2MGYwOTU5KQogICAgICAgIDsKCiAgICAgICAgCiAgICAKICAgIAogICAgICAgICAgICB2YXIgbWFya2VyXzAxMjY2MThlZWM4ODQ0MGU4N2YxMDYxZWU4NDQ0MDhmID0gTC5tYXJrZXIoCiAgICAgICAgICAgICAgICBbNDAuNzIyNzY2LCAtNzMuOTk2MjMzXSwKICAgICAgICAgICAgICAgIHt9CiAgICAgICAgICAgICkuYWRkVG8obWFwX2FiNWFkZDIxNWY0OTQ5NDhhOGQ0N2VmMDcwN2Q2M2JiKTsKICAgICAgICAKICAgIAogICAgICAgIHZhciBwb3B1cF9lYmEzNDk4MzU1ZmI0MzdhOWE5YjBlMWYxYjBjYzZkNyA9IEwucG9wdXAoeyJtYXhXaWR0aCI6ICIxMDAlIn0pOwoKICAgICAgICAKICAgICAgICAgICAgdmFyIGh0bWxfOTUwNTQ3NTAzNmE2NGY5Mzk0ZDA5NzEyMWMyOTA5MjIgPSAkKGA8ZGl2IGlkPSJodG1sXzk1MDU0NzUwMzZhNjRmOTM5NGQwOTcxMjFjMjkwOTIyIiBzdHlsZT0id2lkdGg6IDEwMC4wJTsgaGVpZ2h0OiAxMDAuMCU7Ij5SdWJpcm9zYSBQcmljZTogJCQgUmF0aW5nOjQuNTwvZGl2PmApWzBdOwogICAgICAgICAgICBwb3B1cF9lYmEzNDk4MzU1ZmI0MzdhOWE5YjBlMWYxYjBjYzZkNy5zZXRDb250ZW50KGh0bWxfOTUwNTQ3NTAzNmE2NGY5Mzk0ZDA5NzEyMWMyOTA5MjIpOwogICAgICAgIAoKICAgICAgICBtYXJrZXJfMDEyNjYxOGVlYzg4NDQwZTg3ZjEwNjFlZTg0NDQwOGYuYmluZFBvcHVwKHBvcHVwX2ViYTM0OTgzNTVmYjQzN2E5YTliMGUxZjFiMGNjNmQ3KQogICAgICAgIDsKCiAgICAgICAgCiAgICAKICAgIAogICAgICAgICAgICB2YXIgbWFya2VyXzZlNjVmMjQxY2RjYjRkY2I5YjZiNmMwN2EyN2U3NWQzID0gTC5tYXJrZXIoCiAgICAgICAgICAgICAgICBbNDAuNzMwNTU1MjAzNTUxOTgsIC03NC4wMDIxMTYzMjM3NzkyOV0sCiAgICAgICAgICAgICAgICB7fQogICAgICAgICAgICApLmFkZFRvKG1hcF9hYjVhZGQyMTVmNDk0OTQ4YThkNDdlZjA3MDdkNjNiYik7CiAgICAgICAgCiAgICAKICAgICAgICB2YXIgcG9wdXBfMWQ2MTVlNGUwZjc3NGEwODgwNzVjOTJiODE4MmExZDIgPSBMLnBvcHVwKHsibWF4V2lkdGgiOiAiMTAwJSJ9KTsKCiAgICAgICAgCiAgICAgICAgICAgIHZhciBodG1sXzNjZDEwMmFjNzQzODQxNjM5ZmNiNzBkM2NiMjFlNDhmID0gJChgPGRpdiBpZD0iaHRtbF8zY2QxMDJhYzc0Mzg0MTYzOWZjYjcwZDNjYjIxZTQ4ZiIgc3R5bGU9IndpZHRoOiAxMDAuMCU7IGhlaWdodDogMTAwLjAlOyI+Sm9lJ3MgUGl6emEgUHJpY2U6ICQgUmF0aW5nOjQuMDwvZGl2PmApWzBdOwogICAgICAgICAgICBwb3B1cF8xZDYxNWU0ZTBmNzc0YTA4ODA3NWM5MmI4MTgyYTFkMi5zZXRDb250ZW50KGh0bWxfM2NkMTAyYWM3NDM4NDE2MzlmY2I3MGQzY2IyMWU0OGYpOwogICAgICAgIAoKICAgICAgICBtYXJrZXJfNmU2NWYyNDFjZGNiNGRjYjliNmI2YzA3YTI3ZTc1ZDMuYmluZFBvcHVwKHBvcHVwXzFkNjE1ZTRlMGY3NzRhMDg4MDc1YzkyYjgxODJhMWQyKQogICAgICAgIDsKCiAgICAgICAgCiAgICAKICAgIAogICAgICAgICAgICB2YXIgbWFya2VyX2U1OTM0MmUwZTcwMTRmNTRiY2VkOTBkMzUyNmM4ZjczID0gTC5tYXJrZXIoCiAgICAgICAgICAgICAgICBbNDAuNzMxNTgsIC03NC4wMDMzMl0sCiAgICAgICAgICAgICAgICB7fQogICAgICAgICAgICApLmFkZFRvKG1hcF9hYjVhZGQyMTVmNDk0OTQ4YThkNDdlZjA3MDdkNjNiYik7CiAgICAgICAgCiAgICAKICAgICAgICB2YXIgcG9wdXBfNDdlMTE3Nzc5OTA4NGQyOGJjMmJkM2E1NGIwMTk2NDYgPSBMLnBvcHVwKHsibWF4V2lkdGgiOiAiMTAwJSJ9KTsKCiAgICAgICAgCiAgICAgICAgICAgIHZhciBodG1sXzIwY2EzZTRmZDUwYjQ4NGVhYzE1Zjc0NjRkNGM2NzQwID0gJChgPGRpdiBpZD0iaHRtbF8yMGNhM2U0ZmQ1MGI0ODRlYWMxNWY3NDY0ZDRjNjc0MCIgc3R5bGU9IndpZHRoOiAxMDAuMCU7IGhlaWdodDogMTAwLjAlOyI+Sm9obidzIG9mIEJsZWVja2VyIFN0cmVldCBQcmljZTogJCQgUmF0aW5nOjQuMDwvZGl2PmApWzBdOwogICAgICAgICAgICBwb3B1cF80N2UxMTc3Nzk5MDg0ZDI4YmMyYmQzYTU0YjAxOTY0Ni5zZXRDb250ZW50KGh0bWxfMjBjYTNlNGZkNTBiNDg0ZWFjMTVmNzQ2NGQ0YzY3NDApOwogICAgICAgIAoKICAgICAgICBtYXJrZXJfZTU5MzQyZTBlNzAxNGY1NGJjZWQ5MGQzNTI2YzhmNzMuYmluZFBvcHVwKHBvcHVwXzQ3ZTExNzc3OTkwODRkMjhiYzJiZDNhNTRiMDE5NjQ2KQogICAgICAgIDsKCiAgICAgICAgCiAgICAKICAgIAogICAgICAgICAgICB2YXIgbWFya2VyX2QwMmYzYzJkNDMzZDRiYzJiNDhkNzQ0MGYyMGIwZjNiID0gTC5tYXJrZXIoCiAgICAgICAgICAgICAgICBbNDAuNzA0OTMsIC03My45MzM5OV0sCiAgICAgICAgICAgICAgICB7fQogICAgICAgICAgICApLmFkZFRvKG1hcF9hYjVhZGQyMTVmNDk0OTQ4YThkNDdlZjA3MDdkNjNiYik7CiAgICAgICAgCiAgICAKICAgICAgICB2YXIgcG9wdXBfMGRlYWQ5Yjk4Mzk4NDVmOWIxMzM4NTliZGJhNGY2MzYgPSBMLnBvcHVwKHsibWF4V2lkdGgiOiAiMTAwJSJ9KTsKCiAgICAgICAgCiAgICAgICAgICAgIHZhciBodG1sXzJiMDBjOGY4NTQxNjRmZWJhNTc0NjA3ODBlMTIzNDgxID0gJChgPGRpdiBpZD0iaHRtbF8yYjAwYzhmODU0MTY0ZmViYTU3NDYwNzgwZTEyMzQ4MSIgc3R5bGU9IndpZHRoOiAxMDAuMCU7IGhlaWdodDogMTAwLjAlOyI+Um9iZXJ0YSdzIFByaWNlOiAkJCBSYXRpbmc6NC4wPC9kaXY+YClbMF07CiAgICAgICAgICAgIHBvcHVwXzBkZWFkOWI5ODM5ODQ1ZjliMTMzODU5YmRiYTRmNjM2LnNldENvbnRlbnQoaHRtbF8yYjAwYzhmODU0MTY0ZmViYTU3NDYwNzgwZTEyMzQ4MSk7CiAgICAgICAgCgogICAgICAgIG1hcmtlcl9kMDJmM2MyZDQzM2Q0YmMyYjQ4ZDc0NDBmMjBiMGYzYi5iaW5kUG9wdXAocG9wdXBfMGRlYWQ5Yjk4Mzk4NDVmOWIxMzM4NTliZGJhNGY2MzYpCiAgICAgICAgOwoKICAgICAgICAKICAgIAogICAgCiAgICAgICAgICAgIHZhciBtYXJrZXJfYWFmZmZkMmQ4MGY1NGFiOGI5NGQxZGUwZTIzYmNjYWEgPSBMLm1hcmtlcigKICAgICAgICAgICAgICAgIFs0MC43Mjk1NDYsIC03My45NTg1NjhdLAogICAgICAgICAgICAgICAge30KICAgICAgICAgICAgKS5hZGRUbyhtYXBfYWI1YWRkMjE1ZjQ5NDk0OGE4ZDQ3ZWYwNzA3ZDYzYmIpOwogICAgICAgIAogICAgCiAgICAgICAgdmFyIHBvcHVwX2UwMDI4ODI5MjgyZjQ3MWFhOWE1NzAyZTg1MGRhYjNkID0gTC5wb3B1cCh7Im1heFdpZHRoIjogIjEwMCUifSk7CgogICAgICAgIAogICAgICAgICAgICB2YXIgaHRtbF9hNzEzMzhiYTk2NDc0MTI4ODY1YWQyZjEzZDc5Mzg0MyA9ICQoYDxkaXYgaWQ9Imh0bWxfYTcxMzM4YmE5NjQ3NDEyODg2NWFkMmYxM2Q3OTM4NDMiIHN0eWxlPSJ3aWR0aDogMTAwLjAlOyBoZWlnaHQ6IDEwMC4wJTsiPlBhdWxpZSBHZWUncyBQcmljZTogJCQgUmF0aW5nOjQuNTwvZGl2PmApWzBdOwogICAgICAgICAgICBwb3B1cF9lMDAyODgyOTI4MmY0NzFhYTlhNTcwMmU4NTBkYWIzZC5zZXRDb250ZW50KGh0bWxfYTcxMzM4YmE5NjQ3NDEyODg2NWFkMmYxM2Q3OTM4NDMpOwogICAgICAgIAoKICAgICAgICBtYXJrZXJfYWFmZmZkMmQ4MGY1NGFiOGI5NGQxZGUwZTIzYmNjYWEuYmluZFBvcHVwKHBvcHVwX2UwMDI4ODI5MjgyZjQ3MWFhOWE1NzAyZTg1MGRhYjNkKQogICAgICAgIDsKCiAgICAgICAgCiAgICAKICAgIAogICAgICAgICAgICB2YXIgbWFya2VyXzNmNDM4OTM1Y2QxNjQ2NzhiNDAzN2ZiMWViMDBkOTA4ID0gTC5tYXJrZXIoCiAgICAgICAgICAgICAgICBbNDAuNzExNjIsIC03My45NTc4M10sCiAgICAgICAgICAgICAgICB7fQogICAgICAgICAgICApLmFkZFRvKG1hcF9hYjVhZGQyMTVmNDk0OTQ4YThkNDdlZjA3MDdkNjNiYik7CiAgICAgICAgCiAgICAKICAgICAgICB2YXIgcG9wdXBfYWRhZmM2NTVmMTdiNDRiNGI2NjQ3ODFiZWM4OThlYjcgPSBMLnBvcHVwKHsibWF4V2lkdGgiOiAiMTAwJSJ9KTsKCiAgICAgICAgCiAgICAgICAgICAgIHZhciBodG1sXzlhZmUyZTQwZTcxOTRmNWM5NWJhZjE0Mjc3NmRmYzQ4ID0gJChgPGRpdiBpZD0iaHRtbF85YWZlMmU0MGU3MTk0ZjVjOTViYWYxNDI3NzZkZmM0OCIgc3R5bGU9IndpZHRoOiAxMDAuMCU7IGhlaWdodDogMTAwLjAlOyI+TCdpbmR1c3RyaWUgUGl6emVyaWEgUHJpY2U6ICQgUmF0aW5nOjQuNTwvZGl2PmApWzBdOwogICAgICAgICAgICBwb3B1cF9hZGFmYzY1NWYxN2I0NGI0YjY2NDc4MWJlYzg5OGViNy5zZXRDb250ZW50KGh0bWxfOWFmZTJlNDBlNzE5NGY1Yzk1YmFmMTQyNzc2ZGZjNDgpOwogICAgICAgIAoKICAgICAgICBtYXJrZXJfM2Y0Mzg5MzVjZDE2NDY3OGI0MDM3ZmIxZWIwMGQ5MDguYmluZFBvcHVwKHBvcHVwX2FkYWZjNjU1ZjE3YjQ0YjRiNjY0NzgxYmVjODk4ZWI3KQogICAgICAgIDsKCiAgICAgICAgCiAgICAKICAgIAogICAgICAgICAgICB2YXIgbWFya2VyX2Y2Yjk1ODc4YWIxOTQ1NDQ4YjY4MDJiZjY1MTRmOTUxID0gTC5tYXJrZXIoCiAgICAgICAgICAgICAgICBbNDAuNjI1MDkzLCAtNzMuOTYxNTMxXSwKICAgICAgICAgICAgICAgIHt9CiAgICAgICAgICAgICkuYWRkVG8obWFwX2FiNWFkZDIxNWY0OTQ5NDhhOGQ0N2VmMDcwN2Q2M2JiKTsKICAgICAgICAKICAgIAogICAgICAgIHZhciBwb3B1cF8xNWNjY2Y3NTA2OTk0YjY5OTZjZTUzNTRhMTQyZGRiZCA9IEwucG9wdXAoeyJtYXhXaWR0aCI6ICIxMDAlIn0pOwoKICAgICAgICAKICAgICAgICAgICAgdmFyIGh0bWxfZDNiNmU1Y2RkY2I0NGNiMmI0NTcyMjFhYTIwZGRmZmUgPSAkKGA8ZGl2IGlkPSJodG1sX2QzYjZlNWNkZGNiNDRjYjJiNDU3MjIxYWEyMGRkZmZlIiBzdHlsZT0id2lkdGg6IDEwMC4wJTsgaGVpZ2h0OiAxMDAuMCU7Ij5EaSBGYXJhIFBpenphIFByaWNlOiAkJCBSYXRpbmc6NC4wPC9kaXY+YClbMF07CiAgICAgICAgICAgIHBvcHVwXzE1Y2NjZjc1MDY5OTRiNjk5NmNlNTM1NGExNDJkZGJkLnNldENvbnRlbnQoaHRtbF9kM2I2ZTVjZGRjYjQ0Y2IyYjQ1NzIyMWFhMjBkZGZmZSk7CiAgICAgICAgCgogICAgICAgIG1hcmtlcl9mNmI5NTg3OGFiMTk0NTQ0OGI2ODAyYmY2NTE0Zjk1MS5iaW5kUG9wdXAocG9wdXBfMTVjY2NmNzUwNjk5NGI2OTk2Y2U1MzU0YTE0MmRkYmQpCiAgICAgICAgOwoKICAgICAgICAKICAgIAogICAgCiAgICAgICAgICAgIHZhciBtYXJrZXJfMWE2MWQxYTgyODA3NDgxOTlmOTYxNzcyNmVjNmRhMGYgPSBMLm1hcmtlcigKICAgICAgICAgICAgICAgIFs0MC43MDI1ODMsIC03My45OTMyNDEzXSwKICAgICAgICAgICAgICAgIHt9CiAgICAgICAgICAgICkuYWRkVG8obWFwX2FiNWFkZDIxNWY0OTQ5NDhhOGQ0N2VmMDcwN2Q2M2JiKTsKICAgICAgICAKICAgIAogICAgICAgIHZhciBwb3B1cF9iMTc4ZmIyM2UxY2I0NWEzOTY4NGEzMzc0M2UyOWJmNyA9IEwucG9wdXAoeyJtYXhXaWR0aCI6ICIxMDAlIn0pOwoKICAgICAgICAKICAgICAgICAgICAgdmFyIGh0bWxfZGRhYjZjOWU0YTgxNDNhMTlhNzUzNTViYmRmMmFkYzYgPSAkKGA8ZGl2IGlkPSJodG1sX2RkYWI2YzllNGE4MTQzYTE5YTc1MzU1YmJkZjJhZGM2IiBzdHlsZT0id2lkdGg6IDEwMC4wJTsgaGVpZ2h0OiAxMDAuMCU7Ij5HcmltYWxkaSdzIFBpenplcmlhIFByaWNlOiAkJCBSYXRpbmc6My41PC9kaXY+YClbMF07CiAgICAgICAgICAgIHBvcHVwX2IxNzhmYjIzZTFjYjQ1YTM5Njg0YTMzNzQzZTI5YmY3LnNldENvbnRlbnQoaHRtbF9kZGFiNmM5ZTRhODE0M2ExOWE3NTM1NWJiZGYyYWRjNik7CiAgICAgICAgCgogICAgICAgIG1hcmtlcl8xYTYxZDFhODI4MDc0ODE5OWY5NjE3NzI2ZWM2ZGEwZi5iaW5kUG9wdXAocG9wdXBfYjE3OGZiMjNlMWNiNDVhMzk2ODRhMzM3NDNlMjliZjcpCiAgICAgICAgOwoKICAgICAgICAKICAgIAogICAgCiAgICAgICAgICAgIHZhciBtYXJrZXJfZjNiODNiYzFjZjcxNDMzYjk3ODFmYmE5Mzk1Y2UzODIgPSBMLm1hcmtlcigKICAgICAgICAgICAgICAgIFs0MC43MzIwNjI3MDE2NTEyLCAtNzQuMDAzNjU1MjI3MDEzN10sCiAgICAgICAgICAgICAgICB7fQogICAgICAgICAgICApLmFkZFRvKG1hcF9hYjVhZGQyMTVmNDk0OTQ4YThkNDdlZjA3MDdkNjNiYik7CiAgICAgICAgCiAgICAKICAgICAgICB2YXIgcG9wdXBfMDZjNGY1NmM1ZjNkNDYwZDkxZmI0MjNhMTlhZWRhODAgPSBMLnBvcHVwKHsibWF4V2lkdGgiOiAiMTAwJSJ9KTsKCiAgICAgICAgCiAgICAgICAgICAgIHZhciBodG1sX2U0MjU1ODY0MzUxODRhMjRhZTA3OTBhMjc5ZTI2ZGJmID0gJChgPGRpdiBpZD0iaHRtbF9lNDI1NTg2NDM1MTg0YTI0YWUwNzkwYTI3OWUyNmRiZiIgc3R5bGU9IndpZHRoOiAxMDAuMCU7IGhlaWdodDogMTAwLjAlOyI+QmxlZWNrZXIgU3RyZWV0IFBpenphIFByaWNlOiAkIFJhdGluZzo0LjA8L2Rpdj5gKVswXTsKICAgICAgICAgICAgcG9wdXBfMDZjNGY1NmM1ZjNkNDYwZDkxZmI0MjNhMTlhZWRhODAuc2V0Q29udGVudChodG1sX2U0MjU1ODY0MzUxODRhMjRhZTA3OTBhMjc5ZTI2ZGJmKTsKICAgICAgICAKCiAgICAgICAgbWFya2VyX2YzYjgzYmMxY2Y3MTQzM2I5NzgxZmJhOTM5NWNlMzgyLmJpbmRQb3B1cChwb3B1cF8wNmM0ZjU2YzVmM2Q0NjBkOTFmYjQyM2ExOWFlZGE4MCkKICAgICAgICA7CgogICAgICAgIAogICAgCiAgICAKICAgICAgICAgICAgdmFyIG1hcmtlcl9mNjVkYjI3Yzg0N2Q0NTJkYjg2NmZlNThhMzczZTcwMSA9IEwubWFya2VyKAogICAgICAgICAgICAgICAgWzQwLjczMzMxLCAtNzMuOTg3NjNdLAogICAgICAgICAgICAgICAge30KICAgICAgICAgICAgKS5hZGRUbyhtYXBfYWI1YWRkMjE1ZjQ5NDk0OGE4ZDQ3ZWYwNzA3ZDYzYmIpOwogICAgICAgIAogICAgCiAgICAgICAgdmFyIHBvcHVwXzBjNmQ2Y2EyODY1OTQ0NmRiYTYwNGEwMzFlY2UwOTU1ID0gTC5wb3B1cCh7Im1heFdpZHRoIjogIjEwMCUifSk7CgogICAgICAgIAogICAgICAgICAgICB2YXIgaHRtbF81ZGZmNTMyM2Y4MmM0MDBiYWJiNTgwMGZjOTg0ZDk3MCA9ICQoYDxkaXYgaWQ9Imh0bWxfNWRmZjUzMjNmODJjNDAwYmFiYjU4MDBmYzk4NGQ5NzAiIHN0eWxlPSJ3aWR0aDogMTAwLjAlOyBoZWlnaHQ6IDEwMC4wJTsiPkpvZSdzIFBpenphIFByaWNlOiAkIFJhdGluZzo0LjA8L2Rpdj5gKVswXTsKICAgICAgICAgICAgcG9wdXBfMGM2ZDZjYTI4NjU5NDQ2ZGJhNjA0YTAzMWVjZTA5NTUuc2V0Q29udGVudChodG1sXzVkZmY1MzIzZjgyYzQwMGJhYmI1ODAwZmM5ODRkOTcwKTsKICAgICAgICAKCiAgICAgICAgbWFya2VyX2Y2NWRiMjdjODQ3ZDQ1MmRiODY2ZmU1OGEzNzNlNzAxLmJpbmRQb3B1cChwb3B1cF8wYzZkNmNhMjg2NTk0NDZkYmE2MDRhMDMxZWNlMDk1NSkKICAgICAgICA7CgogICAgICAgIAogICAgCiAgICAKICAgICAgICAgICAgdmFyIG1hcmtlcl8zMjU1MzNmMTllY2U0MmZlYmU0ZDBiMzM4YjMyNWVmMiA9IEwubWFya2VyKAogICAgICAgICAgICAgICAgWzQwLjcyODE5OSwgLTczLjk4NTE4Ml0sCiAgICAgICAgICAgICAgICB7fQogICAgICAgICAgICApLmFkZFRvKG1hcF9hYjVhZGQyMTVmNDk0OTQ4YThkNDdlZjA3MDdkNjNiYik7CiAgICAgICAgCiAgICAKICAgICAgICB2YXIgcG9wdXBfOGVkYzA3YWY5YWQ5NGE5YzhhNzI5ODIyZDNkNzFlOTYgPSBMLnBvcHVwKHsibWF4V2lkdGgiOiAiMTAwJSJ9KTsKCiAgICAgICAgCiAgICAgICAgICAgIHZhciBodG1sXzgwMDQ2YzIwMDI4MDRlNjNiODBmZDUxYjdlMjA2MjQ1ID0gJChgPGRpdiBpZD0iaHRtbF84MDA0NmMyMDAyODA0ZTYzYjgwZmQ1MWI3ZTIwNjI0NSIgc3R5bGU9IndpZHRoOiAxMDAuMCU7IGhlaWdodDogMTAwLjAlOyI+RWFzdCBWaWxsYWdlIFBpenphIFByaWNlOiAkIFJhdGluZzo0LjA8L2Rpdj5gKVswXTsKICAgICAgICAgICAgcG9wdXBfOGVkYzA3YWY5YWQ5NGE5YzhhNzI5ODIyZDNkNzFlOTYuc2V0Q29udGVudChodG1sXzgwMDQ2YzIwMDI4MDRlNjNiODBmZDUxYjdlMjA2MjQ1KTsKICAgICAgICAKCiAgICAgICAgbWFya2VyXzMyNTUzM2YxOWVjZTQyZmViZTRkMGIzMzhiMzI1ZWYyLmJpbmRQb3B1cChwb3B1cF84ZWRjMDdhZjlhZDk0YTljOGE3Mjk4MjJkM2Q3MWU5NikKICAgICAgICA7CgogICAgICAgIAogICAgCiAgICAKICAgICAgICAgICAgdmFyIG1hcmtlcl9jYTU0MDZlOGRiZjc0NTkxYmFmYzk0MDI5NTBiNGFhNyA9IEwubWFya2VyKAogICAgICAgICAgICAgICAgWzQwLjYzNDc0MSwgLTc0LjAyODQyNTldLAogICAgICAgICAgICAgICAge30KICAgICAgICAgICAgKS5hZGRUbyhtYXBfYWI1YWRkMjE1ZjQ5NDk0OGE4ZDQ3ZWYwNzA3ZDYzYmIpOwogICAgICAgIAogICAgCiAgICAgICAgdmFyIHBvcHVwX2UzODQ1ZWNiMjdlMTQwM2ZiZTA0NzQxZTA0Nzg0YjA0ID0gTC5wb3B1cCh7Im1heFdpZHRoIjogIjEwMCUifSk7CgogICAgICAgIAogICAgICAgICAgICB2YXIgaHRtbF9mMzJkMzkzYTk0NWI0M2VmYTU5OTg3YzU3MDZlMTljYiA9ICQoYDxkaXYgaWQ9Imh0bWxfZjMyZDM5M2E5NDViNDNlZmE1OTk4N2M1NzA2ZTE5Y2IiIHN0eWxlPSJ3aWR0aDogMTAwLjAlOyBoZWlnaHQ6IDEwMC4wJTsiPkxvbWJhcmRvJ3Mgb2YgQmF5IFJpZGdlIFByaWNlOiAkJCBSYXRpbmc6NS4wPC9kaXY+YClbMF07CiAgICAgICAgICAgIHBvcHVwX2UzODQ1ZWNiMjdlMTQwM2ZiZTA0NzQxZTA0Nzg0YjA0LnNldENvbnRlbnQoaHRtbF9mMzJkMzkzYTk0NWI0M2VmYTU5OTg3YzU3MDZlMTljYik7CiAgICAgICAgCgogICAgICAgIG1hcmtlcl9jYTU0MDZlOGRiZjc0NTkxYmFmYzk0MDI5NTBiNGFhNy5iaW5kUG9wdXAocG9wdXBfZTM4NDVlY2IyN2UxNDAzZmJlMDQ3NDFlMDQ3ODRiMDQpCiAgICAgICAgOwoKICAgICAgICAKICAgIAogICAgCiAgICAgICAgICAgIHZhciBtYXJrZXJfNjQ5YWQxYjhiNDlmNDUzZTkxMGQ2NjUwOTMwMTYwYzUgPSBMLm1hcmtlcigKICAgICAgICAgICAgICAgIFs0MC43MTY5MSwgLTczLjk1ODk4N10sCiAgICAgICAgICAgICAgICB7fQogICAgICAgICAgICApLmFkZFRvKG1hcF9hYjVhZGQyMTVmNDk0OTQ4YThkNDdlZjA3MDdkNjNiYik7CiAgICAgICAgCiAgICAKICAgICAgICB2YXIgcG9wdXBfMjA2MzNhOWEyOGQ4NGEwZmFkZTg4YzZjN2U0MzI2MTUgPSBMLnBvcHVwKHsibWF4V2lkdGgiOiAiMTAwJSJ9KTsKCiAgICAgICAgCiAgICAgICAgICAgIHZhciBodG1sX2FjZGVlYzA4NTAyNDQ2Y2Y5NTFkMzQ4Yzc5MjA5M2VkID0gJChgPGRpdiBpZD0iaHRtbF9hY2RlZWMwODUwMjQ0NmNmOTUxZDM0OGM3OTIwOTNlZCIgc3R5bGU9IndpZHRoOiAxMDAuMCU7IGhlaWdodDogMTAwLjAlOyI+Sm9lJ3MgUGl6emEgUHJpY2U6ICQgUmF0aW5nOjQuMDwvZGl2PmApWzBdOwogICAgICAgICAgICBwb3B1cF8yMDYzM2E5YTI4ZDg0YTBmYWRlODhjNmM3ZTQzMjYxNS5zZXRDb250ZW50KGh0bWxfYWNkZWVjMDg1MDI0NDZjZjk1MWQzNDhjNzkyMDkzZWQpOwogICAgICAgIAoKICAgICAgICBtYXJrZXJfNjQ5YWQxYjhiNDlmNDUzZTkxMGQ2NjUwOTMwMTYwYzUuYmluZFBvcHVwKHBvcHVwXzIwNjMzYTlhMjhkODRhMGZhZGU4OGM2YzdlNDMyNjE1KQogICAgICAgIDsKCiAgICAgICAgCiAgICAKICAgIAogICAgICAgICAgICB2YXIgbWFya2VyX2ZhOTNiNjcxZjFhYzQ3OTdiNWM5YWQxYjgzMWEyMjViID0gTC5tYXJrZXIoCiAgICAgICAgICAgICAgICBbNDAuNzIzNjI1LCAtNzMuOTg4NTU1XSwKICAgICAgICAgICAgICAgIHt9CiAgICAgICAgICAgICkuYWRkVG8obWFwX2FiNWFkZDIxNWY0OTQ5NDhhOGQ0N2VmMDcwN2Q2M2JiKTsKICAgICAgICAKICAgIAogICAgICAgIHZhciBwb3B1cF82MTkzN2JkMGU3YTQ0MTYzYTVjODBiZGMxNzdhNjk5MyA9IEwucG9wdXAoeyJtYXhXaWR0aCI6ICIxMDAlIn0pOwoKICAgICAgICAKICAgICAgICAgICAgdmFyIGh0bWxfZTYwNGQxNDRhYTE3NDhjZGFiZTIxOWExZTRkZDg2YTIgPSAkKGA8ZGl2IGlkPSJodG1sX2U2MDRkMTQ0YWExNzQ4Y2RhYmUyMTlhMWU0ZGQ4NmEyIiBzdHlsZT0id2lkdGg6IDEwMC4wJTsgaGVpZ2h0OiAxMDAuMCU7Ij5MaWwgRnJhbmtpZSdzIFByaWNlOiAkJCBSYXRpbmc6NC4wPC9kaXY+YClbMF07CiAgICAgICAgICAgIHBvcHVwXzYxOTM3YmQwZTdhNDQxNjNhNWM4MGJkYzE3N2E2OTkzLnNldENvbnRlbnQoaHRtbF9lNjA0ZDE0NGFhMTc0OGNkYWJlMjE5YTFlNGRkODZhMik7CiAgICAgICAgCgogICAgICAgIG1hcmtlcl9mYTkzYjY3MWYxYWM0Nzk3YjVjOWFkMWI4MzFhMjI1Yi5iaW5kUG9wdXAocG9wdXBfNjE5MzdiZDBlN2E0NDE2M2E1YzgwYmRjMTc3YTY5OTMpCiAgICAgICAgOwoKICAgICAgICAKICAgIAogICAgCiAgICAgICAgICAgIHZhciBtYXJrZXJfMzA3MTFhYjBkYTFlNDY2MmI0ZTNkMGVhNTM0YTUxNGIgPSBMLm1hcmtlcigKICAgICAgICAgICAgICAgIFs0MC43NDQ1ODgyLCAtNzMuOTg0NzkzNl0sCiAgICAgICAgICAgICAgICB7fQogICAgICAgICAgICApLmFkZFRvKG1hcF9hYjVhZGQyMTVmNDk0OTQ4YThkNDdlZjA3MDdkNjNiYik7CiAgICAgICAgCiAgICAKICAgICAgICB2YXIgcG9wdXBfNDM3Yzc4YThkM2Q0NDA2NTk3OWJkZThmMzQ1YmE3ZTEgPSBMLnBvcHVwKHsibWF4V2lkdGgiOiAiMTAwJSJ9KTsKCiAgICAgICAgCiAgICAgICAgICAgIHZhciBodG1sXzFjZWQzMjY3ZmQzOTQ4YTQ4YzE0MDBiOGViNTA0ZGZkID0gJChgPGRpdiBpZD0iaHRtbF8xY2VkMzI2N2ZkMzk0OGE0OGMxNDAwYjhlYjUwNGRmZCIgc3R5bGU9IndpZHRoOiAxMDAuMCU7IGhlaWdodDogMTAwLjAlOyI+TWFydGEgUHJpY2U6ICQkJCBSYXRpbmc6NC4wPC9kaXY+YClbMF07CiAgICAgICAgICAgIHBvcHVwXzQzN2M3OGE4ZDNkNDQwNjU5NzliZGU4ZjM0NWJhN2UxLnNldENvbnRlbnQoaHRtbF8xY2VkMzI2N2ZkMzk0OGE0OGMxNDAwYjhlYjUwNGRmZCk7CiAgICAgICAgCgogICAgICAgIG1hcmtlcl8zMDcxMWFiMGRhMWU0NjYyYjRlM2QwZWE1MzRhNTE0Yi5iaW5kUG9wdXAocG9wdXBfNDM3Yzc4YThkM2Q0NDA2NTk3OWJkZThmMzQ1YmE3ZTEpCiAgICAgICAgOwoKICAgICAgICAKICAgIAogICAgCiAgICAgICAgICAgIHZhciBtYXJrZXJfYzc3YWZmZDFjN2JiNDljZTkzNGI4MGFiN2EyY2IxOTQgPSBMLm1hcmtlcigKICAgICAgICAgICAgICAgIFs0MC43MTUzNCwgLTczLjk5MTRdLAogICAgICAgICAgICAgICAge30KICAgICAgICAgICAgKS5hZGRUbyhtYXBfYWI1YWRkMjE1ZjQ5NDk0OGE4ZDQ3ZWYwNzA3ZDYzYmIpOwogICAgICAgIAogICAgCiAgICAgICAgdmFyIHBvcHVwXzM2NTMzOTcwZjIxMzQwMjE4YzdhYTdiODE4NWEyMWEwID0gTC5wb3B1cCh7Im1heFdpZHRoIjogIjEwMCUifSk7CgogICAgICAgIAogICAgICAgICAgICB2YXIgaHRtbF80NjIwY2IxYzEzM2E0NDlkYjBhMjRhZDNmMDI3MDQzMCA9ICQoYDxkaXYgaWQ9Imh0bWxfNDYyMGNiMWMxMzNhNDQ5ZGIwYTI0YWQzZjAyNzA0MzAiIHN0eWxlPSJ3aWR0aDogMTAwLjAlOyBoZWlnaHQ6IDEwMC4wJTsiPlNjYXJyJ3MgUGl6emEgUHJpY2U6ICQgUmF0aW5nOjQuMDwvZGl2PmApWzBdOwogICAgICAgICAgICBwb3B1cF8zNjUzMzk3MGYyMTM0MDIxOGM3YWE3YjgxODVhMjFhMC5zZXRDb250ZW50KGh0bWxfNDYyMGNiMWMxMzNhNDQ5ZGIwYTI0YWQzZjAyNzA0MzApOwogICAgICAgIAoKICAgICAgICBtYXJrZXJfYzc3YWZmZDFjN2JiNDljZTkzNGI4MGFiN2EyY2IxOTQuYmluZFBvcHVwKHBvcHVwXzM2NTMzOTcwZjIxMzQwMjE4YzdhYTdiODE4NWEyMWEwKQogICAgICAgIDsKCiAgICAgICAgCiAgICAKICAgIAogICAgICAgICAgICB2YXIgbWFya2VyX2ZjN2RjYzEyNDczYTQ2MTU5ZGVmYzQ1MGQ5NjVlMWFlID0gTC5tYXJrZXIoCiAgICAgICAgICAgICAgICBbNDAuNzM4MjksIC03NC4wMDU0XSwKICAgICAgICAgICAgICAgIHt9CiAgICAgICAgICAgICkuYWRkVG8obWFwX2FiNWFkZDIxNWY0OTQ5NDhhOGQ0N2VmMDcwN2Q2M2JiKTsKICAgICAgICAKICAgIAogICAgICAgIHZhciBwb3B1cF9hY2M3MmU0NDVjOGE0MTBlYTc1ZGYxZTZhY2YzMDU5MiA9IEwucG9wdXAoeyJtYXhXaWR0aCI6ICIxMDAlIn0pOwoKICAgICAgICAKICAgICAgICAgICAgdmFyIGh0bWxfMTVlNGY3NTE5ZGM2NDNjZThlYzhkOTU2MmYxYWFlOGIgPSAkKGA8ZGl2IGlkPSJodG1sXzE1ZTRmNzUxOWRjNjQzY2U4ZWM4ZDk1NjJmMWFhZThiIiBzdHlsZT0id2lkdGg6IDEwMC4wJTsgaGVpZ2h0OiAxMDAuMCU7Ij5CcnVuZXR0aSBQaXp6YSBQcmljZTogJCQgUmF0aW5nOjQuNTwvZGl2PmApWzBdOwogICAgICAgICAgICBwb3B1cF9hY2M3MmU0NDVjOGE0MTBlYTc1ZGYxZTZhY2YzMDU5Mi5zZXRDb250ZW50KGh0bWxfMTVlNGY3NTE5ZGM2NDNjZThlYzhkOTU2MmYxYWFlOGIpOwogICAgICAgIAoKICAgICAgICBtYXJrZXJfZmM3ZGNjMTI0NzNhNDYxNTlkZWZjNDUwZDk2NWUxYWUuYmluZFBvcHVwKHBvcHVwX2FjYzcyZTQ0NWM4YTQxMGVhNzVkZjFlNmFjZjMwNTkyKQogICAgICAgIDsKCiAgICAgICAgCiAgICAKICAgIAogICAgICAgICAgICB2YXIgbWFya2VyX2Q4OGYzNGM3MWRmNDQxOTY4NGMzMzliYjg3M2QyZjU2ID0gTC5tYXJrZXIoCiAgICAgICAgICAgICAgICBbNDAuNzMyMTEyNDU1NzcwNCwgLTczLjk4MzkwNTY4Mjg4ODJdLAogICAgICAgICAgICAgICAge30KICAgICAgICAgICAgKS5hZGRUbyhtYXBfYWI1YWRkMjE1ZjQ5NDk0OGE4ZDQ3ZWYwNzA3ZDYzYmIpOwogICAgICAgIAogICAgCiAgICAgICAgdmFyIHBvcHVwX2QyYTk4YmRmMjAyNTQ3NjFhMjI2MWNmZDE3Y2ViNDJhID0gTC5wb3B1cCh7Im1heFdpZHRoIjogIjEwMCUifSk7CgogICAgICAgIAogICAgICAgICAgICB2YXIgaHRtbF81N2U0NWEyYzJmZTY0NWE0YTc2MTZjYTBmNGIyNjI1NyA9ICQoYDxkaXYgaWQ9Imh0bWxfNTdlNDVhMmMyZmU2NDVhNGE3NjE2Y2EwZjRiMjYyNTciIHN0eWxlPSJ3aWR0aDogMTAwLjAlOyBoZWlnaHQ6IDEwMC4wJTsiPkFydGljaG9rZSBCYXNpbGxlJ3MgUGl6emEgUHJpY2U6ICQgUmF0aW5nOjQuMDwvZGl2PmApWzBdOwogICAgICAgICAgICBwb3B1cF9kMmE5OGJkZjIwMjU0NzYxYTIyNjFjZmQxN2NlYjQyYS5zZXRDb250ZW50KGh0bWxfNTdlNDVhMmMyZmU2NDVhNGE3NjE2Y2EwZjRiMjYyNTcpOwogICAgICAgIAoKICAgICAgICBtYXJrZXJfZDg4ZjM0YzcxZGY0NDE5Njg0YzMzOWJiODczZDJmNTYuYmluZFBvcHVwKHBvcHVwX2QyYTk4YmRmMjAyNTQ3NjFhMjI2MWNmZDE3Y2ViNDJhKQogICAgICAgIDsKCiAgICAgICAgCiAgICAKICAgIAogICAgICAgICAgICB2YXIgbWFya2VyXzI1NGM1MTdjYTA3ZDQzMDhiYzJiMGZlMDMxOWU1M2M4ID0gTC5tYXJrZXIoCiAgICAgICAgICAgICAgICBbNDAuNzUwMjA1OTkzNjUyMywgLTczLjk5NTMyMzE4MTE1MjNdLAogICAgICAgICAgICAgICAge30KICAgICAgICAgICAgKS5hZGRUbyhtYXBfYWI1YWRkMjE1ZjQ5NDk0OGE4ZDQ3ZWYwNzA3ZDYzYmIpOwogICAgICAgIAogICAgCiAgICAgICAgdmFyIHBvcHVwX2U3NTUxYzY5YThhZjQzOTdhOThhODJhMjFlNzBmYzc3ID0gTC5wb3B1cCh7Im1heFdpZHRoIjogIjEwMCUifSk7CgogICAgICAgIAogICAgICAgICAgICB2YXIgaHRtbF83Njg0MDMxNDNiNGQ0NTVmODM4Nzk5NjhlMWQ4NjYwZCA9ICQoYDxkaXYgaWQ9Imh0bWxfNzY4NDAzMTQzYjRkNDU1ZjgzODc5OTY4ZTFkODY2MGQiIHN0eWxlPSJ3aWR0aDogMTAwLjAlOyBoZWlnaHQ6IDEwMC4wJTsiPk5ZIFBpenphIFN1cHJlbWEgUHJpY2U6ICQgUmF0aW5nOjQuMDwvZGl2PmApWzBdOwogICAgICAgICAgICBwb3B1cF9lNzU1MWM2OWE4YWY0Mzk3YTk4YTgyYTIxZTcwZmM3Ny5zZXRDb250ZW50KGh0bWxfNzY4NDAzMTQzYjRkNDU1ZjgzODc5OTY4ZTFkODY2MGQpOwogICAgICAgIAoKICAgICAgICBtYXJrZXJfMjU0YzUxN2NhMDdkNDMwOGJjMmIwZmUwMzE5ZTUzYzguYmluZFBvcHVwKHBvcHVwX2U3NTUxYzY5YThhZjQzOTdhOThhODJhMjFlNzBmYzc3KQogICAgICAgIDsKCiAgICAgICAgCiAgICAKICAgIAogICAgICAgICAgICB2YXIgbWFya2VyXzE0ZDZiOWMyZjkyYzQ0NDg4ZTU2N2I0YzFhMzhlY2IyID0gTC5tYXJrZXIoCiAgICAgICAgICAgICAgICBbNDAuNTk0NzE1LCAtNzMuOTgxMzE2XSwKICAgICAgICAgICAgICAgIHt9CiAgICAgICAgICAgICkuYWRkVG8obWFwX2FiNWFkZDIxNWY0OTQ5NDhhOGQ0N2VmMDcwN2Q2M2JiKTsKICAgICAgICAKICAgIAogICAgICAgIHZhciBwb3B1cF85MWRjYzMxNGZlZjc0YmJlYTYyODU1N2Y0ODYzYjMzMyA9IEwucG9wdXAoeyJtYXhXaWR0aCI6ICIxMDAlIn0pOwoKICAgICAgICAKICAgICAgICAgICAgdmFyIGh0bWxfNTkyYjJlZDNhOGRkNGZlNzg2MDVhMTE1ODM5MDZiZTEgPSAkKGA8ZGl2IGlkPSJodG1sXzU5MmIyZWQzYThkZDRmZTc4NjA1YTExNTgzOTA2YmUxIiBzdHlsZT0id2lkdGg6IDEwMC4wJTsgaGVpZ2h0OiAxMDAuMCU7Ij5MICYgQiBTcHVtb25pIEdhcmRlbnMgUHJpY2U6ICQgUmF0aW5nOjQuMDwvZGl2PmApWzBdOwogICAgICAgICAgICBwb3B1cF85MWRjYzMxNGZlZjc0YmJlYTYyODU1N2Y0ODYzYjMzMy5zZXRDb250ZW50KGh0bWxfNTkyYjJlZDNhOGRkNGZlNzg2MDVhMTE1ODM5MDZiZTEpOwogICAgICAgIAoKICAgICAgICBtYXJrZXJfMTRkNmI5YzJmOTJjNDQ0ODhlNTY3YjRjMWEzOGVjYjIuYmluZFBvcHVwKHBvcHVwXzkxZGNjMzE0ZmVmNzRiYmVhNjI4NTU3ZjQ4NjNiMzMzKQogICAgICAgIDsKCiAgICAgICAgCiAgICAKICAgIAogICAgICAgICAgICB2YXIgbWFya2VyXzllNGRjYjNiNTA4YjQyOGM5NmVmMDkzOTE1OGNiN2Y5ID0gTC5tYXJrZXIoCiAgICAgICAgICAgICAgICBbNDAuNzU0NywgLTczLjk4Njk2XSwKICAgICAgICAgICAgICAgIHt9CiAgICAgICAgICAgICkuYWRkVG8obWFwX2FiNWFkZDIxNWY0OTQ5NDhhOGQ0N2VmMDcwN2Q2M2JiKTsKICAgICAgICAKICAgIAogICAgICAgIHZhciBwb3B1cF9kYjQ3NGZjYjA3ODc0NDUzOThkOGQ3NTIwZGJkNTJmNCA9IEwucG9wdXAoeyJtYXhXaWR0aCI6ICIxMDAlIn0pOwoKICAgICAgICAKICAgICAgICAgICAgdmFyIGh0bWxfNGE5ZmExMWZhNWVjNDExZjhhM2NmZTBiMTVlODQwMmQgPSAkKGA8ZGl2IGlkPSJodG1sXzRhOWZhMTFmYTVlYzQxMWY4YTNjZmUwYjE1ZTg0MDJkIiBzdHlsZT0id2lkdGg6IDEwMC4wJTsgaGVpZ2h0OiAxMDAuMCU7Ij5Kb2UncyBQaXp6YSBQcmljZTogJCBSYXRpbmc6NC4wPC9kaXY+YClbMF07CiAgICAgICAgICAgIHBvcHVwX2RiNDc0ZmNiMDc4NzQ0NTM5OGQ4ZDc1MjBkYmQ1MmY0LnNldENvbnRlbnQoaHRtbF80YTlmYTExZmE1ZWM0MTFmOGEzY2ZlMGIxNWU4NDAyZCk7CiAgICAgICAgCgogICAgICAgIG1hcmtlcl85ZTRkY2IzYjUwOGI0MjhjOTZlZjA5MzkxNThjYjdmOS5iaW5kUG9wdXAocG9wdXBfZGI0NzRmY2IwNzg3NDQ1Mzk4ZDhkNzUyMGRiZDUyZjQpCiAgICAgICAgOwoKICAgICAgICAKICAgIAogICAgCiAgICAgICAgICAgIHZhciBtYXJrZXJfOTBkMDhmNTA2YWZiNDFmODk5ZGRhNzAyOWEwNjBhNzEgPSBMLm1hcmtlcigKICAgICAgICAgICAgICAgIFs0MC43MTk0MDg5NTQ3MjU5LCAtNzMuOTk3Mzc3Nzg3NzcyMl0sCiAgICAgICAgICAgICAgICB7fQogICAgICAgICAgICApLmFkZFRvKG1hcF9hYjVhZGQyMTVmNDk0OTQ4YThkNDdlZjA3MDdkNjNiYik7CiAgICAgICAgCiAgICAKICAgICAgICB2YXIgcG9wdXBfY2Q1NmY4ODBiZDUzNGUwN2I5ODZlZGMxZGNhNjgzMTggPSBMLnBvcHVwKHsibWF4V2lkdGgiOiAiMTAwJSJ9KTsKCiAgICAgICAgCiAgICAgICAgICAgIHZhciBodG1sXzUwMjExMDEyYTcyZTRjYzA5MTYwODU0NzUxYWM0MWQ2ID0gJChgPGRpdiBpZD0iaHRtbF81MDIxMTAxMmE3MmU0Y2MwOTE2MDg1NDc1MWFjNDFkNiIgc3R5bGU9IndpZHRoOiAxMDAuMCU7IGhlaWdodDogMTAwLjAlOyI+R2Vsc28gJiBHcmFuZCBQcmljZTogJCQgUmF0aW5nOjQuNTwvZGl2PmApWzBdOwogICAgICAgICAgICBwb3B1cF9jZDU2Zjg4MGJkNTM0ZTA3Yjk4NmVkYzFkY2E2ODMxOC5zZXRDb250ZW50KGh0bWxfNTAyMTEwMTJhNzJlNGNjMDkxNjA4NTQ3NTFhYzQxZDYpOwogICAgICAgIAoKICAgICAgICBtYXJrZXJfOTBkMDhmNTA2YWZiNDFmODk5ZGRhNzAyOWEwNjBhNzEuYmluZFBvcHVwKHBvcHVwX2NkNTZmODgwYmQ1MzRlMDdiOTg2ZWRjMWRjYTY4MzE4KQogICAgICAgIDsKCiAgICAgICAgCiAgICAKICAgIAogICAgICAgICAgICB2YXIgbWFya2VyXzMxNjk3MDQzZTBjNDRkMzVhOGI3MDdhODU1MjhkNzg4ID0gTC5tYXJrZXIoCiAgICAgICAgICAgICAgICBbNDAuNjgxODY5NSwgLTczLjk3NjE4MV0sCiAgICAgICAgICAgICAgICB7fQogICAgICAgICAgICApLmFkZFRvKG1hcF9hYjVhZGQyMTVmNDk0OTQ4YThkNDdlZjA3MDdkNjNiYik7CiAgICAgICAgCiAgICAKICAgICAgICB2YXIgcG9wdXBfNzcyMTkyYmExZDcyNDZjMTk0NmFlYWRkZjgyNTYzZDAgPSBMLnBvcHVwKHsibWF4V2lkdGgiOiAiMTAwJSJ9KTsKCiAgICAgICAgCiAgICAgICAgICAgIHZhciBodG1sX2U5OTIzZjJlYzM4ODQ4ZGM5MmZkMDBiNjk2MTIwOGQwID0gJChgPGRpdiBpZD0iaHRtbF9lOTkyM2YyZWMzODg0OGRjOTJmZDAwYjY5NjEyMDhkMCIgc3R5bGU9IndpZHRoOiAxMDAuMCU7IGhlaWdodDogMTAwLjAlOyI+UGF0c3kncyBQaXp6ZXJpYSBQcmljZTogJCQgUmF0aW5nOjQuNTwvZGl2PmApWzBdOwogICAgICAgICAgICBwb3B1cF83NzIxOTJiYTFkNzI0NmMxOTQ2YWVhZGRmODI1NjNkMC5zZXRDb250ZW50KGh0bWxfZTk5MjNmMmVjMzg4NDhkYzkyZmQwMGI2OTYxMjA4ZDApOwogICAgICAgIAoKICAgICAgICBtYXJrZXJfMzE2OTcwNDNlMGM0NGQzNWE4YjcwN2E4NTUyOGQ3ODguYmluZFBvcHVwKHBvcHVwXzc3MjE5MmJhMWQ3MjQ2YzE5NDZhZWFkZGY4MjU2M2QwKQogICAgICAgIDsKCiAgICAgICAgCiAgICAKICAgIAogICAgICAgICAgICB2YXIgbWFya2VyX2Q4MDNmYTQxNmM3YTRkM2FiMjQ3Mzc1N2QxMDk4ODEzID0gTC5tYXJrZXIoCiAgICAgICAgICAgICAgICBbNDAuNzE0OTg3LCAtNzMuOTQ0MTRdLAogICAgICAgICAgICAgICAge30KICAgICAgICAgICAgKS5hZGRUbyhtYXBfYWI1YWRkMjE1ZjQ5NDk0OGE4ZDQ3ZWYwNzA3ZDYzYmIpOwogICAgICAgIAogICAgCiAgICAgICAgdmFyIHBvcHVwXzQ2YmVjZTc3NGY2ODQ1M2U4NmQ0NzQ5YTAzZmUxN2ViID0gTC5wb3B1cCh7Im1heFdpZHRoIjogIjEwMCUifSk7CgogICAgICAgIAogICAgICAgICAgICB2YXIgaHRtbF9kMjJjOTcwODQzNDM0ZjU3ODI5NTNhYTVlMjI5MjY2OCA9ICQoYDxkaXYgaWQ9Imh0bWxfZDIyYzk3MDg0MzQzNGY1NzgyOTUzYWE1ZTIyOTI2NjgiIHN0eWxlPSJ3aWR0aDogMTAwLjAlOyBoZWlnaHQ6IDEwMC4wJTsiPkNhcm1pbmUncyBQaXp6ZXJpYSBQcmljZTogJCQgUmF0aW5nOjQuMDwvZGl2PmApWzBdOwogICAgICAgICAgICBwb3B1cF80NmJlY2U3NzRmNjg0NTNlODZkNDc0OWEwM2ZlMTdlYi5zZXRDb250ZW50KGh0bWxfZDIyYzk3MDg0MzQzNGY1NzgyOTUzYWE1ZTIyOTI2NjgpOwogICAgICAgIAoKICAgICAgICBtYXJrZXJfZDgwM2ZhNDE2YzdhNGQzYWIyNDczNzU3ZDEwOTg4MTMuYmluZFBvcHVwKHBvcHVwXzQ2YmVjZTc3NGY2ODQ1M2U4NmQ0NzQ5YTAzZmUxN2ViKQogICAgICAgIDsKCiAgICAgICAgCiAgICAKICAgIAogICAgICAgICAgICB2YXIgbWFya2VyX2NmMzk2ZTZjZjA3ZTRmZmM5NjMwYzUwZWUzZDQ2MzU5ID0gTC5tYXJrZXIoCiAgICAgICAgICAgICAgICBbNDAuNzAyNDQsIC03My45ODk0M10sCiAgICAgICAgICAgICAgICB7fQogICAgICAgICAgICApLmFkZFRvKG1hcF9hYjVhZGQyMTVmNDk0OTQ4YThkNDdlZjA3MDdkNjNiYik7CiAgICAgICAgCiAgICAKICAgICAgICB2YXIgcG9wdXBfZWE4MDkyZDNiOTk3NGY1Y2ExZTcwZTU4MTJkNmFhM2IgPSBMLnBvcHVwKHsibWF4V2lkdGgiOiAiMTAwJSJ9KTsKCiAgICAgICAgCiAgICAgICAgICAgIHZhciBodG1sXzQyZTA0NzYyMjIwMjQwNWU4YWJmOWQyYjQzN2Y3MWYxID0gJChgPGRpdiBpZD0iaHRtbF80MmUwNDc2MjIyMDI0MDVlOGFiZjlkMmI0MzdmNzFmMSIgc3R5bGU9IndpZHRoOiAxMDAuMCU7IGhlaWdodDogMTAwLjAlOyI+RnJvbnQgU3RyZWV0IFBpenphIFByaWNlOiAkIFJhdGluZzo0LjA8L2Rpdj5gKVswXTsKICAgICAgICAgICAgcG9wdXBfZWE4MDkyZDNiOTk3NGY1Y2ExZTcwZTU4MTJkNmFhM2Iuc2V0Q29udGVudChodG1sXzQyZTA0NzYyMjIwMjQwNWU4YWJmOWQyYjQzN2Y3MWYxKTsKICAgICAgICAKCiAgICAgICAgbWFya2VyX2NmMzk2ZTZjZjA3ZTRmZmM5NjMwYzUwZWUzZDQ2MzU5LmJpbmRQb3B1cChwb3B1cF9lYTgwOTJkM2I5OTc0ZjVjYTFlNzBlNTgxMmQ2YWEzYikKICAgICAgICA7CgogICAgICAgIAogICAgCiAgICAKICAgICAgICAgICAgdmFyIG1hcmtlcl82ZjFhZTk1ZjFmZjE0YTk0ODgyZWY5OGNlMjc4MjBmNSA9IEwubWFya2VyKAogICAgICAgICAgICAgICAgWzQwLjcxNzc0OTA0ODUwNzUsIC03NC4wNDQxOTI0MzU1MTI1XSwKICAgICAgICAgICAgICAgIHt9CiAgICAgICAgICAgICkuYWRkVG8obWFwX2FiNWFkZDIxNWY0OTQ5NDhhOGQ0N2VmMDcwN2Q2M2JiKTsKICAgICAgICAKICAgIAogICAgICAgIHZhciBwb3B1cF9iMTc4MzZkMDcwODg0ODMzODA5MGJlOWU3ZDJhMTY5MyA9IEwucG9wdXAoeyJtYXhXaWR0aCI6ICIxMDAlIn0pOwoKICAgICAgICAKICAgICAgICAgICAgdmFyIGh0bWxfYTA4MDcyZGRlMWI2NGExMDg5ZjEwZDhjMDI3MTk2NDUgPSAkKGA8ZGl2IGlkPSJodG1sX2EwODA3MmRkZTFiNjRhMTA4OWYxMGQ4YzAyNzE5NjQ1IiBzdHlsZT0id2lkdGg6IDEwMC4wJTsgaGVpZ2h0OiAxMDAuMCU7Ij5SYXp6YSBQaXp6YSBBcnRpZ2lhbmFsZSBQcmljZTogJCQgUmF0aW5nOjQuMDwvZGl2PmApWzBdOwogICAgICAgICAgICBwb3B1cF9iMTc4MzZkMDcwODg0ODMzODA5MGJlOWU3ZDJhMTY5My5zZXRDb250ZW50KGh0bWxfYTA4MDcyZGRlMWI2NGExMDg5ZjEwZDhjMDI3MTk2NDUpOwogICAgICAgIAoKICAgICAgICBtYXJrZXJfNmYxYWU5NWYxZmYxNGE5NDg4MmVmOThjZTI3ODIwZjUuYmluZFBvcHVwKHBvcHVwX2IxNzgzNmQwNzA4ODQ4MzM4MDkwYmU5ZTdkMmExNjkzKQogICAgICAgIDsKCiAgICAgICAgCiAgICAKICAgIAogICAgICAgICAgICB2YXIgbWFya2VyX2FlYjAwNDUzMDlhMzQ5NzlhZDlmZmYzMzdmODg5Njk5ID0gTC5tYXJrZXIoCiAgICAgICAgICAgICAgICBbNDAuNjkxMjE5MzI5ODM0LCAtNzMuOTk3MzQ0OTcwNzAzMV0sCiAgICAgICAgICAgICAgICB7fQogICAgICAgICAgICApLmFkZFRvKG1hcF9hYjVhZGQyMTVmNDk0OTQ4YThkNDdlZjA3MDdkNjNiYik7CiAgICAgICAgCiAgICAKICAgICAgICB2YXIgcG9wdXBfZmRiZmZjMjRiN2UxNDg3YTgyMzllODNkYWFlOWM0ZWYgPSBMLnBvcHVwKHsibWF4V2lkdGgiOiAiMTAwJSJ9KTsKCiAgICAgICAgCiAgICAgICAgICAgIHZhciBodG1sXzg5NTJmYjJlMzQzOTRlN2U4MjM4NWMyMzI5YTU1NDA2ID0gJChgPGRpdiBpZD0iaHRtbF84OTUyZmIyZTM0Mzk0ZTdlODIzODVjMjMyOWE1NTQwNiIgc3R5bGU9IndpZHRoOiAxMDAuMCU7IGhlaWdodDogMTAwLjAlOyI+VGFibGUgODcgLSBCcm9va2x5biBIZWlnaHRzIFByaWNlOiAkJCBSYXRpbmc6NC4wPC9kaXY+YClbMF07CiAgICAgICAgICAgIHBvcHVwX2ZkYmZmYzI0YjdlMTQ4N2E4MjM5ZTgzZGFhZTljNGVmLnNldENvbnRlbnQoaHRtbF84OTUyZmIyZTM0Mzk0ZTdlODIzODVjMjMyOWE1NTQwNik7CiAgICAgICAgCgogICAgICAgIG1hcmtlcl9hZWIwMDQ1MzA5YTM0OTc5YWQ5ZmZmMzM3Zjg4OTY5OS5iaW5kUG9wdXAocG9wdXBfZmRiZmZjMjRiN2UxNDg3YTgyMzllODNkYWFlOWM0ZWYpCiAgICAgICAgOwoKICAgICAgICAKICAgIAogICAgCiAgICAgICAgICAgIHZhciBtYXJrZXJfNzZiODkxNjkyZWZiNDVjNWEyNGQxNGIzYjU4M2M1NzQgPSBMLm1hcmtlcigKICAgICAgICAgICAgICAgIFs0MC42ODgyODUsIC03My45ODkwMDZdLAogICAgICAgICAgICAgICAge30KICAgICAgICAgICAgKS5hZGRUbyhtYXBfYWI1YWRkMjE1ZjQ5NDk0OGE4ZDQ3ZWYwNzA3ZDYzYmIpOwogICAgICAgIAogICAgCiAgICAgICAgdmFyIHBvcHVwXzdlYmVhZWM0OTljODRjNWY5NDFkOTkyYjc2NTcyNzAyID0gTC5wb3B1cCh7Im1heFdpZHRoIjogIjEwMCUifSk7CgogICAgICAgIAogICAgICAgICAgICB2YXIgaHRtbF9kYjBiYjVkOWRkYjg0ZDVhYmY2NmNiMTFhZGU2Yjg3ZiA9ICQoYDxkaXYgaWQ9Imh0bWxfZGIwYmI1ZDlkZGI4NGQ1YWJmNjZjYjExYWRlNmI4N2YiIHN0eWxlPSJ3aWR0aDogMTAwLjAlOyBoZWlnaHQ6IDEwMC4wJTsiPlNvdHRvY2FzYSBQaXp6ZXJpYSBQcmljZTogJCQgUmF0aW5nOjQuNTwvZGl2PmApWzBdOwogICAgICAgICAgICBwb3B1cF83ZWJlYWVjNDk5Yzg0YzVmOTQxZDk5MmI3NjU3MjcwMi5zZXRDb250ZW50KGh0bWxfZGIwYmI1ZDlkZGI4NGQ1YWJmNjZjYjExYWRlNmI4N2YpOwogICAgICAgIAoKICAgICAgICBtYXJrZXJfNzZiODkxNjkyZWZiNDVjNWEyNGQxNGIzYjU4M2M1NzQuYmluZFBvcHVwKHBvcHVwXzdlYmVhZWM0OTljODRjNWY5NDFkOTkyYjc2NTcyNzAyKQogICAgICAgIDsKCiAgICAgICAgCiAgICAKICAgIAogICAgICAgICAgICB2YXIgbWFya2VyXzk3ZDBmMDM0NmY5ZDRmNmY4ZmU4ZWIwZTRkZjIyNGI1ID0gTC5tYXJrZXIoCiAgICAgICAgICAgICAgICBbNDAuNjgwNzAyLCAtNzMuOTY3NDU1XSwKICAgICAgICAgICAgICAgIHt9CiAgICAgICAgICAgICkuYWRkVG8obWFwX2FiNWFkZDIxNWY0OTQ5NDhhOGQ0N2VmMDcwN2Q2M2JiKTsKICAgICAgICAKICAgIAogICAgICAgIHZhciBwb3B1cF84YzY3YWU0NzRiOWY0NWZlODM5Y2U2NDE2OThmYjc5YSA9IEwucG9wdXAoeyJtYXhXaWR0aCI6ICIxMDAlIn0pOwoKICAgICAgICAKICAgICAgICAgICAgdmFyIGh0bWxfZWY4ZjVmNTRjMzRkNDRhN2IzOTE2N2ExMGQ0ZTI2MzUgPSAkKGA8ZGl2IGlkPSJodG1sX2VmOGY1ZjU0YzM0ZDQ0YTdiMzkxNjdhMTBkNGUyNjM1IiBzdHlsZT0id2lkdGg6IDEwMC4wJTsgaGVpZ2h0OiAxMDAuMCU7Ij5Ccm9va2x5bidzIEhvbWVzbGljZSBQaXp6ZXJpYSBQcmljZTogJCBSYXRpbmc6NC41PC9kaXY+YClbMF07CiAgICAgICAgICAgIHBvcHVwXzhjNjdhZTQ3NGI5ZjQ1ZmU4MzljZTY0MTY5OGZiNzlhLnNldENvbnRlbnQoaHRtbF9lZjhmNWY1NGMzNGQ0NGE3YjM5MTY3YTEwZDRlMjYzNSk7CiAgICAgICAgCgogICAgICAgIG1hcmtlcl85N2QwZjAzNDZmOWQ0ZjZmOGZlOGViMGU0ZGYyMjRiNS5iaW5kUG9wdXAocG9wdXBfOGM2N2FlNDc0YjlmNDVmZTgzOWNlNjQxNjk4ZmI3OWEpCiAgICAgICAgOwoKICAgICAgICAKICAgIAogICAgCiAgICAgICAgICAgIHZhciBtYXJrZXJfMDQzNjdmMmM4OTFjNDQ1NWFiMzI5MDI4ZTYxYjNkMTkgPSBMLm1hcmtlcigKICAgICAgICAgICAgICAgIFs0MC42OTc0NDI3LCAtNzMuOTY3NTE5N10sCiAgICAgICAgICAgICAgICB7fQogICAgICAgICAgICApLmFkZFRvKG1hcF9hYjVhZGQyMTVmNDk0OTQ4YThkNDdlZjA3MDdkNjNiYik7CiAgICAgICAgCiAgICAKICAgICAgICB2YXIgcG9wdXBfNjFlNTBhYWViODJiNGE0NTk5ZjE4OWZkNTQwOTQwYjAgPSBMLnBvcHVwKHsibWF4V2lkdGgiOiAiMTAwJSJ9KTsKCiAgICAgICAgCiAgICAgICAgICAgIHZhciBodG1sX2ZmODFjNTI0M2NhYjQ0N2NiYTJiM2IxNzY0ZDZhMGYxID0gJChgPGRpdiBpZD0iaHRtbF9mZjgxYzUyNDNjYWI0NDdjYmEyYjNiMTc2NGQ2YTBmMSIgc3R5bGU9IndpZHRoOiAxMDAuMCU7IGhlaWdodDogMTAwLjAlOyI+SWwgUG9ydG8gUmlzdG9yYW50ZSBQcmljZTogJCQgUmF0aW5nOjQuMDwvZGl2PmApWzBdOwogICAgICAgICAgICBwb3B1cF82MWU1MGFhZWI4MmI0YTQ1OTlmMTg5ZmQ1NDA5NDBiMC5zZXRDb250ZW50KGh0bWxfZmY4MWM1MjQzY2FiNDQ3Y2JhMmIzYjE3NjRkNmEwZjEpOwogICAgICAgIAoKICAgICAgICBtYXJrZXJfMDQzNjdmMmM4OTFjNDQ1NWFiMzI5MDI4ZTYxYjNkMTkuYmluZFBvcHVwKHBvcHVwXzYxZTUwYWFlYjgyYjRhNDU5OWYxODlmZDU0MDk0MGIwKQogICAgICAgIDsKCiAgICAgICAgCiAgICAKICAgIAogICAgICAgICAgICB2YXIgbWFya2VyXzVhMWVmMWRkYjA1MDQzMzhiMzU5MDAzMjBmNjEwYTAxID0gTC5tYXJrZXIoCiAgICAgICAgICAgICAgICBbNDAuNzMzODI2LCAtNzMuOTk5ODUyXSwKICAgICAgICAgICAgICAgIHt9CiAgICAgICAgICAgICkuYWRkVG8obWFwX2FiNWFkZDIxNWY0OTQ5NDhhOGQ0N2VmMDcwN2Q2M2JiKTsKICAgICAgICAKICAgIAogICAgICAgIHZhciBwb3B1cF9jYTcxMGJmMTE3ZjA0OTc2OWE2OTRhNzJhYTk2MTE3NCA9IEwucG9wdXAoeyJtYXhXaWR0aCI6ICIxMDAlIn0pOwoKICAgICAgICAKICAgICAgICAgICAgdmFyIGh0bWxfNDE1YmIzYjUzOGRiNDRmZWFmZjA3NTE4NmU1NWQ2NTIgPSAkKGA8ZGl2IGlkPSJodG1sXzQxNWJiM2I1MzhkYjQ0ZmVhZmYwNzUxODZlNTVkNjUyIiBzdHlsZT0id2lkdGg6IDEwMC4wJTsgaGVpZ2h0OiAxMDAuMCU7Ij5PbGlvIGUgUGnDuiBQcmljZTogJCQgUmF0aW5nOjQuNTwvZGl2PmApWzBdOwogICAgICAgICAgICBwb3B1cF9jYTcxMGJmMTE3ZjA0OTc2OWE2OTRhNzJhYTk2MTE3NC5zZXRDb250ZW50KGh0bWxfNDE1YmIzYjUzOGRiNDRmZWFmZjA3NTE4NmU1NWQ2NTIpOwogICAgICAgIAoKICAgICAgICBtYXJrZXJfNWExZWYxZGRiMDUwNDMzOGIzNTkwMDMyMGY2MTBhMDEuYmluZFBvcHVwKHBvcHVwX2NhNzEwYmYxMTdmMDQ5NzY5YTY5NGE3MmFhOTYxMTc0KQogICAgICAgIDsKCiAgICAgICAgCiAgICAKICAgIAogICAgICAgICAgICB2YXIgbWFya2VyX2YwNTU1NDcwMWY4OTQzYjBiYjJlMmVjNzgxZmQwODA2ID0gTC5tYXJrZXIoCiAgICAgICAgICAgICAgICBbNDAuNzQzNTUzLCAtNzMuOTgwMDI2XSwKICAgICAgICAgICAgICAgIHt9CiAgICAgICAgICAgICkuYWRkVG8obWFwX2FiNWFkZDIxNWY0OTQ5NDhhOGQ0N2VmMDcwN2Q2M2JiKTsKICAgICAgICAKICAgIAogICAgICAgIHZhciBwb3B1cF80ZDFmYWEwZTk5NTY0ZGY1YTY5YjEzOGRjNDNiOGM4YyA9IEwucG9wdXAoeyJtYXhXaWR0aCI6ICIxMDAlIn0pOwoKICAgICAgICAKICAgICAgICAgICAgdmFyIGh0bWxfYTA4Y2VhZjY5ZDVmNDQ2MzhlYzVjZWY4MzNkN2ZlZTUgPSAkKGA8ZGl2IGlkPSJodG1sX2EwOGNlYWY2OWQ1ZjQ0NjM4ZWM1Y2VmODMzZDdmZWU1IiBzdHlsZT0id2lkdGg6IDEwMC4wJTsgaGVpZ2h0OiAxMDAuMCU7Ij5Ob3JtYSBQcmljZTogJCQgUmF0aW5nOjQuNTwvZGl2PmApWzBdOwogICAgICAgICAgICBwb3B1cF80ZDFmYWEwZTk5NTY0ZGY1YTY5YjEzOGRjNDNiOGM4Yy5zZXRDb250ZW50KGh0bWxfYTA4Y2VhZjY5ZDVmNDQ2MzhlYzVjZWY4MzNkN2ZlZTUpOwogICAgICAgIAoKICAgICAgICBtYXJrZXJfZjA1NTU0NzAxZjg5NDNiMGJiMmUyZWM3ODFmZDA4MDYuYmluZFBvcHVwKHBvcHVwXzRkMWZhYTBlOTk1NjRkZjVhNjliMTM4ZGM0M2I4YzhjKQogICAgICAgIDsKCiAgICAgICAgCiAgICAKICAgIAogICAgICAgICAgICB2YXIgbWFya2VyXzkxYzVmNjE0MDkzYTQyYWJhZGQ2ZTc4ZjE2YThlNjExID0gTC5tYXJrZXIoCiAgICAgICAgICAgICAgICBbNDAuNzI3NDgsIC03My45ODI2OF0sCiAgICAgICAgICAgICAgICB7fQogICAgICAgICAgICApLmFkZFRvKG1hcF9hYjVhZGQyMTVmNDk0OTQ4YThkNDdlZjA3MDdkNjNiYik7CiAgICAgICAgCiAgICAKICAgICAgICB2YXIgcG9wdXBfNTM5MTA4NDc5MmU0NGJhZGEwOGNlYWY2ZDA1MzU4MmMgPSBMLnBvcHVwKHsibWF4V2lkdGgiOiAiMTAwJSJ9KTsKCiAgICAgICAgCiAgICAgICAgICAgIHZhciBodG1sX2QzMDIzNTI3YjA3OTQyYTNhNDgxZTM3ZTE0ZDFjZTI2ID0gJChgPGRpdiBpZD0iaHRtbF9kMzAyMzUyN2IwNzk0MmEzYTQ4MWUzN2UxNGQxY2UyNiIgc3R5bGU9IndpZHRoOiAxMDAuMCU7IGhlaWdodDogMTAwLjAlOyI+VmlsbGFnZSBTcXVhcmUgUGl6emEgUHJpY2U6ICQgUmF0aW5nOjQuNTwvZGl2PmApWzBdOwogICAgICAgICAgICBwb3B1cF81MzkxMDg0NzkyZTQ0YmFkYTA4Y2VhZjZkMDUzNTgyYy5zZXRDb250ZW50KGh0bWxfZDMwMjM1MjdiMDc5NDJhM2E0ODFlMzdlMTRkMWNlMjYpOwogICAgICAgIAoKICAgICAgICBtYXJrZXJfOTFjNWY2MTQwOTNhNDJhYmFkZDZlNzhmMTZhOGU2MTEuYmluZFBvcHVwKHBvcHVwXzUzOTEwODQ3OTJlNDRiYWRhMDhjZWFmNmQwNTM1ODJjKQogICAgICAgIDsKCiAgICAgICAgCiAgICAKICAgIAogICAgICAgICAgICB2YXIgbWFya2VyXzkzZmI5ODkyMWEyYjQxYTU5NDk2NTQ5ZjQ3NjExOTkyID0gTC5tYXJrZXIoCiAgICAgICAgICAgICAgICBbNDAuNjgxMDEwNzY2NzExMywgLTczLjk3NzE4MTM4OTkyNzldLAogICAgICAgICAgICAgICAge30KICAgICAgICAgICAgKS5hZGRUbyhtYXBfYWI1YWRkMjE1ZjQ5NDk0OGE4ZDQ3ZWYwNzA3ZDYzYmIpOwogICAgICAgIAogICAgCiAgICAgICAgdmFyIHBvcHVwXzM5M2UzNmZlNzhkZTRkYWZhYWFlMDc4MTBhOGRlZWI0ID0gTC5wb3B1cCh7Im1heFdpZHRoIjogIjEwMCUifSk7CgogICAgICAgIAogICAgICAgICAgICB2YXIgaHRtbF9hODdhNWVjOWY2MzA0ZjFiODI2NjJhMjAyMGZhOTM3OSA9ICQoYDxkaXYgaWQ9Imh0bWxfYTg3YTVlYzlmNjMwNGYxYjgyNjYyYTIwMjBmYTkzNzkiIHN0eWxlPSJ3aWR0aDogMTAwLjAlOyBoZWlnaHQ6IDEwMC4wJTsiPkFydGljaG9rZSBCYXNpbGxlJ3MgUGl6emEgUHJpY2U6ICQgUmF0aW5nOjMuNTwvZGl2PmApWzBdOwogICAgICAgICAgICBwb3B1cF8zOTNlMzZmZTc4ZGU0ZGFmYWFhZTA3ODEwYThkZWViNC5zZXRDb250ZW50KGh0bWxfYTg3YTVlYzlmNjMwNGYxYjgyNjYyYTIwMjBmYTkzNzkpOwogICAgICAgIAoKICAgICAgICBtYXJrZXJfOTNmYjk4OTIxYTJiNDFhNTk0OTY1NDlmNDc2MTE5OTIuYmluZFBvcHVwKHBvcHVwXzM5M2UzNmZlNzhkZTRkYWZhYWFlMDc4MTBhOGRlZWI0KQogICAgICAgIDsKCiAgICAgICAgCiAgICAKICAgIAogICAgICAgICAgICB2YXIgbWFya2VyX2MwZTJmOWIyMTBkOTQ4MTBhOTU5MWU2ODJlNzE3NzE0ID0gTC5tYXJrZXIoCiAgICAgICAgICAgICAgICBbNDAuNjk1MDMwOSwgLTczLjk5NjEyNTJdLAogICAgICAgICAgICAgICAge30KICAgICAgICAgICAgKS5hZGRUbyhtYXBfYWI1YWRkMjE1ZjQ5NDk0OGE4ZDQ3ZWYwNzA3ZDYzYmIpOwogICAgICAgIAogICAgCiAgICAgICAgdmFyIHBvcHVwXzVmNWQyZTRjZDgzNjRkM2Y5YjdlYTYwN2Y4MzMyMWQ0ID0gTC5wb3B1cCh7Im1heFdpZHRoIjogIjEwMCUifSk7CgogICAgICAgIAogICAgICAgICAgICB2YXIgaHRtbF9mNTY5NTlmMjEwN2U0YTUwYTY0OTRmYjkzMGIxM2E3NCA9ICQoYDxkaXYgaWQ9Imh0bWxfZjU2OTU5ZjIxMDdlNGE1MGE2NDk0ZmI5MzBiMTNhNzQiIHN0eWxlPSJ3aWR0aDogMTAwLjAlOyBoZWlnaHQ6IDEwMC4wJTsiPkRlbGxhcm9jY28ncyBQcmljZTogJCQgUmF0aW5nOjQuMDwvZGl2PmApWzBdOwogICAgICAgICAgICBwb3B1cF81ZjVkMmU0Y2Q4MzY0ZDNmOWI3ZWE2MDdmODMzMjFkNC5zZXRDb250ZW50KGh0bWxfZjU2OTU5ZjIxMDdlNGE1MGE2NDk0ZmI5MzBiMTNhNzQpOwogICAgICAgIAoKICAgICAgICBtYXJrZXJfYzBlMmY5YjIxMGQ5NDgxMGE5NTkxZTY4MmU3MTc3MTQuYmluZFBvcHVwKHBvcHVwXzVmNWQyZTRjZDgzNjRkM2Y5YjdlYTYwN2Y4MzMyMWQ0KQogICAgICAgIDsKCiAgICAgICAgCiAgICAKICAgIAogICAgICAgICAgICB2YXIgbWFya2VyXzM4MmE2NWQ5OTlhYTRmOThhMmYyMjk5ODY3MzMwZWExID0gTC5tYXJrZXIoCiAgICAgICAgICAgICAgICBbNDAuNjg5NywgLTczLjk2NTM2OV0sCiAgICAgICAgICAgICAgICB7fQogICAgICAgICAgICApLmFkZFRvKG1hcF9hYjVhZGQyMTVmNDk0OTQ4YThkNDdlZjA3MDdkNjNiYik7CiAgICAgICAgCiAgICAKICAgICAgICB2YXIgcG9wdXBfOWFlOTAzODlhYmM2NDA1ZDljOTFlMGNmYTZmY2RiNzUgPSBMLnBvcHVwKHsibWF4V2lkdGgiOiAiMTAwJSJ9KTsKCiAgICAgICAgCiAgICAgICAgICAgIHZhciBodG1sXzZlMGRhMDc1ZGRjNjQxNTVhYTMyODI5MjIwMDFhZjgxID0gJChgPGRpdiBpZD0iaHRtbF82ZTBkYTA3NWRkYzY0MTU1YWEzMjgyOTIyMDAxYWY4MSIgc3R5bGU9IndpZHRoOiAxMDAuMCU7IGhlaWdodDogMTAwLjAlOyI+THVpZ2kncyBQaXp6ZXJpYSBQcmljZTogJCBSYXRpbmc6NC41PC9kaXY+YClbMF07CiAgICAgICAgICAgIHBvcHVwXzlhZTkwMzg5YWJjNjQwNWQ5YzkxZTBjZmE2ZmNkYjc1LnNldENvbnRlbnQoaHRtbF82ZTBkYTA3NWRkYzY0MTU1YWEzMjgyOTIyMDAxYWY4MSk7CiAgICAgICAgCgogICAgICAgIG1hcmtlcl8zODJhNjVkOTk5YWE0Zjk4YTJmMjI5OTg2NzMzMGVhMS5iaW5kUG9wdXAocG9wdXBfOWFlOTAzODlhYmM2NDA1ZDljOTFlMGNmYTZmY2RiNzUpCiAgICAgICAgOwoKICAgICAgICAKICAgIAogICAgCiAgICAgICAgICAgIHZhciBtYXJrZXJfMWEzYjc3OGVmZjUyNDc3Njg1YjE2MWNlNjIzNTk3N2IgPSBMLm1hcmtlcigKICAgICAgICAgICAgICAgIFs0MC43MjkzMzAwNjg0NjksIC03NC4wMDM4NDAwMDczNTc5XSwKICAgICAgICAgICAgICAgIHt9CiAgICAgICAgICAgICkuYWRkVG8obWFwX2FiNWFkZDIxNWY0OTQ5NDhhOGQ0N2VmMDcwN2Q2M2JiKTsKICAgICAgICAKICAgIAogICAgICAgIHZhciBwb3B1cF9iNGJmNmE5OTIxMmM0MDZkOTFjODJlNDEwNmIzOWJjNiA9IEwucG9wdXAoeyJtYXhXaWR0aCI6ICIxMDAlIn0pOwoKICAgICAgICAKICAgICAgICAgICAgdmFyIGh0bWxfZTFhNzYzMDVlMDgwNDFmNzljNzE3ZTI3MGVmOGRkMGIgPSAkKGA8ZGl2IGlkPSJodG1sX2UxYTc2MzA1ZTA4MDQxZjc5YzcxN2UyNzBlZjhkZDBiIiBzdHlsZT0id2lkdGg6IDEwMC4wJTsgaGVpZ2h0OiAxMDAuMCU7Ij5FbWlseSAtIFdlc3QgVmlsbGFnZSBQcmljZTogJCQgUmF0aW5nOjQuMDwvZGl2PmApWzBdOwogICAgICAgICAgICBwb3B1cF9iNGJmNmE5OTIxMmM0MDZkOTFjODJlNDEwNmIzOWJjNi5zZXRDb250ZW50KGh0bWxfZTFhNzYzMDVlMDgwNDFmNzljNzE3ZTI3MGVmOGRkMGIpOwogICAgICAgIAoKICAgICAgICBtYXJrZXJfMWEzYjc3OGVmZjUyNDc3Njg1YjE2MWNlNjIzNTk3N2IuYmluZFBvcHVwKHBvcHVwX2I0YmY2YTk5MjEyYzQwNmQ5MWM4MmU0MTA2YjM5YmM2KQogICAgICAgIDsKCiAgICAgICAgCiAgICAKICAgIAogICAgICAgICAgICB2YXIgbWFya2VyXzU1OWM5NDk3MWUyODRkNDJiMGNiYjkyODVjMDQyYjgyID0gTC5tYXJrZXIoCiAgICAgICAgICAgICAgICBbNDAuODAwODQsIC03My45Njc2Nl0sCiAgICAgICAgICAgICAgICB7fQogICAgICAgICAgICApLmFkZFRvKG1hcF9hYjVhZGQyMTVmNDk0OTQ4YThkNDdlZjA3MDdkNjNiYik7CiAgICAgICAgCiAgICAKICAgICAgICB2YXIgcG9wdXBfNDVmNjdlNzhhOThlNDVmZTljODY1ZmVlZGE0NjFjZjkgPSBMLnBvcHVwKHsibWF4V2lkdGgiOiAiMTAwJSJ9KTsKCiAgICAgICAgCiAgICAgICAgICAgIHZhciBodG1sXzIyZGNlNjNlZDA4ZTRkYzI4ZTFmNGFiY2E0NTMxMGNhID0gJChgPGRpdiBpZD0iaHRtbF8yMmRjZTYzZWQwOGU0ZGMyOGUxZjRhYmNhNDUzMTBjYSIgc3R5bGU9IndpZHRoOiAxMDAuMCU7IGhlaWdodDogMTAwLjAlOyI+TUFNQSdTIFRPTyEgUHJpY2U6ICQkIFJhdGluZzozLjU8L2Rpdj5gKVswXTsKICAgICAgICAgICAgcG9wdXBfNDVmNjdlNzhhOThlNDVmZTljODY1ZmVlZGE0NjFjZjkuc2V0Q29udGVudChodG1sXzIyZGNlNjNlZDA4ZTRkYzI4ZTFmNGFiY2E0NTMxMGNhKTsKICAgICAgICAKCiAgICAgICAgbWFya2VyXzU1OWM5NDk3MWUyODRkNDJiMGNiYjkyODVjMDQyYjgyLmJpbmRQb3B1cChwb3B1cF80NWY2N2U3OGE5OGU0NWZlOWM4NjVmZWVkYTQ2MWNmOSkKICAgICAgICA7CgogICAgICAgIAogICAgCiAgICAKICAgICAgICAgICAgdmFyIG1hcmtlcl8wZWRmNjVlNTRlOWQ0M2IwODU4ZTA0YjYwODBhYmU2YyA9IEwubWFya2VyKAogICAgICAgICAgICAgICAgWzQwLjcxNzk1MywgLTczLjk2MzcwMjddLAogICAgICAgICAgICAgICAge30KICAgICAgICAgICAgKS5hZGRUbyhtYXBfYWI1YWRkMjE1ZjQ5NDk0OGE4ZDQ3ZWYwNzA3ZDYzYmIpOwogICAgICAgIAogICAgCiAgICAgICAgdmFyIHBvcHVwX2Q5NWQxMWQyZDFjYjQwM2Y5MDA0MmQyNmU1ZmM5ODNiID0gTC5wb3B1cCh7Im1heFdpZHRoIjogIjEwMCUifSk7CgogICAgICAgIAogICAgICAgICAgICB2YXIgaHRtbF83MGY4ZTE5NzAxMDE0MzM3YjY4MTFhYWMwYzQ0OWNjMyA9ICQoYDxkaXYgaWQ9Imh0bWxfNzBmOGUxOTcwMTAxNDMzN2I2ODExYWFjMGM0NDljYzMiIHN0eWxlPSJ3aWR0aDogMTAwLjAlOyBoZWlnaHQ6IDEwMC4wJTsiPkxhIE5vbm5hIEtyaXNweSBLcnVzdCBQaXp6YSBQcmljZTogJCQgUmF0aW5nOjQuMDwvZGl2PmApWzBdOwogICAgICAgICAgICBwb3B1cF9kOTVkMTFkMmQxY2I0MDNmOTAwNDJkMjZlNWZjOTgzYi5zZXRDb250ZW50KGh0bWxfNzBmOGUxOTcwMTAxNDMzN2I2ODExYWFjMGM0NDljYzMpOwogICAgICAgIAoKICAgICAgICBtYXJrZXJfMGVkZjY1ZTU0ZTlkNDNiMDg1OGUwNGI2MDgwYWJlNmMuYmluZFBvcHVwKHBvcHVwX2Q5NWQxMWQyZDFjYjQwM2Y5MDA0MmQyNmU1ZmM5ODNiKQogICAgICAgIDsKCiAgICAgICAgCiAgICAKICAgIAogICAgICAgICAgICB2YXIgbWFya2VyX2E5ZmMzNDQ2Y2NjYzRkMmZhMTM3ZGQ2YzBhNWQ4NGE2ID0gTC5tYXJrZXIoCiAgICAgICAgICAgICAgICBbNDAuNjkxMjgzNDA3MDc0NiwgLTczLjk5MDYwMjkyMDEwNDJdLAogICAgICAgICAgICAgICAge30KICAgICAgICAgICAgKS5hZGRUbyhtYXBfYWI1YWRkMjE1ZjQ5NDk0OGE4ZDQ3ZWYwNzA3ZDYzYmIpOwogICAgICAgIAogICAgCiAgICAgICAgdmFyIHBvcHVwX2RlYmNmNTg1ZjAwMDQ3ZWI4ZWRlNzMxZjE0YTdkNGU3ID0gTC5wb3B1cCh7Im1heFdpZHRoIjogIjEwMCUifSk7CgogICAgICAgIAogICAgICAgICAgICB2YXIgaHRtbF9hOWFiNDA3Y2QyMTQ0OTAzYjA5NTcyNzI3ODQzMzYzMCA9ICQoYDxkaXYgaWQ9Imh0bWxfYTlhYjQwN2NkMjE0NDkwM2IwOTU3MjcyNzg0MzM2MzAiIHN0eWxlPSJ3aWR0aDogMTAwLjAlOyBoZWlnaHQ6IDEwMC4wJTsiPlBpei16ZXR0YSBQcmljZTogJCBSYXRpbmc6NC41PC9kaXY+YClbMF07CiAgICAgICAgICAgIHBvcHVwX2RlYmNmNTg1ZjAwMDQ3ZWI4ZWRlNzMxZjE0YTdkNGU3LnNldENvbnRlbnQoaHRtbF9hOWFiNDA3Y2QyMTQ0OTAzYjA5NTcyNzI3ODQzMzYzMCk7CiAgICAgICAgCgogICAgICAgIG1hcmtlcl9hOWZjMzQ0NmNjY2M0ZDJmYTEzN2RkNmMwYTVkODRhNi5iaW5kUG9wdXAocG9wdXBfZGViY2Y1ODVmMDAwNDdlYjhlZGU3MzFmMTRhN2Q0ZTcpCiAgICAgICAgOwoKICAgICAgICAKICAgIAogICAgCiAgICAgICAgICAgIHZhciBtYXJrZXJfNGFlYWM4NzY3NWNkNGVmOGE1NGFiMmQ5OTI0NGIwNTEgPSBMLm1hcmtlcigKICAgICAgICAgICAgICAgIFs0MC43MjIxMjEsIC03My45NTY2NzhdLAogICAgICAgICAgICAgICAge30KICAgICAgICAgICAgKS5hZGRUbyhtYXBfYWI1YWRkMjE1ZjQ5NDk0OGE4ZDQ3ZWYwNzA3ZDYzYmIpOwogICAgICAgIAogICAgCiAgICAgICAgdmFyIHBvcHVwXzE0YjllNzZmZmEyNTRhYzlhNDQyZGIwMjNlODE4MjZjID0gTC5wb3B1cCh7Im1heFdpZHRoIjogIjEwMCUifSk7CgogICAgICAgIAogICAgICAgICAgICB2YXIgaHRtbF8wMzExYTEzNjMwMjM0NDhkYjZkNWNiM2I1NjRmNThmNyA9ICQoYDxkaXYgaWQ9Imh0bWxfMDMxMWExMzYzMDIzNDQ4ZGI2ZDVjYjNiNTY0ZjU4ZjciIHN0eWxlPSJ3aWR0aDogMTAwLjAlOyBoZWlnaHQ6IDEwMC4wJTsiPkxldWNhIFByaWNlOiAkJCQgUmF0aW5nOjQuMDwvZGl2PmApWzBdOwogICAgICAgICAgICBwb3B1cF8xNGI5ZTc2ZmZhMjU0YWM5YTQ0MmRiMDIzZTgxODI2Yy5zZXRDb250ZW50KGh0bWxfMDMxMWExMzYzMDIzNDQ4ZGI2ZDVjYjNiNTY0ZjU4ZjcpOwogICAgICAgIAoKICAgICAgICBtYXJrZXJfNGFlYWM4NzY3NWNkNGVmOGE1NGFiMmQ5OTI0NGIwNTEuYmluZFBvcHVwKHBvcHVwXzE0YjllNzZmZmEyNTRhYzlhNDQyZGIwMjNlODE4MjZjKQogICAgICAgIDsKCiAgICAgICAgCiAgICAKICAgIAogICAgICAgICAgICB2YXIgbWFya2VyXzdhNWQyNDE4NGE3MTQwY2Y5YWI0NjM1N2JlMTNhZDM5ID0gTC5tYXJrZXIoCiAgICAgICAgICAgICAgICBbNDAuNzY0OTIsIC03My45Nzc5NF0sCiAgICAgICAgICAgICAgICB7fQogICAgICAgICAgICApLmFkZFRvKG1hcF9hYjVhZGQyMTVmNDk0OTQ4YThkNDdlZjA3MDdkNjNiYik7CiAgICAgICAgCiAgICAKICAgICAgICB2YXIgcG9wdXBfYmIyNWFiODYyZWU2NDdmODgzNDkyZDhlZmZlOGQ5YjkgPSBMLnBvcHVwKHsibWF4V2lkdGgiOiAiMTAwJSJ9KTsKCiAgICAgICAgCiAgICAgICAgICAgIHZhciBodG1sX2E3MjY1MWYxN2UzMTRmNzFiOTkwNTE5NTFhMGJhYjE1ID0gJChgPGRpdiBpZD0iaHRtbF9hNzI2NTFmMTdlMzE0ZjcxYjk5MDUxOTUxYTBiYWIxNSIgc3R5bGU9IndpZHRoOiAxMDAuMCU7IGhlaWdodDogMTAwLjAlOyI+QW5nZWxvJ3MgQ29hbCBPdmVuIFBpenplcmlhIFByaWNlOiAkJCBSYXRpbmc6NC4wPC9kaXY+YClbMF07CiAgICAgICAgICAgIHBvcHVwX2JiMjVhYjg2MmVlNjQ3Zjg4MzQ5MmQ4ZWZmZThkOWI5LnNldENvbnRlbnQoaHRtbF9hNzI2NTFmMTdlMzE0ZjcxYjk5MDUxOTUxYTBiYWIxNSk7CiAgICAgICAgCgogICAgICAgIG1hcmtlcl83YTVkMjQxODRhNzE0MGNmOWFiNDYzNTdiZTEzYWQzOS5iaW5kUG9wdXAocG9wdXBfYmIyNWFiODYyZWU2NDdmODgzNDkyZDhlZmZlOGQ5YjkpCiAgICAgICAgOwoKICAgICAgICAKICAgIAogICAgCiAgICAgICAgICAgIHZhciBtYXJrZXJfMDIyNmNhYzEyM2U3NDkxMDhjNzhiOGUzOWQ1MzFlYTAgPSBMLm1hcmtlcigKICAgICAgICAgICAgICAgIFs0MC43Mzk4NDE1LCAtNzMuOTc5Mjg2Ml0sCiAgICAgICAgICAgICAgICB7fQogICAgICAgICAgICApLmFkZFRvKG1hcF9hYjVhZGQyMTVmNDk0OTQ4YThkNDdlZjA3MDdkNjNiYik7CiAgICAgICAgCiAgICAKICAgICAgICB2YXIgcG9wdXBfNzllZDA2YmE4YWQ4NGNiZThiZDkwYzkyOWNhZjc5NzcgPSBMLnBvcHVwKHsibWF4V2lkdGgiOiAiMTAwJSJ9KTsKCiAgICAgICAgCiAgICAgICAgICAgIHZhciBodG1sX2IyMzU5MmQ2YjAwZDQyZmFhNGJlYjkzMjExNGE4YWI2ID0gJChgPGRpdiBpZD0iaHRtbF9iMjM1OTJkNmIwMGQ0MmZhYTRiZWI5MzIxMTRhOGFiNiIgc3R5bGU9IndpZHRoOiAxMDAuMCU7IGhlaWdodDogMTAwLjAlOyI+UGF0cml6aWEncyBQaXp6YSBhbmQgUGFzdGEgUHJpY2U6ICQkIFJhdGluZzo0LjA8L2Rpdj5gKVswXTsKICAgICAgICAgICAgcG9wdXBfNzllZDA2YmE4YWQ4NGNiZThiZDkwYzkyOWNhZjc5Nzcuc2V0Q29udGVudChodG1sX2IyMzU5MmQ2YjAwZDQyZmFhNGJlYjkzMjExNGE4YWI2KTsKICAgICAgICAKCiAgICAgICAgbWFya2VyXzAyMjZjYWMxMjNlNzQ5MTA4Yzc4YjhlMzlkNTMxZWEwLmJpbmRQb3B1cChwb3B1cF83OWVkMDZiYThhZDg0Y2JlOGJkOTBjOTI5Y2FmNzk3NykKICAgICAgICA7CgogICAgICAgIAogICAgCiAgICAKICAgICAgICAgICAgdmFyIG1hcmtlcl85MDhiNTFlZWJhMDI0YTNhODIxYjNmZDVkZDQ5ZmJkYiA9IEwubWFya2VyKAogICAgICAgICAgICAgICAgWzQwLjcwMjc2LCAtNzMuOTE3MV0sCiAgICAgICAgICAgICAgICB7fQogICAgICAgICAgICApLmFkZFRvKG1hcF9hYjVhZGQyMTVmNDk0OTQ4YThkNDdlZjA3MDdkNjNiYik7CiAgICAgICAgCiAgICAKICAgICAgICB2YXIgcG9wdXBfNjEwYWUzYzZiN2I1NGY4ZGI3ZDY2YjdkODY4YmU0NzMgPSBMLnBvcHVwKHsibWF4V2lkdGgiOiAiMTAwJSJ9KTsKCiAgICAgICAgCiAgICAgICAgICAgIHZhciBodG1sX2E5OTZiZjQ5ZTUzZTQ5ZjA4OGRjZjY2NDgzOTc5OTgxID0gJChgPGRpdiBpZD0iaHRtbF9hOTk2YmY0OWU1M2U0OWYwODhkY2Y2NjQ4Mzk3OTk4MSIgc3R5bGU9IndpZHRoOiAxMDAuMCU7IGhlaWdodDogMTAwLjAlOyI+T3BzIFByaWNlOiAkJCBSYXRpbmc6NC41PC9kaXY+YClbMF07CiAgICAgICAgICAgIHBvcHVwXzYxMGFlM2M2YjdiNTRmOGRiN2Q2NmI3ZDg2OGJlNDczLnNldENvbnRlbnQoaHRtbF9hOTk2YmY0OWU1M2U0OWYwODhkY2Y2NjQ4Mzk3OTk4MSk7CiAgICAgICAgCgogICAgICAgIG1hcmtlcl85MDhiNTFlZWJhMDI0YTNhODIxYjNmZDVkZDQ5ZmJkYi5iaW5kUG9wdXAocG9wdXBfNjEwYWUzYzZiN2I1NGY4ZGI3ZDY2YjdkODY4YmU0NzMpCiAgICAgICAgOwoKICAgICAgICAKICAgIAogICAgCiAgICAgICAgICAgIHZhciBtYXJrZXJfNjE4NzFmNGM3MDlkNGY5YWI1ZDI2MjI3OGNmNGU0OGUgPSBMLm1hcmtlcigKICAgICAgICAgICAgICAgIFs0MC41Nzg5MTMyMjU2NjY5NjYsIC03My45ODM4MzM5Mjg4MzU1NV0sCiAgICAgICAgICAgICAgICB7fQogICAgICAgICAgICApLmFkZFRvKG1hcF9hYjVhZGQyMTVmNDk0OTQ4YThkNDdlZjA3MDdkNjNiYik7CiAgICAgICAgCiAgICAKICAgICAgICB2YXIgcG9wdXBfYTAxNTI0ZGFjNTE5NDNhZWE2Yjk2YTIxYTExZTA3NjcgPSBMLnBvcHVwKHsibWF4V2lkdGgiOiAiMTAwJSJ9KTsKCiAgICAgICAgCiAgICAgICAgICAgIHZhciBodG1sX2ZmZmQ5Yjk2YjVkYjQwOTI5N2U3OTczYTk2ZDA0OGU1ID0gJChgPGRpdiBpZD0iaHRtbF9mZmZkOWI5NmI1ZGI0MDkyOTdlNzk3M2E5NmQwNDhlNSIgc3R5bGU9IndpZHRoOiAxMDAuMCU7IGhlaWdodDogMTAwLjAlOyI+VG90b25ubydzIFByaWNlOiAkJCBSYXRpbmc6NC4wPC9kaXY+YClbMF07CiAgICAgICAgICAgIHBvcHVwX2EwMTUyNGRhYzUxOTQzYWVhNmI5NmEyMWExMWUwNzY3LnNldENvbnRlbnQoaHRtbF9mZmZkOWI5NmI1ZGI0MDkyOTdlNzk3M2E5NmQwNDhlNSk7CiAgICAgICAgCgogICAgICAgIG1hcmtlcl82MTg3MWY0YzcwOWQ0ZjlhYjVkMjYyMjc4Y2Y0ZTQ4ZS5iaW5kUG9wdXAocG9wdXBfYTAxNTI0ZGFjNTE5NDNhZWE2Yjk2YTIxYTExZTA3NjcpCiAgICAgICAgOwoKICAgICAgICAKICAgIAogICAgCiAgICAgICAgICAgIHZhciBtYXJrZXJfYzk0YWJkZWU5OGZjNGY1YTgzMGZkZGE1Yzc3YjUzMjggPSBMLm1hcmtlcigKICAgICAgICAgICAgICAgIFs0MC43MDQzMzYyLCAtNzQuMDEwMTczM10sCiAgICAgICAgICAgICAgICB7fQogICAgICAgICAgICApLmFkZFRvKG1hcF9hYjVhZGQyMTVmNDk0OTQ4YThkNDdlZjA3MDdkNjNiYik7CiAgICAgICAgCiAgICAKICAgICAgICB2YXIgcG9wdXBfYzBhMzYzNDkxMWU1NDExODg4MzYzMTM3NGFhMTUxOTMgPSBMLnBvcHVwKHsibWF4V2lkdGgiOiAiMTAwJSJ9KTsKCiAgICAgICAgCiAgICAgICAgICAgIHZhciBodG1sX2NmNWY2MzdjZWIyZjQ5Njc4MmNjMGE3YmE0NGNlYThkID0gJChgPGRpdiBpZD0iaHRtbF9jZjVmNjM3Y2ViMmY0OTY3ODJjYzBhN2JhNDRjZWE4ZCIgc3R5bGU9IndpZHRoOiAxMDAuMCU7IGhlaWdodDogMTAwLjAlOyI+QWRyaWVubmUncyBQaXp6YWJhciBQcmljZTogJCQgUmF0aW5nOjQuMDwvZGl2PmApWzBdOwogICAgICAgICAgICBwb3B1cF9jMGEzNjM0OTExZTU0MTE4ODgzNjMxMzc0YWExNTE5My5zZXRDb250ZW50KGh0bWxfY2Y1ZjYzN2NlYjJmNDk2NzgyY2MwYTdiYTQ0Y2VhOGQpOwogICAgICAgIAoKICAgICAgICBtYXJrZXJfYzk0YWJkZWU5OGZjNGY1YTgzMGZkZGE1Yzc3YjUzMjguYmluZFBvcHVwKHBvcHVwX2MwYTM2MzQ5MTFlNTQxMTg4ODM2MzEzNzRhYTE1MTkzKQogICAgICAgIDsKCiAgICAgICAgCiAgICAKICAgIAogICAgICAgICAgICB2YXIgbWFya2VyX2QzNTI3ZGY1ZjdkYjQ1ZjFiYmIxOTZkMmI3NGYxMzk1ID0gTC5tYXJrZXIoCiAgICAgICAgICAgICAgICBbNDAuNzI5NDIxODE2NDUzNTYsIC03My45ODEyNzY3MTUxODg0N10sCiAgICAgICAgICAgICAgICB7fQogICAgICAgICAgICApLmFkZFRvKG1hcF9hYjVhZGQyMTVmNDk0OTQ4YThkNDdlZjA3MDdkNjNiYik7CiAgICAgICAgCiAgICAKICAgICAgICB2YXIgcG9wdXBfNzI3Yjc2OTFlYjU5NGRhMTlkODViMDI2YWRjNGJkMTkgPSBMLnBvcHVwKHsibWF4V2lkdGgiOiAiMTAwJSJ9KTsKCiAgICAgICAgCiAgICAgICAgICAgIHZhciBodG1sX2E4Nzc4NWUzNWMyYTQwZTZiYmIxZjY4MzcyOTc0ZGE4ID0gJChgPGRpdiBpZD0iaHRtbF9hODc3ODVlMzVjMmE0MGU2YmJiMWY2ODM3Mjk3NGRhOCIgc3R5bGU9IndpZHRoOiAxMDAuMCU7IGhlaWdodDogMTAwLjAlOyI+QmFrZXIncyBQaXp6YSBQcmljZTogJCBSYXRpbmc6NC41PC9kaXY+YClbMF07CiAgICAgICAgICAgIHBvcHVwXzcyN2I3NjkxZWI1OTRkYTE5ZDg1YjAyNmFkYzRiZDE5LnNldENvbnRlbnQoaHRtbF9hODc3ODVlMzVjMmE0MGU2YmJiMWY2ODM3Mjk3NGRhOCk7CiAgICAgICAgCgogICAgICAgIG1hcmtlcl9kMzUyN2RmNWY3ZGI0NWYxYmJiMTk2ZDJiNzRmMTM5NS5iaW5kUG9wdXAocG9wdXBfNzI3Yjc2OTFlYjU5NGRhMTlkODViMDI2YWRjNGJkMTkpCiAgICAgICAgOwoKICAgICAgICAKICAgIAogICAgCiAgICAgICAgICAgIHZhciBtYXJrZXJfM2RiY2UwZTkzN2IzNDJmMGFjZmNlYjY4OTNhN2I1OWUgPSBMLm1hcmtlcigKICAgICAgICAgICAgICAgIFs0MC43ODI2LCAtNzMuOTUzNTFdLAogICAgICAgICAgICAgICAge30KICAgICAgICAgICAgKS5hZGRUbyhtYXBfYWI1YWRkMjE1ZjQ5NDk0OGE4ZDQ3ZWYwNzA3ZDYzYmIpOwogICAgICAgIAogICAgCiAgICAgICAgdmFyIHBvcHVwX2I4Zjc1YzRlNDI0MTQ2NjRhODBkNmZmYWFlMDA0NDM2ID0gTC5wb3B1cCh7Im1heFdpZHRoIjogIjEwMCUifSk7CgogICAgICAgIAogICAgICAgICAgICB2YXIgaHRtbF85OTNhNTJjZGMwYWU0YTYyOTJiMzdjZGU5NjgyMTc1MCA9ICQoYDxkaXYgaWQ9Imh0bWxfOTkzYTUyY2RjMGFlNGE2MjkyYjM3Y2RlOTY4MjE3NTAiIHN0eWxlPSJ3aWR0aDogMTAwLjAlOyBoZWlnaHQ6IDEwMC4wJTsiPk1hcmluYXJhIFBpenphIFByaWNlOiAkIFJhdGluZzo0LjA8L2Rpdj5gKVswXTsKICAgICAgICAgICAgcG9wdXBfYjhmNzVjNGU0MjQxNDY2NGE4MGQ2ZmZhYWUwMDQ0MzYuc2V0Q29udGVudChodG1sXzk5M2E1MmNkYzBhZTRhNjI5MmIzN2NkZTk2ODIxNzUwKTsKICAgICAgICAKCiAgICAgICAgbWFya2VyXzNkYmNlMGU5MzdiMzQyZjBhY2ZjZWI2ODkzYTdiNTllLmJpbmRQb3B1cChwb3B1cF9iOGY3NWM0ZTQyNDE0NjY0YTgwZDZmZmFhZTAwNDQzNikKICAgICAgICA7CgogICAgICAgIAogICAgCiAgICAKICAgICAgICAgICAgdmFyIG1hcmtlcl8wNmNlNGI3MDY4OGQ0NWI5YTA0ODNkZDNmZjNlYjExNiA9IEwubWFya2VyKAogICAgICAgICAgICAgICAgWzQwLjczMDMzLCAtNzMuOTg0MDNdLAogICAgICAgICAgICAgICAge30KICAgICAgICAgICAgKS5hZGRUbyhtYXBfYWI1YWRkMjE1ZjQ5NDk0OGE4ZDQ3ZWYwNzA3ZDYzYmIpOwogICAgICAgIAogICAgCiAgICAgICAgdmFyIHBvcHVwXzY0MmMxZDVlNmE5ZTRlOTI5ZTMyZTAzYWFkNDNhOWIwID0gTC5wb3B1cCh7Im1heFdpZHRoIjogIjEwMCUifSk7CgogICAgICAgIAogICAgICAgICAgICB2YXIgaHRtbF9iMGFiMzc4ZjRlZWU0NDZkOTI0NzU1YmRlYzNmNzlhMyA9ICQoYDxkaXYgaWQ9Imh0bWxfYjBhYjM3OGY0ZWVlNDQ2ZDkyNDc1NWJkZWMzZjc5YTMiIHN0eWxlPSJ3aWR0aDogMTAwLjAlOyBoZWlnaHQ6IDEwMC4wJTsiPlNhdWNlIFBpenplcmlhIFByaWNlOiAkIFJhdGluZzo0LjU8L2Rpdj5gKVswXTsKICAgICAgICAgICAgcG9wdXBfNjQyYzFkNWU2YTllNGU5MjllMzJlMDNhYWQ0M2E5YjAuc2V0Q29udGVudChodG1sX2IwYWIzNzhmNGVlZTQ0NmQ5MjQ3NTViZGVjM2Y3OWEzKTsKICAgICAgICAKCiAgICAgICAgbWFya2VyXzA2Y2U0YjcwNjg4ZDQ1YjlhMDQ4M2RkM2ZmM2ViMTE2LmJpbmRQb3B1cChwb3B1cF82NDJjMWQ1ZTZhOWU0ZTkyOWUzMmUwM2FhZDQzYTliMCkKICAgICAgICA7CgogICAgICAgIAogICAgCiAgICAKICAgICAgICAgICAgdmFyIG1hcmtlcl8zNzRmYmJmOWJjMTM0MjU2YmY3YWE0MWQ4NGNkNTZmMCA9IEwubWFya2VyKAogICAgICAgICAgICAgICAgWzQwLjcyODEzLCAtNzQuMDAxODhdLAogICAgICAgICAgICAgICAge30KICAgICAgICAgICAgKS5hZGRUbyhtYXBfYWI1YWRkMjE1ZjQ5NDk0OGE4ZDQ3ZWYwNzA3ZDYzYmIpOwogICAgICAgIAogICAgCiAgICAgICAgdmFyIHBvcHVwXzBjZGQ3Yjc0YWJjNDRjMDM4YzQ5OTdjZjhiOTYxOGE2ID0gTC5wb3B1cCh7Im1heFdpZHRoIjogIjEwMCUifSk7CgogICAgICAgIAogICAgICAgICAgICB2YXIgaHRtbF8zOWQ5MDM5MzRjNTM0OTBiYTY4ODU5MDkyMTU3MDU4NSA9ICQoYDxkaXYgaWQ9Imh0bWxfMzlkOTAzOTM0YzUzNDkwYmE2ODg1OTA5MjE1NzA1ODUiIHN0eWxlPSJ3aWR0aDogMTAwLjAlOyBoZWlnaHQ6IDEwMC4wJTsiPlNvbmcgRSBOYXB1bGUgUHJpY2U6ICQkIFJhdGluZzo0LjU8L2Rpdj5gKVswXTsKICAgICAgICAgICAgcG9wdXBfMGNkZDdiNzRhYmM0NGMwMzhjNDk5N2NmOGI5NjE4YTYuc2V0Q29udGVudChodG1sXzM5ZDkwMzkzNGM1MzQ5MGJhNjg4NTkwOTIxNTcwNTg1KTsKICAgICAgICAKCiAgICAgICAgbWFya2VyXzM3NGZiYmY5YmMxMzQyNTZiZjdhYTQxZDg0Y2Q1NmYwLmJpbmRQb3B1cChwb3B1cF8wY2RkN2I3NGFiYzQ0YzAzOGM0OTk3Y2Y4Yjk2MThhNikKICAgICAgICA7CgogICAgICAgIAogICAgCiAgICAKICAgICAgICAgICAgdmFyIG1hcmtlcl8yZTBiMzhhMTI0YmU0NmY3YTUyMWNmZTEzMDlhNzE3ZSA9IEwubWFya2VyKAogICAgICAgICAgICAgICAgWzQwLjcyMDg4ODMsIC03My45OTYyNDA0XSwKICAgICAgICAgICAgICAgIHt9CiAgICAgICAgICAgICkuYWRkVG8obWFwX2FiNWFkZDIxNWY0OTQ5NDhhOGQ0N2VmMDcwN2Q2M2JiKTsKICAgICAgICAKICAgIAogICAgICAgIHZhciBwb3B1cF84MTdkZWM3NjVjZWI0YTE0YTRkYTQxMDFlNTc0MmNhNCA9IEwucG9wdXAoeyJtYXhXaWR0aCI6ICIxMDAlIn0pOwoKICAgICAgICAKICAgICAgICAgICAgdmFyIGh0bWxfM2ZhYzUzOTFmYjYyNDBjNTk2ZDE5ZDY2N2NjYTExY2QgPSAkKGA8ZGl2IGlkPSJodG1sXzNmYWM1MzkxZmI2MjQwYzU5NmQxOWQ2NjdjY2ExMWNkIiBzdHlsZT0id2lkdGg6IDEwMC4wJTsgaGVpZ2h0OiAxMDAuMCU7Ij5Ob2xpdGEgUGl6emEgUHJpY2U6ICQgUmF0aW5nOjQuNTwvZGl2PmApWzBdOwogICAgICAgICAgICBwb3B1cF84MTdkZWM3NjVjZWI0YTE0YTRkYTQxMDFlNTc0MmNhNC5zZXRDb250ZW50KGh0bWxfM2ZhYzUzOTFmYjYyNDBjNTk2ZDE5ZDY2N2NjYTExY2QpOwogICAgICAgIAoKICAgICAgICBtYXJrZXJfMmUwYjM4YTEyNGJlNDZmN2E1MjFjZmUxMzA5YTcxN2UuYmluZFBvcHVwKHBvcHVwXzgxN2RlYzc2NWNlYjRhMTRhNGRhNDEwMWU1NzQyY2E0KQogICAgICAgIDsKCiAgICAgICAgCiAgICAKICAgIAogICAgICAgICAgICB2YXIgbWFya2VyX2I0MGY5OTAwMzYzYzRhNTE4ZTIzMTc2MDU0M2FjMTY2ID0gTC5tYXJrZXIoCiAgICAgICAgICAgICAgICBbNDAuNzYzOTQsIC03My45ODgzMzk5XSwKICAgICAgICAgICAgICAgIHt9CiAgICAgICAgICAgICkuYWRkVG8obWFwX2FiNWFkZDIxNWY0OTQ5NDhhOGQ0N2VmMDcwN2Q2M2JiKTsKICAgICAgICAKICAgIAogICAgICAgIHZhciBwb3B1cF84NTRhNTJjZWJkZTY0NjRiYjZmZDc3M2IwNTQwZjAzYiA9IEwucG9wdXAoeyJtYXhXaWR0aCI6ICIxMDAlIn0pOwoKICAgICAgICAKICAgICAgICAgICAgdmFyIGh0bWxfZWE1ZTZmMWI0YTMxNDk4Nzk1ZDczZWE1N2U1N2FlZTIgPSAkKGA8ZGl2IGlkPSJodG1sX2VhNWU2ZjFiNGEzMTQ5ODc5NWQ3M2VhNTdlNTdhZWUyIiBzdHlsZT0id2lkdGg6IDEwMC4wJTsgaGVpZ2h0OiAxMDAuMCU7Ij5CIFNpZGUgUGl6emEgJiBXaW5lIEJhciBQcmljZTogJCQgUmF0aW5nOjQuNTwvZGl2PmApWzBdOwogICAgICAgICAgICBwb3B1cF84NTRhNTJjZWJkZTY0NjRiYjZmZDc3M2IwNTQwZjAzYi5zZXRDb250ZW50KGh0bWxfZWE1ZTZmMWI0YTMxNDk4Nzk1ZDczZWE1N2U1N2FlZTIpOwogICAgICAgIAoKICAgICAgICBtYXJrZXJfYjQwZjk5MDAzNjNjNGE1MThlMjMxNzYwNTQzYWMxNjYuYmluZFBvcHVwKHBvcHVwXzg1NGE1MmNlYmRlNjQ2NGJiNmZkNzczYjA1NDBmMDNiKQogICAgICAgIDsKCiAgICAgICAgCiAgICAKICAgIAogICAgICAgICAgICB2YXIgbWFya2VyXzk5OTk3OGEwNGY2OTQ4YjViMjI4ZDBkNDZmNGZiMjk2ID0gTC5tYXJrZXIoCiAgICAgICAgICAgICAgICBbNDAuNzQ2MjMsIC03My45OTc0XSwKICAgICAgICAgICAgICAgIHt9CiAgICAgICAgICAgICkuYWRkVG8obWFwX2FiNWFkZDIxNWY0OTQ5NDhhOGQ0N2VmMDcwN2Q2M2JiKTsKICAgICAgICAKICAgIAogICAgICAgIHZhciBwb3B1cF80NTA0YzM4Mzc4YjM0MzcwYjhjMDAxZjVlZjdhYTQ0ZiA9IEwucG9wdXAoeyJtYXhXaWR0aCI6ICIxMDAlIn0pOwoKICAgICAgICAKICAgICAgICAgICAgdmFyIGh0bWxfNDkxOWEwMjMxYTYzNDc4MTkxNjI2YzBhMmEyZmRiMTEgPSAkKGA8ZGl2IGlkPSJodG1sXzQ5MTlhMDIzMWE2MzQ3ODE5MTYyNmMwYTJhMmZkYjExIiBzdHlsZT0id2lkdGg6IDEwMC4wJTsgaGVpZ2h0OiAxMDAuMCU7Ij5Mb21iYXJkaSdzIFBpenphIFByaWNlOiAkJCBSYXRpbmc6NC4wPC9kaXY+YClbMF07CiAgICAgICAgICAgIHBvcHVwXzQ1MDRjMzgzNzhiMzQzNzBiOGMwMDFmNWVmN2FhNDRmLnNldENvbnRlbnQoaHRtbF80OTE5YTAyMzFhNjM0NzgxOTE2MjZjMGEyYTJmZGIxMSk7CiAgICAgICAgCgogICAgICAgIG1hcmtlcl85OTk5NzhhMDRmNjk0OGI1YjIyOGQwZDQ2ZjRmYjI5Ni5iaW5kUG9wdXAocG9wdXBfNDUwNGMzODM3OGIzNDM3MGI4YzAwMWY1ZWY3YWE0NGYpCiAgICAgICAgOwoKICAgICAgICAKICAgIAogICAgCiAgICAgICAgICAgIHZhciBtYXJrZXJfNTQxZjk1ZGQzODUxNGM0YTkxNjNmNWFkZWNkZjljYWIgPSBMLm1hcmtlcigKICAgICAgICAgICAgICAgIFs0MC43MjUzNTMsIC03My45ODk3NDZdLAogICAgICAgICAgICAgICAge30KICAgICAgICAgICAgKS5hZGRUbyhtYXBfYWI1YWRkMjE1ZjQ5NDk0OGE4ZDQ3ZWYwNzA3ZDYzYmIpOwogICAgICAgIAogICAgCiAgICAgICAgdmFyIHBvcHVwXzg5Nzg2YTlmNjBiYTQ5ZTJiNjFjZGI2OGFmOWFhN2EwID0gTC5wb3B1cCh7Im1heFdpZHRoIjogIjEwMCUifSk7CgogICAgICAgIAogICAgICAgICAgICB2YXIgaHRtbF8zNzkzZjE2ZDMwZDk0YzA3OGM1MDVmMTY2OWEyMTkxNCA9ICQoYDxkaXYgaWQ9Imh0bWxfMzc5M2YxNmQzMGQ5NGMwNzhjNTA1ZjE2NjlhMjE5MTQiIHN0eWxlPSJ3aWR0aDogMTAwLjAlOyBoZWlnaHQ6IDEwMC4wJTsiPlByb3RvJ3MgUGl6emEgUHJpY2U6ICQgUmF0aW5nOjQuNTwvZGl2PmApWzBdOwogICAgICAgICAgICBwb3B1cF84OTc4NmE5ZjYwYmE0OWUyYjYxY2RiNjhhZjlhYTdhMC5zZXRDb250ZW50KGh0bWxfMzc5M2YxNmQzMGQ5NGMwNzhjNTA1ZjE2NjlhMjE5MTQpOwogICAgICAgIAoKICAgICAgICBtYXJrZXJfNTQxZjk1ZGQzODUxNGM0YTkxNjNmNWFkZWNkZjljYWIuYmluZFBvcHVwKHBvcHVwXzg5Nzg2YTlmNjBiYTQ5ZTJiNjFjZGI2OGFmOWFhN2EwKQogICAgICAgIDsKCiAgICAgICAgCiAgICAKICAgIAogICAgICAgICAgICB2YXIgbWFya2VyX2ZjNDA0ZDI4NzY5ZDRiOGJhNWViMDM5NzJjOTM5N2EwID0gTC5tYXJrZXIoCiAgICAgICAgICAgICAgICBbNDAuNzI4MzYsIC03My45NTcyXSwKICAgICAgICAgICAgICAgIHt9CiAgICAgICAgICAgICkuYWRkVG8obWFwX2FiNWFkZDIxNWY0OTQ5NDhhOGQ0N2VmMDcwN2Q2M2JiKTsKICAgICAgICAKICAgIAogICAgICAgIHZhciBwb3B1cF8zNTU4MDk3ZjA1YjA0ODBiYjlkMGEyOTI3ZWM2OTAxYiA9IEwucG9wdXAoeyJtYXhXaWR0aCI6ICIxMDAlIn0pOwoKICAgICAgICAKICAgICAgICAgICAgdmFyIGh0bWxfYzNmZDE3MmVmN2YzNGU4NWE2ZDM4OTBiNzQ5OTQyMjYgPSAkKGA8ZGl2IGlkPSJodG1sX2MzZmQxNzJlZjdmMzRlODVhNmQzODkwYjc0OTk0MjI2IiBzdHlsZT0id2lkdGg6IDEwMC4wJTsgaGVpZ2h0OiAxMDAuMCU7Ij5QYXVsaWUgR2VlJ3MgU2xpY2UgU2hvcCBQcmljZTogJCBSYXRpbmc6NC4wPC9kaXY+YClbMF07CiAgICAgICAgICAgIHBvcHVwXzM1NTgwOTdmMDViMDQ4MGJiOWQwYTI5MjdlYzY5MDFiLnNldENvbnRlbnQoaHRtbF9jM2ZkMTcyZWY3ZjM0ZTg1YTZkMzg5MGI3NDk5NDIyNik7CiAgICAgICAgCgogICAgICAgIG1hcmtlcl9mYzQwNGQyODc2OWQ0YjhiYTVlYjAzOTcyYzkzOTdhMC5iaW5kUG9wdXAocG9wdXBfMzU1ODA5N2YwNWIwNDgwYmI5ZDBhMjkyN2VjNjkwMWIpCiAgICAgICAgOwoKICAgICAgICAKICAgIAogICAgCiAgICAgICAgICAgIHZhciBtYXJrZXJfYjNlNGJkZjRlMTY1NDE0MGJkMWI2ZGJiYTZlN2I0NjMgPSBMLm1hcmtlcigKICAgICAgICAgICAgICAgIFs0MC43MTAxMjk3NzI5MDgzLCAtNzQuMDA3NzIwNjg2NDk1M10sCiAgICAgICAgICAgICAgICB7fQogICAgICAgICAgICApLmFkZFRvKG1hcF9hYjVhZGQyMTVmNDk0OTQ4YThkNDdlZjA3MDdkNjNiYik7CiAgICAgICAgCiAgICAKICAgICAgICB2YXIgcG9wdXBfYWIwNzJiMzk5N2I0NDAzNjgwZjhmNmFiNGVhZGU4NjMgPSBMLnBvcHVwKHsibWF4V2lkdGgiOiAiMTAwJSJ9KTsKCiAgICAgICAgCiAgICAgICAgICAgIHZhciBodG1sX2IxMTIxMWMyMjY4MDQwYThiZmQ3NmViZWQwNGU2MWM1ID0gJChgPGRpdiBpZD0iaHRtbF9iMTEyMTFjMjI2ODA0MGE4YmZkNzZlYmVkMDRlNjFjNSIgc3R5bGU9IndpZHRoOiAxMDAuMCU7IGhlaWdodDogMTAwLjAlOyI+Sm9lJ3MgUGl6emEgUHJpY2U6ICQgUmF0aW5nOjQuMDwvZGl2PmApWzBdOwogICAgICAgICAgICBwb3B1cF9hYjA3MmIzOTk3YjQ0MDM2ODBmOGY2YWI0ZWFkZTg2My5zZXRDb250ZW50KGh0bWxfYjExMjExYzIyNjgwNDBhOGJmZDc2ZWJlZDA0ZTYxYzUpOwogICAgICAgIAoKICAgICAgICBtYXJrZXJfYjNlNGJkZjRlMTY1NDE0MGJkMWI2ZGJiYTZlN2I0NjMuYmluZFBvcHVwKHBvcHVwX2FiMDcyYjM5OTdiNDQwMzY4MGY4ZjZhYjRlYWRlODYzKQogICAgICAgIDsKCiAgICAgICAgCiAgICAKICAgIAogICAgICAgICAgICB2YXIgbWFya2VyX2IyYWI5NjY4NWNmOTQzOWRiYTMxNWMxOGU2ZWVlZGE4ID0gTC5tYXJrZXIoCiAgICAgICAgICAgICAgICBbNDAuNzYwODUxMiwgLTczLjk2OTQ4MDldLAogICAgICAgICAgICAgICAge30KICAgICAgICAgICAgKS5hZGRUbyhtYXBfYWI1YWRkMjE1ZjQ5NDk0OGE4ZDQ3ZWYwNzA3ZDYzYmIpOwogICAgICAgIAogICAgCiAgICAgICAgdmFyIHBvcHVwX2UzNTI3M2JlZTE0MzQyNTU4YzM5NzMwOTQwM2Y3OWU2ID0gTC5wb3B1cCh7Im1heFdpZHRoIjogIjEwMCUifSk7CgogICAgICAgIAogICAgICAgICAgICB2YXIgaHRtbF8zZmJlMzFkMWY5MjI0MTQ2OWNiYTQxMmUxZDIxNjY0OSA9ICQoYDxkaXYgaWQ9Imh0bWxfM2ZiZTMxZDFmOTIyNDE0NjljYmE0MTJlMWQyMTY2NDkiIHN0eWxlPSJ3aWR0aDogMTAwLjAlOyBoZWlnaHQ6IDEwMC4wJTsiPk15IFBpZSBQaXp6ZXJpYSBSb21hbmEgUHJpY2U6ICQgUmF0aW5nOjQuNTwvZGl2PmApWzBdOwogICAgICAgICAgICBwb3B1cF9lMzUyNzNiZWUxNDM0MjU1OGMzOTczMDk0MDNmNzllNi5zZXRDb250ZW50KGh0bWxfM2ZiZTMxZDFmOTIyNDE0NjljYmE0MTJlMWQyMTY2NDkpOwogICAgICAgIAoKICAgICAgICBtYXJrZXJfYjJhYjk2Njg1Y2Y5NDM5ZGJhMzE1YzE4ZTZlZWVkYTguYmluZFBvcHVwKHBvcHVwX2UzNTI3M2JlZTE0MzQyNTU4YzM5NzMwOTQwM2Y3OWU2KQogICAgICAgIDsKCiAgICAgICAgCiAgICAKICAgIAogICAgICAgICAgICB2YXIgbWFya2VyX2U4MWJmYmZhNzZmNjQ3NmFhYzEyMjQxMmU3NGI1N2I0ID0gTC5tYXJrZXIoCiAgICAgICAgICAgICAgICBbNDAuNzc4MjMsIC03My45ODExN10sCiAgICAgICAgICAgICAgICB7fQogICAgICAgICAgICApLmFkZFRvKG1hcF9hYjVhZGQyMTVmNDk0OTQ4YThkNDdlZjA3MDdkNjNiYik7CiAgICAgICAgCiAgICAKICAgICAgICB2YXIgcG9wdXBfNDU2NDdlNDFhODA2NDQ5OWIwMjc1YThiNWJiODJmNWMgPSBMLnBvcHVwKHsibWF4V2lkdGgiOiAiMTAwJSJ9KTsKCiAgICAgICAgCiAgICAgICAgICAgIHZhciBodG1sX2JlMmQwMzVjZGJhNDQwZTY5ZTZlMWFhODg4ZWUyOGNiID0gJChgPGRpdiBpZD0iaHRtbF9iZTJkMDM1Y2RiYTQ0MGU2OWU2ZTFhYTg4OGVlMjhjYiIgc3R5bGU9IndpZHRoOiAxMDAuMCU7IGhlaWdodDogMTAwLjAlOyI+TXkgUGllIFByaWNlOiAkIFJhdGluZzo0LjU8L2Rpdj5gKVswXTsKICAgICAgICAgICAgcG9wdXBfNDU2NDdlNDFhODA2NDQ5OWIwMjc1YThiNWJiODJmNWMuc2V0Q29udGVudChodG1sX2JlMmQwMzVjZGJhNDQwZTY5ZTZlMWFhODg4ZWUyOGNiKTsKICAgICAgICAKCiAgICAgICAgbWFya2VyX2U4MWJmYmZhNzZmNjQ3NmFhYzEyMjQxMmU3NGI1N2I0LmJpbmRQb3B1cChwb3B1cF80NTY0N2U0MWE4MDY0NDk5YjAyNzVhOGI1YmI4MmY1YykKICAgICAgICA7CgogICAgICAgIAogICAgCiAgICAKICAgICAgICAgICAgdmFyIG1hcmtlcl82NTdhNTFiMjQ2ZDA0MWJmYjkyNTBmNjc2ZmQwYzYzMCA9IEwubWFya2VyKAogICAgICAgICAgICAgICAgWzQwLjYxMzYwOTMxMzk2NDgsIC03NC4wMzMzMzI4MjQ3MDddLAogICAgICAgICAgICAgICAge30KICAgICAgICAgICAgKS5hZGRUbyhtYXBfYWI1YWRkMjE1ZjQ5NDk0OGE4ZDQ3ZWYwNzA3ZDYzYmIpOwogICAgICAgIAogICAgCiAgICAgICAgdmFyIHBvcHVwX2U5YzE0NDI4NTc0NzQyZjBiY2I2MjY3NWU5OWI4ZDk1ID0gTC5wb3B1cCh7Im1heFdpZHRoIjogIjEwMCUifSk7CgogICAgICAgIAogICAgICAgICAgICB2YXIgaHRtbF81YzVkZjRmZThlNjc0OTY5OTg1NjJiNThkMmMwZTc3MSA9ICQoYDxkaXYgaWQ9Imh0bWxfNWM1ZGY0ZmU4ZTY3NDk2OTk4NTYyYjU4ZDJjMGU3NzEiIHN0eWxlPSJ3aWR0aDogMTAwLjAlOyBoZWlnaHQ6IDEwMC4wJTsiPkNhbXBhbmlhIENvYWwgRmlyZWQgUGl6emEgUHJpY2U6ICQkIFJhdGluZzo0LjU8L2Rpdj5gKVswXTsKICAgICAgICAgICAgcG9wdXBfZTljMTQ0Mjg1NzQ3NDJmMGJjYjYyNjc1ZTk5YjhkOTUuc2V0Q29udGVudChodG1sXzVjNWRmNGZlOGU2NzQ5Njk5ODU2MmI1OGQyYzBlNzcxKTsKICAgICAgICAKCiAgICAgICAgbWFya2VyXzY1N2E1MWIyNDZkMDQxYmZiOTI1MGY2NzZmZDBjNjMwLmJpbmRQb3B1cChwb3B1cF9lOWMxNDQyODU3NDc0MmYwYmNiNjI2NzVlOTliOGQ5NSkKICAgICAgICA7CgogICAgICAgIAogICAgCiAgICAKICAgICAgICAgICAgdmFyIG1hcmtlcl85MzUzMWExNDk2ZjA0NGFlYjVjNzg3MzVjNWY4NmU5MyA9IEwubWFya2VyKAogICAgICAgICAgICAgICAgWzQwLjY4Mzc0MDcsIC03My45MzUzNDczXSwKICAgICAgICAgICAgICAgIHt9CiAgICAgICAgICAgICkuYWRkVG8obWFwX2FiNWFkZDIxNWY0OTQ5NDhhOGQ0N2VmMDcwN2Q2M2JiKTsKICAgICAgICAKICAgIAogICAgICAgIHZhciBwb3B1cF9kOWVlZWJjZDRjMjM0MzlkYmJmZWIxZjg4YWQ1MDFhOCA9IEwucG9wdXAoeyJtYXhXaWR0aCI6ICIxMDAlIn0pOwoKICAgICAgICAKICAgICAgICAgICAgdmFyIGh0bWxfZGIyN2Q1ZDNjYWE2NDkzNTg1NzI2MzU5MjExZTc2OTUgPSAkKGA8ZGl2IGlkPSJodG1sX2RiMjdkNWQzY2FhNjQ5MzU4NTcyNjM1OTIxMWU3Njk1IiBzdHlsZT0id2lkdGg6IDEwMC4wJTsgaGVpZ2h0OiAxMDAuMCU7Ij5TYXJhZ2hpbmEgUHJpY2U6ICQkIFJhdGluZzo0LjA8L2Rpdj5gKVswXTsKICAgICAgICAgICAgcG9wdXBfZDllZWViY2Q0YzIzNDM5ZGJiZmViMWY4OGFkNTAxYTguc2V0Q29udGVudChodG1sX2RiMjdkNWQzY2FhNjQ5MzU4NTcyNjM1OTIxMWU3Njk1KTsKICAgICAgICAKCiAgICAgICAgbWFya2VyXzkzNTMxYTE0OTZmMDQ0YWViNWM3ODczNWM1Zjg2ZTkzLmJpbmRQb3B1cChwb3B1cF9kOWVlZWJjZDRjMjM0MzlkYmJmZWIxZjg4YWQ1MDFhOCkKICAgICAgICA7CgogICAgICAgIAogICAgCiAgICAKICAgICAgICAgICAgdmFyIG1hcmtlcl8wOWNjNzAzOTFkNWI0NTliOWJmOTdlOTVkYmI1OGUzZiA9IEwubWFya2VyKAogICAgICAgICAgICAgICAgWzQwLjczMzQzNDYsIC03My45OTE2OTIzXSwKICAgICAgICAgICAgICAgIHt9CiAgICAgICAgICAgICkuYWRkVG8obWFwX2FiNWFkZDIxNWY0OTQ5NDhhOGQ0N2VmMDcwN2Q2M2JiKTsKICAgICAgICAKICAgIAogICAgICAgIHZhciBwb3B1cF81NDYxMjI0NjMzMzA0NTRjODlkMGJmYmJjNzJjNDEwZCA9IEwucG9wdXAoeyJtYXhXaWR0aCI6ICIxMDAlIn0pOwoKICAgICAgICAKICAgICAgICAgICAgdmFyIGh0bWxfNzQ3NmQyOWMzYTc3NGUwN2E2OGI2MmY1ZjAwNjhhMDkgPSAkKGA8ZGl2IGlkPSJodG1sXzc0NzZkMjljM2E3NzRlMDdhNjhiNjJmNWYwMDY4YTA5IiBzdHlsZT0id2lkdGg6IDEwMC4wJTsgaGVpZ2h0OiAxMDAuMCU7Ij5SaWJhbHRhIFBpenphIFByaWNlOiAkJCBSYXRpbmc6NC4wPC9kaXY+YClbMF07CiAgICAgICAgICAgIHBvcHVwXzU0NjEyMjQ2MzMzMDQ1NGM4OWQwYmZiYmM3MmM0MTBkLnNldENvbnRlbnQoaHRtbF83NDc2ZDI5YzNhNzc0ZTA3YTY4YjYyZjVmMDA2OGEwOSk7CiAgICAgICAgCgogICAgICAgIG1hcmtlcl8wOWNjNzAzOTFkNWI0NTliOWJmOTdlOTVkYmI1OGUzZi5iaW5kUG9wdXAocG9wdXBfNTQ2MTIyNDYzMzMwNDU0Yzg5ZDBiZmJiYzcyYzQxMGQpCiAgICAgICAgOwoKICAgICAgICAKICAgIAogICAgCiAgICAgICAgICAgIHZhciBtYXJrZXJfNWJjMzY2ZDQ4MWVjNDhkMTgwMGRjNTc3OTJjOWY2YTIgPSBMLm1hcmtlcigKICAgICAgICAgICAgICAgIFs0MC43NTkxNjc2NzY3ODQ4LCAtNzMuOTUyNTQ2Njg4Nzk4OV0sCiAgICAgICAgICAgICAgICB7fQogICAgICAgICAgICApLmFkZFRvKG1hcF9hYjVhZGQyMTVmNDk0OTQ4YThkNDdlZjA3MDdkNjNiYik7CiAgICAgICAgCiAgICAKICAgICAgICB2YXIgcG9wdXBfZGJmMmMyNzNlMzgyNDhmYWFmNGI3NDVmZjc0NzU4OTMgPSBMLnBvcHVwKHsibWF4V2lkdGgiOiAiMTAwJSJ9KTsKCiAgICAgICAgCiAgICAgICAgICAgIHZhciBodG1sXzQ0MDA2ZWIwNTI4NzQxNWI5ZGQyNGM2NjY3OGViMzE0ID0gJChgPGRpdiBpZD0iaHRtbF80NDAwNmViMDUyODc0MTViOWRkMjRjNjY2NzhlYjMxNCIgc3R5bGU9IndpZHRoOiAxMDAuMCU7IGhlaWdodDogMTAwLjAlOyI+UGljY29sbyBUcmF0dG9yaWEgUHJpY2U6ICQgUmF0aW5nOjMuMDwvZGl2PmApWzBdOwogICAgICAgICAgICBwb3B1cF9kYmYyYzI3M2UzODI0OGZhYWY0Yjc0NWZmNzQ3NTg5My5zZXRDb250ZW50KGh0bWxfNDQwMDZlYjA1Mjg3NDE1YjlkZDI0YzY2Njc4ZWIzMTQpOwogICAgICAgIAoKICAgICAgICBtYXJrZXJfNWJjMzY2ZDQ4MWVjNDhkMTgwMGRjNTc3OTJjOWY2YTIuYmluZFBvcHVwKHBvcHVwX2RiZjJjMjczZTM4MjQ4ZmFhZjRiNzQ1ZmY3NDc1ODkzKQogICAgICAgIDsKCiAgICAgICAgCiAgICAKICAgIAogICAgICAgICAgICB2YXIgbWFya2VyXzgzMDE0ZGI5N2ZhODQ2YWM5N2I4ZWQ4MDEyOTZjZGI2ID0gTC5tYXJrZXIoCiAgICAgICAgICAgICAgICBbNDAuNzgwNCwgLTczLjk1MDEyXSwKICAgICAgICAgICAgICAgIHt9CiAgICAgICAgICAgICkuYWRkVG8obWFwX2FiNWFkZDIxNWY0OTQ5NDhhOGQ0N2VmMDcwN2Q2M2JiKTsKICAgICAgICAKICAgIAogICAgICAgIHZhciBwb3B1cF8yZmJmMWRiOTliMTQ0NDYwYmQzMjgxZDI4NzNjODM2OSA9IEwucG9wdXAoeyJtYXhXaWR0aCI6ICIxMDAlIn0pOwoKICAgICAgICAKICAgICAgICAgICAgdmFyIGh0bWxfYmE1YWEyZjY5NDg4NDA3NGFhN2UzZTRkMTZmODc2MjYgPSAkKGA8ZGl2IGlkPSJodG1sX2JhNWFhMmY2OTQ4ODQwNzRhYTdlM2U0ZDE2Zjg3NjI2IiBzdHlsZT0id2lkdGg6IDEwMC4wJTsgaGVpZ2h0OiAxMDAuMCU7Ij5TYW4gTWF0dGVvIFBpenphIGFuZCBFc3ByZXNzbyBCYXIgUHJpY2U6ICQkIFJhdGluZzo0LjA8L2Rpdj5gKVswXTsKICAgICAgICAgICAgcG9wdXBfMmZiZjFkYjk5YjE0NDQ2MGJkMzI4MWQyODczYzgzNjkuc2V0Q29udGVudChodG1sX2JhNWFhMmY2OTQ4ODQwNzRhYTdlM2U0ZDE2Zjg3NjI2KTsKICAgICAgICAKCiAgICAgICAgbWFya2VyXzgzMDE0ZGI5N2ZhODQ2YWM5N2I4ZWQ4MDEyOTZjZGI2LmJpbmRQb3B1cChwb3B1cF8yZmJmMWRiOTliMTQ0NDYwYmQzMjgxZDI4NzNjODM2OSkKICAgICAgICA7CgogICAgICAgIAogICAgCiAgICAKICAgICAgICAgICAgdmFyIG1hcmtlcl9mZmUyYmY3ZGIwMjU0M2M4OGU2YmJkNDdiZjg2ZjViOCA9IEwubWFya2VyKAogICAgICAgICAgICAgICAgWzQwLjcxODIyLCAtNzMuOTkxMjNdLAogICAgICAgICAgICAgICAge30KICAgICAgICAgICAgKS5hZGRUbyhtYXBfYWI1YWRkMjE1ZjQ5NDk0OGE4ZDQ3ZWYwNzA3ZDYzYmIpOwogICAgICAgIAogICAgCiAgICAgICAgdmFyIHBvcHVwX2UxZmRlN2Y1NWEzZjQ5ZjQ5MjUwYzQ0N2FmZTllOGNkID0gTC5wb3B1cCh7Im1heFdpZHRoIjogIjEwMCUifSk7CgogICAgICAgIAogICAgICAgICAgICB2YXIgaHRtbF9jYTI2MTRiZjhhMTc0NGE5OGFiOTUwNWFjMTE2OTYwYyA9ICQoYDxkaXYgaWQ9Imh0bWxfY2EyNjE0YmY4YTE3NDRhOThhYjk1MDVhYzExNjk2MGMiIHN0eWxlPSJ3aWR0aDogMTAwLjAlOyBoZWlnaHQ6IDEwMC4wJTsiPldpbGxpYW1zYnVyZyBQaXp6YSBQcmljZTogJCBSYXRpbmc6NC4wPC9kaXY+YClbMF07CiAgICAgICAgICAgIHBvcHVwX2UxZmRlN2Y1NWEzZjQ5ZjQ5MjUwYzQ0N2FmZTllOGNkLnNldENvbnRlbnQoaHRtbF9jYTI2MTRiZjhhMTc0NGE5OGFiOTUwNWFjMTE2OTYwYyk7CiAgICAgICAgCgogICAgICAgIG1hcmtlcl9mZmUyYmY3ZGIwMjU0M2M4OGU2YmJkNDdiZjg2ZjViOC5iaW5kUG9wdXAocG9wdXBfZTFmZGU3ZjU1YTNmNDlmNDkyNTBjNDQ3YWZlOWU4Y2QpCiAgICAgICAgOwoKICAgICAgICAKICAgIAogICAgCiAgICAgICAgICAgIHZhciBtYXJrZXJfZTk0YWU3ZDNkNDNjNDRiMDg1OWI3ZDRjMTMzYTIwZjEgPSBMLm1hcmtlcigKICAgICAgICAgICAgICAgIFs0MC43MDg0ODkwNzE0MjYzLCAtNzMuOTYxMDk0MDcxMTYzOV0sCiAgICAgICAgICAgICAgICB7fQogICAgICAgICAgICApLmFkZFRvKG1hcF9hYjVhZGQyMTVmNDk0OTQ4YThkNDdlZjA3MDdkNjNiYik7CiAgICAgICAgCiAgICAKICAgICAgICB2YXIgcG9wdXBfOGQyNjcyYzA2MjUyNGRmN2JjODYyZjg0NmUxOTAxZjYgPSBMLnBvcHVwKHsibWF4V2lkdGgiOiAiMTAwJSJ9KTsKCiAgICAgICAgCiAgICAgICAgICAgIHZhciBodG1sX2UwNzU2ZGFiZTAxNjRkZDBiZjE5ZTFkZTExYzIxOTdkID0gJChgPGRpdiBpZD0iaHRtbF9lMDc1NmRhYmUwMTY0ZGQwYmYxOWUxZGUxMWMyMTk3ZCIgc3R5bGU9IndpZHRoOiAxMDAuMCU7IGhlaWdodDogMTAwLjAlOyI+Um9lYmxpbmcgUGl6emEgUHJpY2U6ICQgUmF0aW5nOjQuNTwvZGl2PmApWzBdOwogICAgICAgICAgICBwb3B1cF84ZDI2NzJjMDYyNTI0ZGY3YmM4NjJmODQ2ZTE5MDFmNi5zZXRDb250ZW50KGh0bWxfZTA3NTZkYWJlMDE2NGRkMGJmMTllMWRlMTFjMjE5N2QpOwogICAgICAgIAoKICAgICAgICBtYXJrZXJfZTk0YWU3ZDNkNDNjNDRiMDg1OWI3ZDRjMTMzYTIwZjEuYmluZFBvcHVwKHBvcHVwXzhkMjY3MmMwNjI1MjRkZjdiYzg2MmY4NDZlMTkwMWY2KQogICAgICAgIDsKCiAgICAgICAgCiAgICAKICAgIAogICAgICAgICAgICB2YXIgbWFya2VyXzc3NGNhZDJlOWNjYTRhNGZhMDNlMDBiM2Y2YWEwYTI0ID0gTC5tYXJrZXIoCiAgICAgICAgICAgICAgICBbNDAuNzI2OTMsIC03My45OTMxOV0sCiAgICAgICAgICAgICAgICB7fQogICAgICAgICAgICApLmFkZFRvKG1hcF9hYjVhZGQyMTVmNDk0OTQ4YThkNDdlZjA3MDdkNjNiYik7CiAgICAgICAgCiAgICAKICAgICAgICB2YXIgcG9wdXBfYTBjZTI5ZTY2YmZlNDFlNGEyZDQ5YWVjZmI2NWRiZWYgPSBMLnBvcHVwKHsibWF4V2lkdGgiOiAiMTAwJSJ9KTsKCiAgICAgICAgCiAgICAgICAgICAgIHZhciBodG1sXzU1NTM5OTY1NGE3MDQ2MGRhOGU4NWE4MzJlMjYwMGYwID0gJChgPGRpdiBpZD0iaHRtbF81NTUzOTk2NTRhNzA0NjBkYThlODVhODMyZTI2MDBmMCIgc3R5bGU9IndpZHRoOiAxMDAuMCU7IGhlaWdodDogMTAwLjAlOyI+VmljJ3MgUHJpY2U6ICQkIFJhdGluZzo0LjA8L2Rpdj5gKVswXTsKICAgICAgICAgICAgcG9wdXBfYTBjZTI5ZTY2YmZlNDFlNGEyZDQ5YWVjZmI2NWRiZWYuc2V0Q29udGVudChodG1sXzU1NTM5OTY1NGE3MDQ2MGRhOGU4NWE4MzJlMjYwMGYwKTsKICAgICAgICAKCiAgICAgICAgbWFya2VyXzc3NGNhZDJlOWNjYTRhNGZhMDNlMDBiM2Y2YWEwYTI0LmJpbmRQb3B1cChwb3B1cF9hMGNlMjllNjZiZmU0MWU0YTJkNDlhZWNmYjY1ZGJlZikKICAgICAgICA7CgogICAgICAgIAogICAgCiAgICAKICAgICAgICAgICAgdmFyIG1hcmtlcl9kYmRlYTgwMWFjMTg0MGFkYWFhMjQ3ZTNmZDAzZmMzYiA9IEwubWFya2VyKAogICAgICAgICAgICAgICAgWzQwLjc3NDY3OTksIC03My45NTQ0M10sCiAgICAgICAgICAgICAgICB7fQogICAgICAgICAgICApLmFkZFRvKG1hcF9hYjVhZGQyMTVmNDk0OTQ4YThkNDdlZjA3MDdkNjNiYik7CiAgICAgICAgCiAgICAKICAgICAgICB2YXIgcG9wdXBfMDNkZmRkMDJjZjdlNDQxNzlkNzhhOWMxODNhOTQ0OTcgPSBMLnBvcHVwKHsibWF4V2lkdGgiOiAiMTAwJSJ9KTsKCiAgICAgICAgCiAgICAgICAgICAgIHZhciBodG1sX2E4MmNjMGRmZGQxMDQ3MTJiYjgxNDQyYjgzNmQ1YmU1ID0gJChgPGRpdiBpZD0iaHRtbF9hODJjYzBkZmRkMTA0NzEyYmI4MTQ0MmI4MzZkNWJlNSIgc3R5bGU9IndpZHRoOiAxMDAuMCU7IGhlaWdodDogMTAwLjAlOyI+U2FuIE1hdHRlbyBQaXp6ZXJpYSBlIEN1Y2luYSBQcmljZTogJCQgUmF0aW5nOjMuNTwvZGl2PmApWzBdOwogICAgICAgICAgICBwb3B1cF8wM2RmZGQwMmNmN2U0NDE3OWQ3OGE5YzE4M2E5NDQ5Ny5zZXRDb250ZW50KGh0bWxfYTgyY2MwZGZkZDEwNDcxMmJiODE0NDJiODM2ZDViZTUpOwogICAgICAgIAoKICAgICAgICBtYXJrZXJfZGJkZWE4MDFhYzE4NDBhZGFhYTI0N2UzZmQwM2ZjM2IuYmluZFBvcHVwKHBvcHVwXzAzZGZkZDAyY2Y3ZTQ0MTc5ZDc4YTljMTgzYTk0NDk3KQogICAgICAgIDsKCiAgICAgICAgCiAgICAKICAgIAogICAgICAgICAgICB2YXIgbWFya2VyXzBkMGU2MDAwYzlmOTRmNGY4ZTBkZTFlNGIyMDk5OTcyID0gTC5tYXJrZXIoCiAgICAgICAgICAgICAgICBbNDAuNzM3MiwgLTczLjk5OTE5XSwKICAgICAgICAgICAgICAgIHt9CiAgICAgICAgICAgICkuYWRkVG8obWFwX2FiNWFkZDIxNWY0OTQ5NDhhOGQ0N2VmMDcwN2Q2M2JiKTsKICAgICAgICAKICAgIAogICAgICAgIHZhciBwb3B1cF8xMTk2ZmMxNGUxOTI0ZTUyYTdkY2M2MjY4MjY1NDY1OSA9IEwucG9wdXAoeyJtYXhXaWR0aCI6ICIxMDAlIn0pOwoKICAgICAgICAKICAgICAgICAgICAgdmFyIGh0bWxfMDllNDc5OGZhYWJiNDM4OGJmZDY4ZjY2ZGIxMjYwOTAgPSAkKGA8ZGl2IGlkPSJodG1sXzA5ZTQ3OThmYWFiYjQzODhiZmQ2OGY2NmRiMTI2MDkwIiBzdHlsZT0id2lkdGg6IDEwMC4wJTsgaGVpZ2h0OiAxMDAuMCU7Ij5Tb3R0byAxMyBQcmljZTogJCQgUmF0aW5nOjQuMDwvZGl2PmApWzBdOwogICAgICAgICAgICBwb3B1cF8xMTk2ZmMxNGUxOTI0ZTUyYTdkY2M2MjY4MjY1NDY1OS5zZXRDb250ZW50KGh0bWxfMDllNDc5OGZhYWJiNDM4OGJmZDY4ZjY2ZGIxMjYwOTApOwogICAgICAgIAoKICAgICAgICBtYXJrZXJfMGQwZTYwMDBjOWY5NGY0ZjhlMGRlMWU0YjIwOTk5NzIuYmluZFBvcHVwKHBvcHVwXzExOTZmYzE0ZTE5MjRlNTJhN2RjYzYyNjgyNjU0NjU5KQogICAgICAgIDsKCiAgICAgICAgCiAgICAKICAgIAogICAgICAgICAgICB2YXIgbWFya2VyXzkxYzk5ZjgwMzgyYjRmZGFiMmE4OGM3MzE3OTU5NWM4ID0gTC5tYXJrZXIoCiAgICAgICAgICAgICAgICBbNDAuNzY0NTgsIC03My45ODI0N10sCiAgICAgICAgICAgICAgICB7fQogICAgICAgICAgICApLmFkZFRvKG1hcF9hYjVhZGQyMTVmNDk0OTQ4YThkNDdlZjA3MDdkNjNiYik7CiAgICAgICAgCiAgICAKICAgICAgICB2YXIgcG9wdXBfNjk3N2VjYjg2MjNlNGZlZmE0MjY1MDM5MzRhN2RkNTYgPSBMLnBvcHVwKHsibWF4V2lkdGgiOiAiMTAwJSJ9KTsKCiAgICAgICAgCiAgICAgICAgICAgIHZhciBodG1sXzFlMjQ1NjY4YWFlYzQ0NDM4MzUzNWE4MTBmOTI4ODMwID0gJChgPGRpdiBpZD0iaHRtbF8xZTI0NTY2OGFhZWM0NDQzODM1MzVhODEwZjkyODgzMCIgc3R5bGU9IndpZHRoOiAxMDAuMCU7IGhlaWdodDogMTAwLjAlOyI+OTkgQ2VudCBGcmVzaCBQaXp6YSBQcmljZTogJCBSYXRpbmc6NC4wPC9kaXY+YClbMF07CiAgICAgICAgICAgIHBvcHVwXzY5NzdlY2I4NjIzZTRmZWZhNDI2NTAzOTM0YTdkZDU2LnNldENvbnRlbnQoaHRtbF8xZTI0NTY2OGFhZWM0NDQzODM1MzVhODEwZjkyODgzMCk7CiAgICAgICAgCgogICAgICAgIG1hcmtlcl85MWM5OWY4MDM4MmI0ZmRhYjJhODhjNzMxNzk1OTVjOC5iaW5kUG9wdXAocG9wdXBfNjk3N2VjYjg2MjNlNGZlZmE0MjY1MDM5MzRhN2RkNTYpCiAgICAgICAgOwoKICAgICAgICAKICAgIAogICAgCiAgICAgICAgICAgIHZhciBtYXJrZXJfMjU3MWEyMWJhYmQ4NDcxOGI2NTMzOWE4MWVmNWE1YjcgPSBMLm1hcmtlcigKICAgICAgICAgICAgICAgIFs0MC42OTg1LCAtNzMuOTkyNzNdLAogICAgICAgICAgICAgICAge30KICAgICAgICAgICAgKS5hZGRUbyhtYXBfYWI1YWRkMjE1ZjQ5NDk0OGE4ZDQ3ZWYwNzA3ZDYzYmIpOwogICAgICAgIAogICAgCiAgICAgICAgdmFyIHBvcHVwXzE0NjBjYjJiNGM2NTQxMThiOGY1OGQxNzRiMDI0MDVkID0gTC5wb3B1cCh7Im1heFdpZHRoIjogIjEwMCUifSk7CgogICAgICAgIAogICAgICAgICAgICB2YXIgaHRtbF85YTc5ZTc3NGNjZmE0NzM2OTQ3MGU0ZDk3MDM2MjdkMiA9ICQoYDxkaXYgaWQ9Imh0bWxfOWE3OWU3NzRjY2ZhNDczNjk0NzBlNGQ5NzAzNjI3ZDIiIHN0eWxlPSJ3aWR0aDogMTAwLjAlOyBoZWlnaHQ6IDEwMC4wJTsiPkZhc2NhdGkgUGl6emEgUHJpY2U6ICQgUmF0aW5nOjQuMDwvZGl2PmApWzBdOwogICAgICAgICAgICBwb3B1cF8xNDYwY2IyYjRjNjU0MTE4YjhmNThkMTc0YjAyNDA1ZC5zZXRDb250ZW50KGh0bWxfOWE3OWU3NzRjY2ZhNDczNjk0NzBlNGQ5NzAzNjI3ZDIpOwogICAgICAgIAoKICAgICAgICBtYXJrZXJfMjU3MWEyMWJhYmQ4NDcxOGI2NTMzOWE4MWVmNWE1YjcuYmluZFBvcHVwKHBvcHVwXzE0NjBjYjJiNGM2NTQxMThiOGY1OGQxNzRiMDI0MDVkKQogICAgICAgIDsKCiAgICAgICAgCiAgICAKICAgIAogICAgICAgICAgICB2YXIgbWFya2VyX2ZkYWFiNjFlZjlhODQ3NTg4YmMwOTNlM2M5NmU4ZWMzID0gTC5tYXJrZXIoCiAgICAgICAgICAgICAgICBbNDAuNzI1OTgsIC03My45ODY3Ml0sCiAgICAgICAgICAgICAgICB7fQogICAgICAgICAgICApLmFkZFRvKG1hcF9hYjVhZGQyMTVmNDk0OTQ4YThkNDdlZjA3MDdkNjNiYik7CiAgICAgICAgCiAgICAKICAgICAgICB2YXIgcG9wdXBfM2FjYzJiOWNhYjljNDQ3ZmEwZDhmNjZlN2U0YWQ0MTIgPSBMLnBvcHVwKHsibWF4V2lkdGgiOiAiMTAwJSJ9KTsKCiAgICAgICAgCiAgICAgICAgICAgIHZhciBodG1sX2M0NDYzYTliNjY4NDQ1NTU5NzFiYTlhZjBhYzI1Y2QwID0gJChgPGRpdiBpZD0iaHRtbF9jNDQ2M2E5YjY2ODQ0NTU1OTcxYmE5YWYwYWMyNWNkMCIgc3R5bGU9IndpZHRoOiAxMDAuMCU7IGhlaWdodDogMTAwLjAlOyI+RW1teSBTcXVhcmVkIC0gRWFzdCBWaWxsYWdlIFByaWNlOiAkJCBSYXRpbmc6NC4wPC9kaXY+YClbMF07CiAgICAgICAgICAgIHBvcHVwXzNhY2MyYjljYWI5YzQ0N2ZhMGQ4ZjY2ZTdlNGFkNDEyLnNldENvbnRlbnQoaHRtbF9jNDQ2M2E5YjY2ODQ0NTU1OTcxYmE5YWYwYWMyNWNkMCk7CiAgICAgICAgCgogICAgICAgIG1hcmtlcl9mZGFhYjYxZWY5YTg0NzU4OGJjMDkzZTNjOTZlOGVjMy5iaW5kUG9wdXAocG9wdXBfM2FjYzJiOWNhYjljNDQ3ZmEwZDhmNjZlN2U0YWQ0MTIpCiAgICAgICAgOwoKICAgICAgICAKICAgIAogICAgCiAgICAgICAgICAgIHZhciBtYXJrZXJfMGNiM2Y2YmY2ZDhmNGJlMWFlYWU4OTQ1ZmRhNDU2OWIgPSBMLm1hcmtlcigKICAgICAgICAgICAgICAgIFs0MC42OTA0NTYzOTAzODA5LCAtNzMuOTY5NjI3MzgwMzcxMV0sCiAgICAgICAgICAgICAgICB7fQogICAgICAgICAgICApLmFkZFRvKG1hcF9hYjVhZGQyMTVmNDk0OTQ4YThkNDdlZjA3MDdkNjNiYik7CiAgICAgICAgCiAgICAKICAgICAgICB2YXIgcG9wdXBfNWQ0YTA0MDZhMTdhNDc3ZTkwNWFjNjUzMDQxYmUyMDAgPSBMLnBvcHVwKHsibWF4V2lkdGgiOiAiMTAwJSJ9KTsKCiAgICAgICAgCiAgICAgICAgICAgIHZhciBodG1sX2I2M2M4YWE2N2ZlMjRkMmViMGEwZTQyMjQ0MDBiNWY4ID0gJChgPGRpdiBpZD0iaHRtbF9iNjNjOGFhNjdmZTI0ZDJlYjBhMGU0MjI0NDAwYjVmOCIgc3R5bGU9IndpZHRoOiAxMDAuMCU7IGhlaWdodDogMTAwLjAlOyI+R3JhemllbGxhJ3MgUHJpY2U6ICQkIFJhdGluZzo0LjA8L2Rpdj5gKVswXTsKICAgICAgICAgICAgcG9wdXBfNWQ0YTA0MDZhMTdhNDc3ZTkwNWFjNjUzMDQxYmUyMDAuc2V0Q29udGVudChodG1sX2I2M2M4YWE2N2ZlMjRkMmViMGEwZTQyMjQ0MDBiNWY4KTsKICAgICAgICAKCiAgICAgICAgbWFya2VyXzBjYjNmNmJmNmQ4ZjRiZTFhZWFlODk0NWZkYTQ1NjliLmJpbmRQb3B1cChwb3B1cF81ZDRhMDQwNmExN2E0NzdlOTA1YWM2NTMwNDFiZTIwMCkKICAgICAgICA7CgogICAgICAgIAogICAgCiAgICAKICAgICAgICAgICAgdmFyIG1hcmtlcl82ZWEyMzQxMmUyYzM0OTE2OTFlYTc4MjU0OWMyZGNiOCA9IEwubWFya2VyKAogICAgICAgICAgICAgICAgWzQwLjc2MTc3LCAtNzMuOTY1NzVdLAogICAgICAgICAgICAgICAge30KICAgICAgICAgICAgKS5hZGRUbyhtYXBfYWI1YWRkMjE1ZjQ5NDk0OGE4ZDQ3ZWYwNzA3ZDYzYmIpOwogICAgICAgIAogICAgCiAgICAgICAgdmFyIHBvcHVwXzVjMzBjODFiNzIzZTQyNGJiZGJiNGQ0MGEwOTkyMjY0ID0gTC5wb3B1cCh7Im1heFdpZHRoIjogIjEwMCUifSk7CgogICAgICAgIAogICAgICAgICAgICB2YXIgaHRtbF8wMWY0OTg4ZjY5MTk0ZjUzODU0OWNjMzhhZGQyM2QzZCA9ICQoYDxkaXYgaWQ9Imh0bWxfMDFmNDk4OGY2OTE5NGY1Mzg1NDljYzM4YWRkMjNkM2QiIHN0eWxlPSJ3aWR0aDogMTAwLjAlOyBoZWlnaHQ6IDEwMC4wJTsiPlBhdHN54oCZcyBQaXp6ZXJpYSBQcmljZTogJCQgUmF0aW5nOjMuNTwvZGl2PmApWzBdOwogICAgICAgICAgICBwb3B1cF81YzMwYzgxYjcyM2U0MjRiYmRiYjRkNDBhMDk5MjI2NC5zZXRDb250ZW50KGh0bWxfMDFmNDk4OGY2OTE5NGY1Mzg1NDljYzM4YWRkMjNkM2QpOwogICAgICAgIAoKICAgICAgICBtYXJrZXJfNmVhMjM0MTJlMmMzNDkxNjkxZWE3ODI1NDljMmRjYjguYmluZFBvcHVwKHBvcHVwXzVjMzBjODFiNzIzZTQyNGJiZGJiNGQ0MGEwOTkyMjY0KQogICAgICAgIDsKCiAgICAgICAgCiAgICAKICAgIAogICAgICAgICAgICB2YXIgbWFya2VyXzI0OWFlYTI3NjI2ZTQyZDI5YjIxMzRiY2IyMzUwZjZkID0gTC5tYXJrZXIoCiAgICAgICAgICAgICAgICBbNDAuNzEwMzcyLCAtNzMuOTY3OTRdLAogICAgICAgICAgICAgICAge30KICAgICAgICAgICAgKS5hZGRUbyhtYXBfYWI1YWRkMjE1ZjQ5NDk0OGE4ZDQ3ZWYwNzA3ZDYzYmIpOwogICAgICAgIAogICAgCiAgICAgICAgdmFyIHBvcHVwXzQyODQ4MTMwMWNjMzQzYmFiMzMyNjhmMTE4MWQ2ZjgzID0gTC5wb3B1cCh7Im1heFdpZHRoIjogIjEwMCUifSk7CgogICAgICAgIAogICAgICAgICAgICB2YXIgaHRtbF83MWQwMzI5MzBlODQ0YjlmOGQyZmYzMDc1MGVjOWQ3NiA9ICQoYDxkaXYgaWQ9Imh0bWxfNzFkMDMyOTMwZTg0NGI5ZjhkMmZmMzA3NTBlYzlkNzYiIHN0eWxlPSJ3aWR0aDogMTAwLjAlOyBoZWlnaHQ6IDEwMC4wJTsiPkJhcmFubyBQcmljZTogJCQkIFJhdGluZzo0LjU8L2Rpdj5gKVswXTsKICAgICAgICAgICAgcG9wdXBfNDI4NDgxMzAxY2MzNDNiYWIzMzI2OGYxMTgxZDZmODMuc2V0Q29udGVudChodG1sXzcxZDAzMjkzMGU4NDRiOWY4ZDJmZjMwNzUwZWM5ZDc2KTsKICAgICAgICAKCiAgICAgICAgbWFya2VyXzI0OWFlYTI3NjI2ZTQyZDI5YjIxMzRiY2IyMzUwZjZkLmJpbmRQb3B1cChwb3B1cF80Mjg0ODEzMDFjYzM0M2JhYjMzMjY4ZjExODFkNmY4MykKICAgICAgICA7CgogICAgICAgIAogICAgCiAgICAKICAgICAgICAgICAgdmFyIG1hcmtlcl9iZjZjMzBhN2FlZDg0ZjUyYThjYzAxYzZmMmE1N2M1NCA9IEwubWFya2VyKAogICAgICAgICAgICAgICAgWzQwLjczNTk2LCAtNzQuMDAwOTNdLAogICAgICAgICAgICAgICAge30KICAgICAgICAgICAgKS5hZGRUbyhtYXBfYWI1YWRkMjE1ZjQ5NDk0OGE4ZDQ3ZWYwNzA3ZDYzYmIpOwogICAgICAgIAogICAgCiAgICAgICAgdmFyIHBvcHVwX2FhNTE3ZTdkZmZlMjQ2YTlhM2EwMTk0NDlkY2QxZTk5ID0gTC5wb3B1cCh7Im1heFdpZHRoIjogIjEwMCUifSk7CgogICAgICAgIAogICAgICAgICAgICB2YXIgaHRtbF8wYzE5NzBhYTYyNWE0NmRjOGNkMDQ0M2I1MTM1ODIxOSA9ICQoYDxkaXYgaWQ9Imh0bWxfMGMxOTcwYWE2MjVhNDZkYzhjZDA0NDNiNTEzNTgyMTkiIHN0eWxlPSJ3aWR0aDogMTAwLjAlOyBoZWlnaHQ6IDEwMC4wJTsiPlJvZXkncyBQcmljZTogJCQgUmF0aW5nOjQuMDwvZGl2PmApWzBdOwogICAgICAgICAgICBwb3B1cF9hYTUxN2U3ZGZmZTI0NmE5YTNhMDE5NDQ5ZGNkMWU5OS5zZXRDb250ZW50KGh0bWxfMGMxOTcwYWE2MjVhNDZkYzhjZDA0NDNiNTEzNTgyMTkpOwogICAgICAgIAoKICAgICAgICBtYXJrZXJfYmY2YzMwYTdhZWQ4NGY1MmE4Y2MwMWM2ZjJhNTdjNTQuYmluZFBvcHVwKHBvcHVwX2FhNTE3ZTdkZmZlMjQ2YTlhM2EwMTk0NDlkY2QxZTk5KQogICAgICAgIDsKCiAgICAgICAgCiAgICAKICAgIAogICAgICAgICAgICB2YXIgbWFya2VyX2Y3YzAwOWJjNmE1YTQ1NGNhNGEzMGY5OWJiZjBmNTFmID0gTC5tYXJrZXIoCiAgICAgICAgICAgICAgICBbNDAuNjk0NDY3LCAtNzMuOTgyOTNdLAogICAgICAgICAgICAgICAge30KICAgICAgICAgICAgKS5hZGRUbyhtYXBfYWI1YWRkMjE1ZjQ5NDk0OGE4ZDQ3ZWYwNzA3ZDYzYmIpOwogICAgICAgIAogICAgCiAgICAgICAgdmFyIHBvcHVwX2U0ZTE4ZWI4Nzg5NTQ5NzBiYmUzOTRhMTcxZjk3NDY2ID0gTC5wb3B1cCh7Im1heFdpZHRoIjogIjEwMCUifSk7CgogICAgICAgIAogICAgICAgICAgICB2YXIgaHRtbF9jNjllNWE5YjJkMjc0NTMyYTRkZjBjOTAxMDU1YjliZiA9ICQoYDxkaXYgaWQ9Imh0bWxfYzY5ZTVhOWIyZDI3NDUzMmE0ZGYwYzkwMTA1NWI5YmYiIHN0eWxlPSJ3aWR0aDogMTAwLjAlOyBoZWlnaHQ6IDEwMC4wJTsiPkZvcm5vIFJvc3NvIFByaWNlOiAkJCBSYXRpbmc6NC4wPC9kaXY+YClbMF07CiAgICAgICAgICAgIHBvcHVwX2U0ZTE4ZWI4Nzg5NTQ5NzBiYmUzOTRhMTcxZjk3NDY2LnNldENvbnRlbnQoaHRtbF9jNjllNWE5YjJkMjc0NTMyYTRkZjBjOTAxMDU1YjliZik7CiAgICAgICAgCgogICAgICAgIG1hcmtlcl9mN2MwMDliYzZhNWE0NTRjYTRhMzBmOTliYmYwZjUxZi5iaW5kUG9wdXAocG9wdXBfZTRlMThlYjg3ODk1NDk3MGJiZTM5NGExNzFmOTc0NjYpCiAgICAgICAgOwoKICAgICAgICAKICAgIAogICAgCiAgICAgICAgICAgIHZhciBtYXJrZXJfY2IzMzZiZmNhYzg1NDU3MDhmM2NlNjEwMzFhMmU1OWMgPSBMLm1hcmtlcigKICAgICAgICAgICAgICAgIFs0MC43MjE1MjcwOTk2MDk0LCAtNzMuOTk3MDg1NTcxMjg5MV0sCiAgICAgICAgICAgICAgICB7fQogICAgICAgICAgICApLmFkZFRvKG1hcF9hYjVhZGQyMTVmNDk0OTQ4YThkNDdlZjA3MDdkNjNiYik7CiAgICAgICAgCiAgICAKICAgICAgICB2YXIgcG9wdXBfZWQ1YTZmZGQ1MWM0NDYwMGIwY2E2MzBiZDM4YWYxYzAgPSBMLnBvcHVwKHsibWF4V2lkdGgiOiAiMTAwJSJ9KTsKCiAgICAgICAgCiAgICAgICAgICAgIHZhciBodG1sX2Q2NjRjZjdiMzE4NTRjZDJhYTZmZjc4ZjExMjBmOTQ2ID0gJChgPGRpdiBpZD0iaHRtbF9kNjY0Y2Y3YjMxODU0Y2QyYWE2ZmY3OGYxMTIwZjk0NiIgc3R5bGU9IndpZHRoOiAxMDAuMCU7IGhlaWdodDogMTAwLjAlOyI+Q2hhbXBpb24gUGl6emEgUHJpY2U6ICQgUmF0aW5nOjQuNTwvZGl2PmApWzBdOwogICAgICAgICAgICBwb3B1cF9lZDVhNmZkZDUxYzQ0NjAwYjBjYTYzMGJkMzhhZjFjMC5zZXRDb250ZW50KGh0bWxfZDY2NGNmN2IzMTg1NGNkMmFhNmZmNzhmMTEyMGY5NDYpOwogICAgICAgIAoKICAgICAgICBtYXJrZXJfY2IzMzZiZmNhYzg1NDU3MDhmM2NlNjEwMzFhMmU1OWMuYmluZFBvcHVwKHBvcHVwX2VkNWE2ZmRkNTFjNDQ2MDBiMGNhNjMwYmQzOGFmMWMwKQogICAgICAgIDsKCiAgICAgICAgCiAgICAKICAgIAogICAgICAgICAgICB2YXIgbWFya2VyXzljZmEwZWUzZGQxMTQxM2ZiY2UzMTU0ZTU1ZGM1NTU1ID0gTC5tYXJrZXIoCiAgICAgICAgICAgICAgICBbNDAuNzE4OSwgLTczLjk1Njg0M10sCiAgICAgICAgICAgICAgICB7fQogICAgICAgICAgICApLmFkZFRvKG1hcF9hYjVhZGQyMTVmNDk0OTQ4YThkNDdlZjA3MDdkNjNiYik7CiAgICAgICAgCiAgICAKICAgICAgICB2YXIgcG9wdXBfYWMzNDE5NTM2NDkxNGRiMzgxNjUxNDRmMmNjMjg5MTkgPSBMLnBvcHVwKHsibWF4V2lkdGgiOiAiMTAwJSJ9KTsKCiAgICAgICAgCiAgICAgICAgICAgIHZhciBodG1sX2Q3ZDM3NzY1ZjYxNjQ2MDE5NDg0N2M2ZTE0NGEwMTNkID0gJChgPGRpdiBpZD0iaHRtbF9kN2QzNzc2NWY2MTY0NjAxOTQ4NDdjNmUxNDRhMDEzZCIgc3R5bGU9IndpZHRoOiAxMDAuMCU7IGhlaWdodDogMTAwLjAlOyI+VmlubmllJ3MgUGl6emVyaWEgUHJpY2U6ICQgUmF0aW5nOjQuMDwvZGl2PmApWzBdOwogICAgICAgICAgICBwb3B1cF9hYzM0MTk1MzY0OTE0ZGIzODE2NTE0NGYyY2MyODkxOS5zZXRDb250ZW50KGh0bWxfZDdkMzc3NjVmNjE2NDYwMTk0ODQ3YzZlMTQ0YTAxM2QpOwogICAgICAgIAoKICAgICAgICBtYXJrZXJfOWNmYTBlZTNkZDExNDEzZmJjZTMxNTRlNTVkYzU1NTUuYmluZFBvcHVwKHBvcHVwX2FjMzQxOTUzNjQ5MTRkYjM4MTY1MTQ0ZjJjYzI4OTE5KQogICAgICAgIDsKCiAgICAgICAgCiAgICAKICAgIAogICAgICAgICAgICB2YXIgbWFya2VyXzk5MmJlNGUxZThjODQ0MWI4M2EzYzE0OWE5OWFjNGRjID0gTC5tYXJrZXIoCiAgICAgICAgICAgICAgICBbNDAuNzEwNTU5LCAtNzMuOTYzNDYyXSwKICAgICAgICAgICAgICAgIHt9CiAgICAgICAgICAgICkuYWRkVG8obWFwX2FiNWFkZDIxNWY0OTQ5NDhhOGQ0N2VmMDcwN2Q2M2JiKTsKICAgICAgICAKICAgIAogICAgICAgIHZhciBwb3B1cF9hZDVjYTdmNzYzYTM0YjFkOTJjM2ZmZjBiYWJlMmQ2OSA9IEwucG9wdXAoeyJtYXhXaWR0aCI6ICIxMDAlIn0pOwoKICAgICAgICAKICAgICAgICAgICAgdmFyIGh0bWxfMmIzM2Q0YzUyNWVhNDhiNjlhZjkwYTUxMjc1MWM2NTIgPSAkKGA8ZGl2IGlkPSJodG1sXzJiMzNkNGM1MjVlYTQ4YjY5YWY5MGE1MTI3NTFjNjUyIiBzdHlsZT0id2lkdGg6IDEwMC4wJTsgaGVpZ2h0OiAxMDAuMCU7Ij5Nb3RvcmlubyBQaXp6ZXJpYSBOYXBvbGV0YW5hIFByaWNlOiAkJCBSYXRpbmc6NC4wPC9kaXY+YClbMF07CiAgICAgICAgICAgIHBvcHVwX2FkNWNhN2Y3NjNhMzRiMWQ5MmMzZmZmMGJhYmUyZDY5LnNldENvbnRlbnQoaHRtbF8yYjMzZDRjNTI1ZWE0OGI2OWFmOTBhNTEyNzUxYzY1Mik7CiAgICAgICAgCgogICAgICAgIG1hcmtlcl85OTJiZTRlMWU4Yzg0NDFiODNhM2MxNDlhOTlhYzRkYy5iaW5kUG9wdXAocG9wdXBfYWQ1Y2E3Zjc2M2EzNGIxZDkyYzNmZmYwYmFiZTJkNjkpCiAgICAgICAgOwoKICAgICAgICAKICAgIAogICAgCiAgICAgICAgICAgIHZhciBtYXJrZXJfNWM0NGIxNmZiMjQ0NGJmOThjYWQyMTQwOWFiNGY0M2UgPSBMLm1hcmtlcigKICAgICAgICAgICAgICAgIFs0MC43MTA1NTksIC03My45NjM0NjJdLAogICAgICAgICAgICAgICAge30KICAgICAgICAgICAgKS5hZGRUbyhtYXBfYWI1YWRkMjE1ZjQ5NDk0OGE4ZDQ3ZWYwNzA3ZDYzYmIpOwogICAgICAgIAogICAgCiAgICAgICAgdmFyIHBvcHVwXzE4NTY4NDZlODhiNjRmOTQ4MWRhZjlhMjEzNmMwZjExID0gTC5wb3B1cCh7Im1heFdpZHRoIjogIjEwMCUifSk7CgogICAgICAgIAogICAgICAgICAgICB2YXIgaHRtbF81ZTYyOTY2YzFlOTI0MWRjOTU1NzZiYWUwZmMxMjIyNSA9ICQoYDxkaXYgaWQ9Imh0bWxfNWU2Mjk2NmMxZTkyNDFkYzk1NTc2YmFlMGZjMTIyMjUiIHN0eWxlPSJ3aWR0aDogMTAwLjAlOyBoZWlnaHQ6IDEwMC4wJTsiPk1vdG9yaW5vIFBpenplcmlhIE5hcG9sZXRhbmEgUHJpY2U6ICQkIFJhdGluZzo0LjA8L2Rpdj5gKVswXTsKICAgICAgICAgICAgcG9wdXBfMTg1Njg0NmU4OGI2NGY5NDgxZGFmOWEyMTM2YzBmMTEuc2V0Q29udGVudChodG1sXzVlNjI5NjZjMWU5MjQxZGM5NTU3NmJhZTBmYzEyMjI1KTsKICAgICAgICAKCiAgICAgICAgbWFya2VyXzVjNDRiMTZmYjI0NDRiZjk4Y2FkMjE0MDlhYjRmNDNlLmJpbmRQb3B1cChwb3B1cF8xODU2ODQ2ZTg4YjY0Zjk0ODFkYWY5YTIxMzZjMGYxMSkKICAgICAgICA7CgogICAgICAgIAogICAgCiAgICAKICAgICAgICAgICAgdmFyIG1hcmtlcl9iYWVmZTAzYjdmNzE0ZjdkOTQ0OWZkZTFlNzJhZmIwNSA9IEwubWFya2VyKAogICAgICAgICAgICAgICAgWzQwLjc1OTQ5NDUxMTU1MTgzNiwgLTczLjk4NjczNDUxOTYyNjM4XSwKICAgICAgICAgICAgICAgIHt9CiAgICAgICAgICAgICkuYWRkVG8obWFwX2FiNWFkZDIxNWY0OTQ5NDhhOGQ0N2VmMDcwN2Q2M2JiKTsKICAgICAgICAKICAgIAogICAgICAgIHZhciBwb3B1cF83OWYzNmZjYjEwM2E0MTMxOWJhZjM3ZDJhZDUzOGU5ZiA9IEwucG9wdXAoeyJtYXhXaWR0aCI6ICIxMDAlIn0pOwoKICAgICAgICAKICAgICAgICAgICAgdmFyIGh0bWxfYWNhZWM0M2ZkMjBhNDAzNmJiZjYzNzA5ZmY5MDU4YWEgPSAkKGA8ZGl2IGlkPSJodG1sX2FjYWVjNDNmZDIwYTQwMzZiYmY2MzcwOWZmOTA1OGFhIiBzdHlsZT0id2lkdGg6IDEwMC4wJTsgaGVpZ2h0OiAxMDAuMCU7Ij5QYXR6ZXJpYSBQZXJmZWN0IFBpenphIFByaWNlOiAkIFJhdGluZzo0LjA8L2Rpdj5gKVswXTsKICAgICAgICAgICAgcG9wdXBfNzlmMzZmY2IxMDNhNDEzMTliYWYzN2QyYWQ1MzhlOWYuc2V0Q29udGVudChodG1sX2FjYWVjNDNmZDIwYTQwMzZiYmY2MzcwOWZmOTA1OGFhKTsKICAgICAgICAKCiAgICAgICAgbWFya2VyX2JhZWZlMDNiN2Y3MTRmN2Q5NDQ5ZmRlMWU3MmFmYjA1LmJpbmRQb3B1cChwb3B1cF83OWYzNmZjYjEwM2E0MTMxOWJhZjM3ZDJhZDUzOGU5ZikKICAgICAgICA7CgogICAgICAgIAogICAgCiAgICAKICAgICAgICAgICAgdmFyIG1hcmtlcl83YjA4NjY2ZDc4MTE0ZDY5YmZjOTYzYzY5MTJkOTRkMiA9IEwubWFya2VyKAogICAgICAgICAgICAgICAgWzQwLjczOTI1OTc1ODQ2MTIsIC03NC4wMDg4MTMwNjkyMTg3XSwKICAgICAgICAgICAgICAgIHt9CiAgICAgICAgICAgICkuYWRkVG8obWFwX2FiNWFkZDIxNWY0OTQ5NDhhOGQ0N2VmMDcwN2Q2M2JiKTsKICAgICAgICAKICAgIAogICAgICAgIHZhciBwb3B1cF9mZjVhMDdmMmFlYjU0N2VlYWM4MDQyMTAyN2Q4NjA3MiA9IEwucG9wdXAoeyJtYXhXaWR0aCI6ICIxMDAlIn0pOwoKICAgICAgICAKICAgICAgICAgICAgdmFyIGh0bWxfYmQ4NmQ4NzVhOGU5NDU0Nzg2YjZlOTQ4MWUzNzBlNWYgPSAkKGA8ZGl2IGlkPSJodG1sX2JkODZkODc1YThlOTQ1NDc4NmI2ZTk0ODFlMzcwZTVmIiBzdHlsZT0id2lkdGg6IDEwMC4wJTsgaGVpZ2h0OiAxMDAuMCU7Ij5TSU3DkiBQSVpaQSBQcmljZTogJCBSYXRpbmc6NC41PC9kaXY+YClbMF07CiAgICAgICAgICAgIHBvcHVwX2ZmNWEwN2YyYWViNTQ3ZWVhYzgwNDIxMDI3ZDg2MDcyLnNldENvbnRlbnQoaHRtbF9iZDg2ZDg3NWE4ZTk0NTQ3ODZiNmU5NDgxZTM3MGU1Zik7CiAgICAgICAgCgogICAgICAgIG1hcmtlcl83YjA4NjY2ZDc4MTE0ZDY5YmZjOTYzYzY5MTJkOTRkMi5iaW5kUG9wdXAocG9wdXBfZmY1YTA3ZjJhZWI1NDdlZWFjODA0MjEwMjdkODYwNzIpCiAgICAgICAgOwoKICAgICAgICAKICAgIAogICAgCiAgICAgICAgICAgIHZhciBtYXJrZXJfMjk2MzZjODliNjI1NGE0ZWE2YjdmZjdhYzYwZTM4MTIgPSBMLm1hcmtlcigKICAgICAgICAgICAgICAgIFs0MC42MzAyMjY2NzE4ODk2LCAtNzQuMTQwMjc1NDkzMzQ0OF0sCiAgICAgICAgICAgICAgICB7fQogICAgICAgICAgICApLmFkZFRvKG1hcF9hYjVhZGQyMTVmNDk0OTQ4YThkNDdlZjA3MDdkNjNiYik7CiAgICAgICAgCiAgICAKICAgICAgICB2YXIgcG9wdXBfYzhkODQyNGMwMmZhNDIyOGIxMTBmYWFiM2YyMzc2ZjggPSBMLnBvcHVwKHsibWF4V2lkdGgiOiAiMTAwJSJ9KTsKCiAgICAgICAgCiAgICAgICAgICAgIHZhciBodG1sX2Q1M2ZiNzFkOGNjMTRkNjQ5YmQ5NGE2ZDE3YWZkZTQzID0gJChgPGRpdiBpZD0iaHRtbF9kNTNmYjcxZDhjYzE0ZDY0OWJkOTRhNmQxN2FmZGU0MyIgc3R5bGU9IndpZHRoOiAxMDAuMCU7IGhlaWdodDogMTAwLjAlOyI+RGVuaW5vcyBQaXp6ZXJpYSAmIFRhdmVybiBQcmljZTogJCQgUmF0aW5nOjQuMDwvZGl2PmApWzBdOwogICAgICAgICAgICBwb3B1cF9jOGQ4NDI0YzAyZmE0MjI4YjExMGZhYWIzZjIzNzZmOC5zZXRDb250ZW50KGh0bWxfZDUzZmI3MWQ4Y2MxNGQ2NDliZDk0YTZkMTdhZmRlNDMpOwogICAgICAgIAoKICAgICAgICBtYXJrZXJfMjk2MzZjODliNjI1NGE0ZWE2YjdmZjdhYzYwZTM4MTIuYmluZFBvcHVwKHBvcHVwX2M4ZDg0MjRjMDJmYTQyMjhiMTEwZmFhYjNmMjM3NmY4KQogICAgICAgIDsKCiAgICAgICAgCiAgICAKICAgIAogICAgICAgICAgICB2YXIgbWFya2VyXzNhYjZmMzlhOTZhNTQ0ZmRhN2JjNDQ4OGQxODJjNTY1ID0gTC5tYXJrZXIoCiAgICAgICAgICAgICAgICBbNDAuNzA3NDkyLCAtNzQuMDAyNTcxXSwKICAgICAgICAgICAgICAgIHt9CiAgICAgICAgICAgICkuYWRkVG8obWFwX2FiNWFkZDIxNWY0OTQ5NDhhOGQ0N2VmMDcwN2Q2M2JiKTsKICAgICAgICAKICAgIAogICAgICAgIHZhciBwb3B1cF9jMGYyOGE3YjQxMDE0ZGM3YTIyNDdmZTYzYzk2YzIzNSA9IEwucG9wdXAoeyJtYXhXaWR0aCI6ICIxMDAlIn0pOwoKICAgICAgICAKICAgICAgICAgICAgdmFyIGh0bWxfMGMxMDI3MzVkOWJkNGRiYWFiN2E4NzcwZjhjMDMwM2YgPSAkKGA8ZGl2IGlkPSJodG1sXzBjMTAyNzM1ZDliZDRkYmFhYjdhODc3MGY4YzAzMDNmIiBzdHlsZT0id2lkdGg6IDEwMC4wJTsgaGVpZ2h0OiAxMDAuMCU7Ij5JTCBCcmlnYW50ZSBQcmljZTogJCQgUmF0aW5nOjQuMDwvZGl2PmApWzBdOwogICAgICAgICAgICBwb3B1cF9jMGYyOGE3YjQxMDE0ZGM3YTIyNDdmZTYzYzk2YzIzNS5zZXRDb250ZW50KGh0bWxfMGMxMDI3MzVkOWJkNGRiYWFiN2E4NzcwZjhjMDMwM2YpOwogICAgICAgIAoKICAgICAgICBtYXJrZXJfM2FiNmYzOWE5NmE1NDRmZGE3YmM0NDg4ZDE4MmM1NjUuYmluZFBvcHVwKHBvcHVwX2MwZjI4YTdiNDEwMTRkYzdhMjI0N2ZlNjNjOTZjMjM1KQogICAgICAgIDsKCiAgICAgICAgCiAgICAKICAgIAogICAgICAgICAgICB2YXIgbWFya2VyX2VhM2Y1NTNkNGNiMTRmNmY5OGIxODM4OGUxODM1MTJkID0gTC5tYXJrZXIoCiAgICAgICAgICAgICAgICBbNDAuNzAzMTM3LCAtNzMuOTkzNjA4XSwKICAgICAgICAgICAgICAgIHt9CiAgICAgICAgICAgICkuYWRkVG8obWFwX2FiNWFkZDIxNWY0OTQ5NDhhOGQ0N2VmMDcwN2Q2M2JiKTsKICAgICAgICAKICAgIAogICAgICAgIHZhciBwb3B1cF9lNjI4ZTYxMTFiYzE0NjNhOTU4YzdmYjQ5YjRmNTI2MCA9IEwucG9wdXAoeyJtYXhXaWR0aCI6ICIxMDAlIn0pOwoKICAgICAgICAKICAgICAgICAgICAgdmFyIGh0bWxfYTc0MGU3NTI1NDQ3NGU3MDg2NmZmODFhMTNiNjgzYWYgPSAkKGA8ZGl2IGlkPSJodG1sX2E3NDBlNzUyNTQ0NzRlNzA4NjZmZjgxYTEzYjY4M2FmIiBzdHlsZT0id2lkdGg6IDEwMC4wJTsgaGVpZ2h0OiAxMDAuMCU7Ij5JZ25hemlvJ3MgUHJpY2U6ICQkIFJhdGluZzozLjU8L2Rpdj5gKVswXTsKICAgICAgICAgICAgcG9wdXBfZTYyOGU2MTExYmMxNDYzYTk1OGM3ZmI0OWI0ZjUyNjAuc2V0Q29udGVudChodG1sX2E3NDBlNzUyNTQ0NzRlNzA4NjZmZjgxYTEzYjY4M2FmKTsKICAgICAgICAKCiAgICAgICAgbWFya2VyX2VhM2Y1NTNkNGNiMTRmNmY5OGIxODM4OGUxODM1MTJkLmJpbmRQb3B1cChwb3B1cF9lNjI4ZTYxMTFiYzE0NjNhOTU4YzdmYjQ5YjRmNTI2MCkKICAgICAgICA7CgogICAgICAgIAogICAgCiAgICAKICAgICAgICAgICAgdmFyIG1hcmtlcl83MjJkZmRkMWFhMTM0MGJiYmY3NjliMmY4OThhNzI3YSA9IEwubWFya2VyKAogICAgICAgICAgICAgICAgWzQwLjc1NTA5MTIsIC03My45OTExNDk0XSwKICAgICAgICAgICAgICAgIHt9CiAgICAgICAgICAgICkuYWRkVG8obWFwX2FiNWFkZDIxNWY0OTQ5NDhhOGQ0N2VmMDcwN2Q2M2JiKTsKICAgICAgICAKICAgIAogICAgICAgIHZhciBwb3B1cF84ODI1MGM2YTIwNGI0YzM2YmUyM2QxNThkOGMyOTk5NiA9IEwucG9wdXAoeyJtYXhXaWR0aCI6ICIxMDAlIn0pOwoKICAgICAgICAKICAgICAgICAgICAgdmFyIGh0bWxfMTk1Yjk3ZDg3NDM3NDMwYTgyMGZjOTA1YjRjNDY2Y2YgPSAkKGA8ZGl2IGlkPSJodG1sXzE5NWI5N2Q4NzQzNzQzMGE4MjBmYzkwNWI0YzQ2NmNmIiBzdHlsZT0id2lkdGg6IDEwMC4wJTsgaGVpZ2h0OiAxMDAuMCU7Ij5VcHNpZGUgUGl6emEgUHJpY2U6ICQgUmF0aW5nOjMuNTwvZGl2PmApWzBdOwogICAgICAgICAgICBwb3B1cF84ODI1MGM2YTIwNGI0YzM2YmUyM2QxNThkOGMyOTk5Ni5zZXRDb250ZW50KGh0bWxfMTk1Yjk3ZDg3NDM3NDMwYTgyMGZjOTA1YjRjNDY2Y2YpOwogICAgICAgIAoKICAgICAgICBtYXJrZXJfNzIyZGZkZDFhYTEzNDBiYmJmNzY5YjJmODk4YTcyN2EuYmluZFBvcHVwKHBvcHVwXzg4MjUwYzZhMjA0YjRjMzZiZTIzZDE1OGQ4YzI5OTk2KQogICAgICAgIDsKCiAgICAgICAgCiAgICAKICAgIAogICAgICAgICAgICB2YXIgbWFya2VyXzNjYTUyMzZhNGFiMTQ1OTNiNWE1NTUzY2E4MjU1NDUzID0gTC5tYXJrZXIoCiAgICAgICAgICAgICAgICBbNDAuNjg3NTE1NDc5MjIzNiwgLTczLjk1OTg3NDQ2OTYxMV0sCiAgICAgICAgICAgICAgICB7fQogICAgICAgICAgICApLmFkZFRvKG1hcF9hYjVhZGQyMTVmNDk0OTQ4YThkNDdlZjA3MDdkNjNiYik7CiAgICAgICAgCiAgICAKICAgICAgICB2YXIgcG9wdXBfNjU4OTFiNjk4MDcyNDU4OTgxNzExMjY0YmFlZjRiZWMgPSBMLnBvcHVwKHsibWF4V2lkdGgiOiAiMTAwJSJ9KTsKCiAgICAgICAgCiAgICAgICAgICAgIHZhciBodG1sX2E3ODhhNzRiMGEyYTQ2ZjA4MWMwYTlhMjE5MzIyYTRiID0gJChgPGRpdiBpZD0iaHRtbF9hNzg4YTc0YjBhMmE0NmYwODFjMGE5YTIxOTMyMmE0YiIgc3R5bGU9IndpZHRoOiAxMDAuMCU7IGhlaWdodDogMTAwLjAlOyI+U3BlZWR5IFJvbWVvIFByaWNlOiAkJCBSYXRpbmc6NC4wPC9kaXY+YClbMF07CiAgICAgICAgICAgIHBvcHVwXzY1ODkxYjY5ODA3MjQ1ODk4MTcxMTI2NGJhZWY0YmVjLnNldENvbnRlbnQoaHRtbF9hNzg4YTc0YjBhMmE0NmYwODFjMGE5YTIxOTMyMmE0Yik7CiAgICAgICAgCgogICAgICAgIG1hcmtlcl8zY2E1MjM2YTRhYjE0NTkzYjVhNTU1M2NhODI1NTQ1My5iaW5kUG9wdXAocG9wdXBfNjU4OTFiNjk4MDcyNDU4OTgxNzExMjY0YmFlZjRiZWMpCiAgICAgICAgOwoKICAgICAgICAKICAgIAogICAgCiAgICAgICAgICAgIHZhciBtYXJrZXJfOTc0NzNiYTFlMGMwNDM2Mjg2MGJmMjFhZDU4ZjI3MmMgPSBMLm1hcmtlcigKICAgICAgICAgICAgICAgIFs0MC43MjQ3NCwgLTczLjk4MTYxXSwKICAgICAgICAgICAgICAgIHt9CiAgICAgICAgICAgICkuYWRkVG8obWFwX2FiNWFkZDIxNWY0OTQ5NDhhOGQ0N2VmMDcwN2Q2M2JiKTsKICAgICAgICAKICAgIAogICAgICAgIHZhciBwb3B1cF9iNmUzNWY3YTlkYWI0MjNmODQzZTU4N2VkYzk1ZjYwOSA9IEwucG9wdXAoeyJtYXhXaWR0aCI6ICIxMDAlIn0pOwoKICAgICAgICAKICAgICAgICAgICAgdmFyIGh0bWxfMTU4NDJjODMwY2Q5NGZkMzkwMTM4NmQyYmE2OWY1ZTcgPSAkKGA8ZGl2IGlkPSJodG1sXzE1ODQyYzgzMGNkOTRmZDM5MDEzODZkMmJhNjlmNWU3IiBzdHlsZT0id2lkdGg6IDEwMC4wJTsgaGVpZ2h0OiAxMDAuMCU7Ij5HcnVwcG8gUHJpY2U6ICQkIFJhdGluZzo0LjA8L2Rpdj5gKVswXTsKICAgICAgICAgICAgcG9wdXBfYjZlMzVmN2E5ZGFiNDIzZjg0M2U1ODdlZGM5NWY2MDkuc2V0Q29udGVudChodG1sXzE1ODQyYzgzMGNkOTRmZDM5MDEzODZkMmJhNjlmNWU3KTsKICAgICAgICAKCiAgICAgICAgbWFya2VyXzk3NDczYmExZTBjMDQzNjI4NjBiZjIxYWQ1OGYyNzJjLmJpbmRQb3B1cChwb3B1cF9iNmUzNWY3YTlkYWI0MjNmODQzZTU4N2VkYzk1ZjYwOSkKICAgICAgICA7CgogICAgICAgIAogICAgCiAgICAKICAgICAgICAgICAgdmFyIG1hcmtlcl9mOWI4NTBmMjVmMjA0OWFlOTZhZTJmMDBkMWRiZjhmOSA9IEwubWFya2VyKAogICAgICAgICAgICAgICAgWzQwLjcxMzM4LCAtNzMuOTUxMzZdLAogICAgICAgICAgICAgICAge30KICAgICAgICAgICAgKS5hZGRUbyhtYXBfYWI1YWRkMjE1ZjQ5NDk0OGE4ZDQ3ZWYwNzA3ZDYzYmIpOwogICAgICAgIAogICAgCiAgICAgICAgdmFyIHBvcHVwXzU3YjM3ZDY2NDYxYzQyZTk4MWZiZDJiNjM0MTUzNTNjID0gTC5wb3B1cCh7Im1heFdpZHRoIjogIjEwMCUifSk7CgogICAgICAgIAogICAgICAgICAgICB2YXIgaHRtbF9lNjc5NzUyNTJkMDk0YTAyYWJmNjFkZmVmMWE1NmY3NSA9ICQoYDxkaXYgaWQ9Imh0bWxfZTY3OTc1MjUyZDA5NGEwMmFiZjYxZGZlZjFhNTZmNzUiIHN0eWxlPSJ3aWR0aDogMTAwLjAlOyBoZWlnaHQ6IDEwMC4wJTsiPk1vbnRlc2Fjcm8gUGluc2VyaWEgQnJvb2tseW4gUHJpY2U6ICQkIFJhdGluZzo0LjU8L2Rpdj5gKVswXTsKICAgICAgICAgICAgcG9wdXBfNTdiMzdkNjY0NjFjNDJlOTgxZmJkMmI2MzQxNTM1M2Muc2V0Q29udGVudChodG1sX2U2Nzk3NTI1MmQwOTRhMDJhYmY2MWRmZWYxYTU2Zjc1KTsKICAgICAgICAKCiAgICAgICAgbWFya2VyX2Y5Yjg1MGYyNWYyMDQ5YWU5NmFlMmYwMGQxZGJmOGY5LmJpbmRQb3B1cChwb3B1cF81N2IzN2Q2NjQ2MWM0MmU5ODFmYmQyYjYzNDE1MzUzYykKICAgICAgICA7CgogICAgICAgIAogICAgCiAgICAKICAgICAgICAgICAgdmFyIG1hcmtlcl9lNTFmNWY1MzM1NTk0NzE3YTEwYmU4ZjA1ZjAzOWUwZiA9IEwubWFya2VyKAogICAgICAgICAgICAgICAgWzQwLjcwOTMzLCAtNzMuOTU0MDddLAogICAgICAgICAgICAgICAge30KICAgICAgICAgICAgKS5hZGRUbyhtYXBfYWI1YWRkMjE1ZjQ5NDk0OGE4ZDQ3ZWYwNzA3ZDYzYmIpOwogICAgICAgIAogICAgCiAgICAgICAgdmFyIHBvcHVwXzQwNWQ4MDBkNjMzODQ0YjlhOGNlZTYwODM2NmRlMWYwID0gTC5wb3B1cCh7Im1heFdpZHRoIjogIjEwMCUifSk7CgogICAgICAgIAogICAgICAgICAgICB2YXIgaHRtbF9iYWY5ZTM4ODk3OGM0OGQ3OTk4NzcyNDk0NDgzYTNjMCA9ICQoYDxkaXYgaWQ9Imh0bWxfYmFmOWUzODg5NzhjNDhkNzk5ODc3MjQ5NDQ4M2EzYzAiIHN0eWxlPSJ3aWR0aDogMTAwLjAlOyBoZWlnaHQ6IDEwMC4wJTsiPkRvdWdoIFZhbGUgUHJpY2U6ICQkIFJhdGluZzo0LjU8L2Rpdj5gKVswXTsKICAgICAgICAgICAgcG9wdXBfNDA1ZDgwMGQ2MzM4NDRiOWE4Y2VlNjA4MzY2ZGUxZjAuc2V0Q29udGVudChodG1sX2JhZjllMzg4OTc4YzQ4ZDc5OTg3NzI0OTQ0ODNhM2MwKTsKICAgICAgICAKCiAgICAgICAgbWFya2VyX2U1MWY1ZjUzMzU1OTQ3MTdhMTBiZThmMDVmMDM5ZTBmLmJpbmRQb3B1cChwb3B1cF80MDVkODAwZDYzMzg0NGI5YThjZWU2MDgzNjZkZTFmMCkKICAgICAgICA7CgogICAgICAgIAogICAgCiAgICAKICAgICAgICAgICAgdmFyIG1hcmtlcl9hNzE5NWU5ZTU0YTI0NTQ1OTM3ZjZjYzk3YWM1ZTg4ZCA9IEwubWFya2VyKAogICAgICAgICAgICAgICAgWzQwLjc4NjY2LCAtNzMuOTc1OTldLAogICAgICAgICAgICAgICAge30KICAgICAgICAgICAgKS5hZGRUbyhtYXBfYWI1YWRkMjE1ZjQ5NDk0OGE4ZDQ3ZWYwNzA3ZDYzYmIpOwogICAgICAgIAogICAgCiAgICAgICAgdmFyIHBvcHVwXzEwYWIwMDNkN2M1YjQ2Y2VhYjBlNzhjOGVlNTk5NWQ1ID0gTC5wb3B1cCh7Im1heFdpZHRoIjogIjEwMCUifSk7CgogICAgICAgIAogICAgICAgICAgICB2YXIgaHRtbF8xNGM5MzQ0ZmE2Yzg0YmFmODJkMTI0NTI2OTgzNmEyMCA9ICQoYDxkaXYgaWQ9Imh0bWxfMTRjOTM0NGZhNmM4NGJhZjgyZDEyNDUyNjk4MzZhMjAiIHN0eWxlPSJ3aWR0aDogMTAwLjAlOyBoZWlnaHQ6IDEwMC4wJTsiPkNlbGVzdGUgUmVzdGF1cmFudCBQcmljZTogJCQgUmF0aW5nOjMuNTwvZGl2PmApWzBdOwogICAgICAgICAgICBwb3B1cF8xMGFiMDAzZDdjNWI0NmNlYWIwZTc4YzhlZTU5OTVkNS5zZXRDb250ZW50KGh0bWxfMTRjOTM0NGZhNmM4NGJhZjgyZDEyNDUyNjk4MzZhMjApOwogICAgICAgIAoKICAgICAgICBtYXJrZXJfYTcxOTVlOWU1NGEyNDU0NTkzN2Y2Y2M5N2FjNWU4OGQuYmluZFBvcHVwKHBvcHVwXzEwYWIwMDNkN2M1YjQ2Y2VhYjBlNzhjOGVlNTk5NWQ1KQogICAgICAgIDsKCiAgICAgICAgCiAgICAKICAgIAogICAgICAgICAgICB2YXIgbWFya2VyXzUwNjRlZDBiNDE1ZDQ3ZTc5ZGI1OTM5YWU1ZjA4YzVjID0gTC5tYXJrZXIoCiAgICAgICAgICAgICAgICBbNDAuNjcwNjY0LCAtNzMuOTkxMzcxXSwKICAgICAgICAgICAgICAgIHt9CiAgICAgICAgICAgICkuYWRkVG8obWFwX2FiNWFkZDIxNWY0OTQ5NDhhOGQ0N2VmMDcwN2Q2M2JiKTsKICAgICAgICAKICAgIAogICAgICAgIHZhciBwb3B1cF80NTVhZWI1MTdlYTI0Yjc4OWZkOGIzMWNjMWNkMGEyZSA9IEwucG9wdXAoeyJtYXhXaWR0aCI6ICIxMDAlIn0pOwoKICAgICAgICAKICAgICAgICAgICAgdmFyIGh0bWxfYWM2ZmZiYmE5NzZjNGEyNDlmYjUwMmVjODlhZTE0M2MgPSAkKGA8ZGl2IGlkPSJodG1sX2FjNmZmYmJhOTc2YzRhMjQ5ZmI1MDJlYzg5YWUxNDNjIiBzdHlsZT0id2lkdGg6IDEwMC4wJTsgaGVpZ2h0OiAxMDAuMCU7Ij5UYWJsZSA4NyAtIEdvd2FudXMgUHJpY2U6ICQkIFJhdGluZzo0LjA8L2Rpdj5gKVswXTsKICAgICAgICAgICAgcG9wdXBfNDU1YWViNTE3ZWEyNGI3ODlmZDhiMzFjYzFjZDBhMmUuc2V0Q29udGVudChodG1sX2FjNmZmYmJhOTc2YzRhMjQ5ZmI1MDJlYzg5YWUxNDNjKTsKICAgICAgICAKCiAgICAgICAgbWFya2VyXzUwNjRlZDBiNDE1ZDQ3ZTc5ZGI1OTM5YWU1ZjA4YzVjLmJpbmRQb3B1cChwb3B1cF80NTVhZWI1MTdlYTI0Yjc4OWZkOGIzMWNjMWNkMGEyZSkKICAgICAgICA7CgogICAgICAgIAogICAgCiAgICAKICAgICAgICAgICAgdmFyIG1hcmtlcl9lZGVmZTJhNTE1MDg0ZDdlODI1OTQzY2RkNDhlMzliOSA9IEwubWFya2VyKAogICAgICAgICAgICAgICAgWzQwLjcxMzk0OTksIC03My45NTU2M10sCiAgICAgICAgICAgICAgICB7fQogICAgICAgICAgICApLmFkZFRvKG1hcF9hYjVhZGQyMTVmNDk0OTQ4YThkNDdlZjA3MDdkNjNiYik7CiAgICAgICAgCiAgICAKICAgICAgICB2YXIgcG9wdXBfYTA1ZDUxNWEzNGI5NDcyNThjNmU0ZjJiMjk1YzUzNjIgPSBMLnBvcHVwKHsibWF4V2lkdGgiOiAiMTAwJSJ9KTsKCiAgICAgICAgCiAgICAgICAgICAgIHZhciBodG1sX2NlNDk5M2RhNzA4NzQ3YzU4NzM5MTMyNzMxNzUzOWQzID0gJChgPGRpdiBpZD0iaHRtbF9jZTQ5OTNkYTcwODc0N2M1ODczOTEzMjczMTc1MzlkMyIgc3R5bGU9IndpZHRoOiAxMDAuMCU7IGhlaWdodDogMTAwLjAlOyI+Um9zYSdzIFBpenphIFByaWNlOiAkIFJhdGluZzo0LjU8L2Rpdj5gKVswXTsKICAgICAgICAgICAgcG9wdXBfYTA1ZDUxNWEzNGI5NDcyNThjNmU0ZjJiMjk1YzUzNjIuc2V0Q29udGVudChodG1sX2NlNDk5M2RhNzA4NzQ3YzU4NzM5MTMyNzMxNzUzOWQzKTsKICAgICAgICAKCiAgICAgICAgbWFya2VyX2VkZWZlMmE1MTUwODRkN2U4MjU5NDNjZGQ0OGUzOWI5LmJpbmRQb3B1cChwb3B1cF9hMDVkNTE1YTM0Yjk0NzI1OGM2ZTRmMmIyOTVjNTM2MikKICAgICAgICA7CgogICAgICAgIAogICAgCiAgICAKICAgICAgICAgICAgdmFyIG1hcmtlcl9iOGM5NmQ5MjVkMjM0N2QzYjhlNTdjMjVkNTU5ZTQwNyA9IEwubWFya2VyKAogICAgICAgICAgICAgICAgWzQwLjY5Mjg3MzUzNDA3NzYsIC03NC4wMDE2OTMyMjgwOTcyXSwKICAgICAgICAgICAgICAgIHt9CiAgICAgICAgICAgICkuYWRkVG8obWFwX2FiNWFkZDIxNWY0OTQ5NDhhOGQ0N2VmMDcwN2Q2M2JiKTsKICAgICAgICAKICAgIAogICAgICAgIHZhciBwb3B1cF85Yzg1MGJkNTkwYzI0M2E2YWM3Mjg1ZGExNWE2Mjk3MiA9IEwucG9wdXAoeyJtYXhXaWR0aCI6ICIxMDAlIn0pOwoKICAgICAgICAKICAgICAgICAgICAgdmFyIGh0bWxfNDZhMzRiZDE3YWNmNDc3NzkzYzBiOTA0MTA1NTFkZmMgPSAkKGA8ZGl2IGlkPSJodG1sXzQ2YTM0YmQxN2FjZjQ3Nzc5M2MwYjkwNDEwNTUxZGZjIiBzdHlsZT0id2lkdGg6IDEwMC4wJTsgaGVpZ2h0OiAxMDAuMCU7Ij5Gb3JuaW5vIFByaWNlOiAkJCBSYXRpbmc6NC4wPC9kaXY+YClbMF07CiAgICAgICAgICAgIHBvcHVwXzljODUwYmQ1OTBjMjQzYTZhYzcyODVkYTE1YTYyOTcyLnNldENvbnRlbnQoaHRtbF80NmEzNGJkMTdhY2Y0Nzc3OTNjMGI5MDQxMDU1MWRmYyk7CiAgICAgICAgCgogICAgICAgIG1hcmtlcl9iOGM5NmQ5MjVkMjM0N2QzYjhlNTdjMjVkNTU5ZTQwNy5iaW5kUG9wdXAocG9wdXBfOWM4NTBiZDU5MGMyNDNhNmFjNzI4NWRhMTVhNjI5NzIpCiAgICAgICAgOwoKICAgICAgICAKICAgIAogICAgCiAgICAgICAgICAgIHZhciBtYXJrZXJfYTdjMWYzOTY1NzBiNDY5Zjg4NjU4NmVjZWRhNjljZDggPSBMLm1hcmtlcigKICAgICAgICAgICAgICAgIFs0MC43MjA0ODk0LCAtNzMuOTg5MjddLAogICAgICAgICAgICAgICAge30KICAgICAgICAgICAgKS5hZGRUbyhtYXBfYWI1YWRkMjE1ZjQ5NDk0OGE4ZDQ3ZWYwNzA3ZDYzYmIpOwogICAgICAgIAogICAgCiAgICAgICAgdmFyIHBvcHVwXzQwN2RmOTcwYTFkMDQ4OWE4NzJiZDcwZjcwNjAxMjllID0gTC5wb3B1cCh7Im1heFdpZHRoIjogIjEwMCUifSk7CgogICAgICAgIAogICAgICAgICAgICB2YXIgaHRtbF84NTY0OTFjZWE5MjE0NmQwOTFkMTZiN2E3YmE1ZDliNSA9ICQoYDxkaXYgaWQ9Imh0bWxfODU2NDkxY2VhOTIxNDZkMDkxZDE2YjdhN2JhNWQ5YjUiIHN0eWxlPSJ3aWR0aDogMTAwLjAlOyBoZWlnaHQ6IDEwMC4wJTsiPlNhdWNlIFBpenplcmlhIFByaWNlOiAkIFJhdGluZzo0LjA8L2Rpdj5gKVswXTsKICAgICAgICAgICAgcG9wdXBfNDA3ZGY5NzBhMWQwNDg5YTg3MmJkNzBmNzA2MDEyOWUuc2V0Q29udGVudChodG1sXzg1NjQ5MWNlYTkyMTQ2ZDA5MWQxNmI3YTdiYTVkOWI1KTsKICAgICAgICAKCiAgICAgICAgbWFya2VyX2E3YzFmMzk2NTcwYjQ2OWY4ODY1ODZlY2VkYTY5Y2Q4LmJpbmRQb3B1cChwb3B1cF80MDdkZjk3MGExZDA0ODlhODcyYmQ3MGY3MDYwMTI5ZSkKICAgICAgICA7CgogICAgICAgIAogICAgCiAgICAKICAgICAgICAgICAgdmFyIG1hcmtlcl85ZjBlMWIyOTFjOGY0YTgzYTBhZmIwNTEwOGQxNzM1MiA9IEwubWFya2VyKAogICAgICAgICAgICAgICAgWzQwLjcxMDkxNTQzMTQxODEsIC03My45NjczNjM3NzExNjM5XSwKICAgICAgICAgICAgICAgIHt9CiAgICAgICAgICAgICkuYWRkVG8obWFwX2FiNWFkZDIxNWY0OTQ5NDhhOGQ0N2VmMDcwN2Q2M2JiKTsKICAgICAgICAKICAgIAogICAgICAgIHZhciBwb3B1cF8yNzhkYTZiNWU4NjM0ODQ2YWNkNTA2YTZkZGQ4ODQzZSA9IEwucG9wdXAoeyJtYXhXaWR0aCI6ICIxMDAlIn0pOwoKICAgICAgICAKICAgICAgICAgICAgdmFyIGh0bWxfY2Q0ZmEwYzBiYzdjNDUyMzk3NzE0ZTE5MGQzOGMwMjIgPSAkKGA8ZGl2IGlkPSJodG1sX2NkNGZhMGMwYmM3YzQ1MjM5NzcxNGUxOTBkMzhjMDIyIiBzdHlsZT0id2lkdGg6IDEwMC4wJTsgaGVpZ2h0OiAxMDAuMCU7Ij5QYXRyaXppYSdzIC0gV2lsbGlhbXNidXJnIFByaWNlOiAkJCBSYXRpbmc6NC4wPC9kaXY+YClbMF07CiAgICAgICAgICAgIHBvcHVwXzI3OGRhNmI1ZTg2MzQ4NDZhY2Q1MDZhNmRkZDg4NDNlLnNldENvbnRlbnQoaHRtbF9jZDRmYTBjMGJjN2M0NTIzOTc3MTRlMTkwZDM4YzAyMik7CiAgICAgICAgCgogICAgICAgIG1hcmtlcl85ZjBlMWIyOTFjOGY0YTgzYTBhZmIwNTEwOGQxNzM1Mi5iaW5kUG9wdXAocG9wdXBfMjc4ZGE2YjVlODYzNDg0NmFjZDUwNmE2ZGRkODg0M2UpCiAgICAgICAgOwoKICAgICAgICAKICAgIAo8L3NjcmlwdD4= onload=\"this.contentDocument.open();this.contentDocument.write(atob(this.getAttribute('data-html')));this.contentDocument.close();\" allowfullscreen webkitallowfullscreen mozallowfullscreen></iframe></div></div>"
      ],
      "text/plain": [
       "<folium.folium.Map at 0x2c4fd528340>"
      ]
     },
     "execution_count": 51,
     "metadata": {},
     "output_type": "execute_result"
    }
   ],
   "source": [
    "# Replace None with appropriate code\n",
    "\n",
    "# Import the library\n",
    "import folium\n",
    "\n",
    "# Set up center latitude and longitude\n",
    "center_lat = full_dataset[0]['latitude']\n",
    "center_long = full_dataset[0]['longitude']\n",
    "\n",
    "# Initialize map with center lat and long\n",
    "yelp_map = folium.Map([center_lat, center_long], zoom_start=13)\n",
    "\n",
    "# Adjust this limit to see more or fewer businesses\n",
    "limit=100\n",
    "\n",
    "for business in full_dataset[:limit]:\n",
    "    # Extract information about business\n",
    "    lat = business['latitude']\n",
    "    long = business['longitude']\n",
    "    name = business['name']\n",
    "    rating = business['rating']\n",
    "    price = business['price']\n",
    "    details = \"{}\\nPrice: {} Rating:{}\".format(name,price,rating)\n",
    "    \n",
    "    # Create popup with relevant details\n",
    "    popup = folium.Popup(details)\n",
    "    \n",
    "    # Create marker with relevant lat/long and popup\n",
    "    marker = folium.Marker(location=[lat, long], popup=popup)\n",
    "    \n",
    "    marker.add_to(yelp_map)\n",
    "    \n",
    "yelp_map"
   ]
  },
  {
   "cell_type": "markdown",
   "metadata": {},
   "source": [
    "## Summary\n",
    "\n",
    "Nice work! In this lab, you've made multiple API calls to Yelp in order to paginate through a results set, performing some basic exploratory analysis and then creating a nice interactive map to display the results using Folium! Well done!"
   ]
  }
 ],
 "metadata": {
  "kernelspec": {
   "display_name": "Python 3",
   "language": "python",
   "name": "python3"
  },
  "language_info": {
   "codemirror_mode": {
    "name": "ipython",
    "version": 3
   },
   "file_extension": ".py",
   "mimetype": "text/x-python",
   "name": "python",
   "nbconvert_exporter": "python",
   "pygments_lexer": "ipython3",
   "version": "3.8.5"
  },
  "toc": {
   "base_numbering": 1,
   "nav_menu": {},
   "number_sections": true,
   "sideBar": true,
   "skip_h1_title": false,
   "title_cell": "Table of Contents",
   "title_sidebar": "Contents",
   "toc_cell": false,
   "toc_position": {},
   "toc_section_display": true,
   "toc_window_display": false
  }
 },
 "nbformat": 4,
 "nbformat_minor": 2
}
